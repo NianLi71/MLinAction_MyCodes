{
 "cells": [
  {
   "cell_type": "markdown",
   "metadata": {},
   "source": [
    "### 一维数据 可视化reg tree"
   ]
  },
  {
   "cell_type": "code",
   "execution_count": 1,
   "metadata": {},
   "outputs": [
    {
     "name": "stdout",
     "output_type": "stream",
     "text": [
      "Pretty printing has been turned OFF\n"
     ]
    }
   ],
   "source": [
    "import numpy as np\n",
    "import matplotlib.pyplot as plt\n",
    "from sklearn import tree\n",
    "from pprint import pprint\n",
    "%matplotlib inline\n",
    "%pprint   # use %pprint command to turn on/off pprint feature:"
   ]
  },
  {
   "cell_type": "markdown",
   "metadata": {},
   "source": [
    "### test on random.rand ~ N(0, 1)\n",
    "\n",
    "random.rand ~ N(0, 1) 服从正态分布，通过大量采样计算mean var验证"
   ]
  },
  {
   "cell_type": "code",
   "execution_count": 2,
   "metadata": {},
   "outputs": [
    {
     "data": {
      "text/plain": [
       "array([ 0.90528124, -0.3774405 , -1.2968349 ,  0.10869387, -1.27164644,\n",
       "       -0.52755956, -0.73767927,  0.34776689,  0.84957086,  1.97635081,\n",
       "       -0.15998134,  1.78773257, -0.32675676,  0.05848821,  1.38697373,\n",
       "       -0.18125524, -1.58857848, -1.59660218,  0.68799012,  0.41224086])"
      ]
     },
     "execution_count": 2,
     "metadata": {},
     "output_type": "execute_result"
    }
   ],
   "source": [
    "x = np.random.randn(1000000)\n",
    "x[:20]"
   ]
  },
  {
   "cell_type": "code",
   "execution_count": 3,
   "metadata": {},
   "outputs": [
    {
     "data": {
      "text/plain": [
       "0.0015873121266760906"
      ]
     },
     "execution_count": 3,
     "metadata": {},
     "output_type": "execute_result"
    }
   ],
   "source": [
    "x.mean()   # expect 0附近"
   ]
  },
  {
   "cell_type": "code",
   "execution_count": 4,
   "metadata": {},
   "outputs": [
    {
     "data": {
      "text/plain": [
       "0.997537548538443"
      ]
     },
     "execution_count": 4,
     "metadata": {},
     "output_type": "execute_result"
    }
   ],
   "source": [
    "x.var()   #variance 1附近"
   ]
  },
  {
   "cell_type": "markdown",
   "metadata": {},
   "source": [
    "### generate test data"
   ]
  },
  {
   "cell_type": "code",
   "execution_count": 5,
   "metadata": {},
   "outputs": [
    {
     "name": "stdout",
     "output_type": "stream",
     "text": [
      "[ 4.65072928  5.36103634  6.48767565  5.00771902  6.02889131  5.05976499\n",
      "  4.38131266  3.91350218  5.79951629  4.06905082  4.03531249  3.34368953\n",
      "  5.323434    2.76131407  4.7419894  10.376528    9.881773   10.82205459\n",
      " 10.04819002  9.85579615 10.72391751  9.59536824  8.99245227  9.63336765\n",
      " 10.42276433 11.5388978  11.64827747 11.16534462 10.63248289 11.21752934\n",
      " 14.76482824 15.22574995 15.72503157 16.04447544 13.99954761 15.00696599\n",
      " 16.39876052 14.50322476 15.57566937 15.87476263 16.51128854 15.23577589\n",
      " 12.98491986 16.59679287 14.86546177 20.02111972 19.26985398 19.22160938\n",
      " 21.36336955 20.66370544 20.05765977 19.96210926 19.80233489 19.11885233\n",
      " 19.65130721 18.50882517 20.10318603 18.5855242  20.33423957 20.84792963]\n"
     ]
    }
   ],
   "source": [
    "\n",
    "y_arr = np.array([])\n",
    "n = 60\n",
    "center = [5, 10, 15, 20]  # 以这些数值为中心生成 label: y\n",
    "parts = len(center)\n",
    "for c in center:\n",
    "    y_arr = np.append(y_arr, np.random.randn(n//parts) + c)  # 加入一些扰动\n",
    "print(y_arr)"
   ]
  },
  {
   "cell_type": "code",
   "execution_count": 6,
   "metadata": {},
   "outputs": [
    {
     "name": "stdout",
     "output_type": "stream",
     "text": [
      "[1.11808659 3.15334267 1.22847401 5.11100358 4.25128415 3.93459133\n",
      " 5.01892753 8.86655872 8.67133703 7.87787527]\n"
     ]
    }
   ],
   "source": [
    "x_arr = np.arange(y_arr.shape[0]) + np.random.randn(y_arr.shape[0])  # 生成 data: x\n",
    "# np.random.shuffle(x_arr)\n",
    "print(x_arr[:10])"
   ]
  },
  {
   "cell_type": "code",
   "execution_count": 7,
   "metadata": {},
   "outputs": [
    {
     "name": "stdout",
     "output_type": "stream",
     "text": [
      "(60, 2)\n",
      "[[1.11808659 4.65072928]\n",
      " [3.15334267 5.36103634]\n",
      " [1.22847401 6.48767565]\n",
      " [5.11100358 5.00771902]\n",
      " [4.25128415 6.02889131]\n",
      " [3.93459133 5.05976499]\n",
      " [5.01892753 4.38131266]\n",
      " [8.86655872 3.91350218]\n",
      " [8.67133703 5.79951629]\n",
      " [7.87787527 4.06905082]]\n"
     ]
    }
   ],
   "source": [
    "D = np.stack((x_arr, y_arr), axis=1)   # 用np.stack 将x, y沿axis=1合并\n",
    "print(D.shape)\n",
    "print(D[:10])"
   ]
  },
  {
   "cell_type": "code",
   "execution_count": 8,
   "metadata": {},
   "outputs": [
    {
     "data": {
      "text/plain": [
       "<matplotlib.collections.PathCollection object at 0x109ba3630>"
      ]
     },
     "execution_count": 8,
     "metadata": {},
     "output_type": "execute_result"
    },
    {
     "data": {
      "image/png": "[encoded data removed]",
      "text/plain": [
       "<matplotlib.figure.Figure object at 0x109b7b9b0>"
      ]
     },
     "metadata": {},
     "output_type": "display_data"
    }
   ],
   "source": [
    "plt.scatter(D[:, 0], D[:, 1])"
   ]
  },
  {
   "cell_type": "markdown",
   "metadata": {},
   "source": [
    "### build regression tree"
   ]
  },
  {
   "cell_type": "code",
   "execution_count": 9,
   "metadata": {
    "collapsed": true
   },
   "outputs": [],
   "source": [
    "def split_dataset(D, value):  # dataset, splitting value\n",
    "    '''\n",
    "    根据 value 将D 划分为 >, <= 两部分\n",
    "    '''\n",
    "    D_lte = D[ D[:, 0] <= value ]\n",
    "    D_gt = D[ D[:, 0] > value]\n",
    "#     if not np.any(D_lte):\n",
    "#         D_lte = None\n",
    "#     if not np.any(D_gt):\n",
    "#         D_gt = None\n",
    "    return D_lte, D_gt\n",
    "    "
   ]
  },
  {
   "cell_type": "code",
   "execution_count": 10,
   "metadata": {
    "collapsed": true
   },
   "outputs": [],
   "source": [
    "# split_dataset(D, 0)\n",
    "# dir(split_dataset)\n",
    "# print(split_dataset.__doc__)"
   ]
  },
  {
   "cell_type": "code",
   "execution_count": 11,
   "metadata": {
    "collapsed": true
   },
   "outputs": [],
   "source": [
    "def cal_err(D):\n",
    "    '''\n",
    "    用平方误差度量训练误差\n",
    "    '''\n",
    "    if not np.any(D):  # empty array return err 0\n",
    "        return 0\n",
    "#     1.\n",
    "#     ave = np.mean(D[:, 1])\n",
    "#     return np.sum((D[:, 1] - ave)**2)\n",
    "#     2.\n",
    "    return np.var(D[:, 1]) * D.shape[0]   # 方差*N = sigma[(y-ave)**2]"
   ]
  },
  {
   "cell_type": "code",
   "execution_count": 12,
   "metadata": {
    "collapsed": true
   },
   "outputs": [],
   "source": [
    "# a = np.array([[1,1], [2, 4]])\n",
    "# cal_err(a)"
   ]
  },
  {
   "cell_type": "code",
   "execution_count": 13,
   "metadata": {
    "collapsed": true
   },
   "outputs": [],
   "source": [
    "# cal_err(D)"
   ]
  },
  {
   "cell_type": "code",
   "execution_count": 14,
   "metadata": {
    "collapsed": true
   },
   "outputs": [],
   "source": [
    "# cal_err([])"
   ]
  },
  {
   "cell_type": "code",
   "execution_count": 15,
   "metadata": {
    "collapsed": true
   },
   "outputs": [],
   "source": [
    "# D1, D2 = split_dataset(D, 10)\n",
    "# print(cal_err(D1), cal_err(D2))"
   ]
  },
  {
   "cell_type": "code",
   "execution_count": 16,
   "metadata": {
    "collapsed": true
   },
   "outputs": [],
   "source": [
    "max_depth = 3\n",
    "\n",
    "def build_reg_tree(D, depth = 1):\n",
    "#     print('-'*20)\n",
    "#     print(D, depth)\n",
    "    if depth == max_depth:\n",
    "        if np.any(D):\n",
    "            node = {'type':'end', 'value':np.mean(D[:,1])}  # 'end' node\n",
    "            return node\n",
    "        else:\n",
    "            return None\n",
    "    else:\n",
    "        min_err = np.inf  # np.inf\n",
    "        idx = -1\n",
    "        for i in range(D.shape[0]): # try all possible split value\n",
    "            D1, D2 = split_dataset(D, D[i][0])\n",
    "            total_err = cal_err(D1) + cal_err(D2)  # calculate total error\n",
    "            if total_err < min_err:\n",
    "                min_err = total_err\n",
    "                idx = i   # save best split index\n",
    "                \n",
    "        best_D1, best_D2 = split_dataset(D, D[idx][0])\n",
    "        node = {'type':'decision', 'split_x':D[idx][0], 'lte_node':None, 'gt_node':None}\n",
    "        if np.any(best_D1):\n",
    "            node['lte_node'] = build_reg_tree(best_D1, depth+1)  # built tree recursively\n",
    "        if np.any(best_D2):\n",
    "            node['gt_node'] = build_reg_tree(best_D2, depth+1)\n",
    "        return node\n",
    "                "
   ]
  },
  {
   "cell_type": "code",
   "execution_count": 17,
   "metadata": {},
   "outputs": [
    {
     "name": "stdout",
     "output_type": "stream",
     "text": [
      "{'gt_node': {'gt_node': {'type': 'end', 'value': 19.834108410277114},\n",
      "             'lte_node': {'type': 'end', 'value': 15.033174022433641},\n",
      "             'split_x': 43.49527931071111,\n",
      "             'type': 'decision'},\n",
      " 'lte_node': {'gt_node': {'type': 'end', 'value': 10.381229610527042},\n",
      "              'lte_node': {'type': 'end', 'value': 4.730995869368746},\n",
      "              'split_x': 13.277142274037509,\n",
      "              'type': 'decision'},\n",
      " 'split_x': 29.278172593730442,\n",
      " 'type': 'decision'}\n"
     ]
    }
   ],
   "source": [
    "reg_tree = build_reg_tree(D)\n",
    "pprint(reg_tree)"
   ]
  },
  {
   "cell_type": "code",
   "execution_count": 18,
   "metadata": {
    "collapsed": true
   },
   "outputs": [],
   "source": [
    "def _predict_one(node, x_test):\n",
    "    '''\n",
    "    predict one test sample\n",
    "    '''\n",
    "    if node['type'] == 'decision':\n",
    "        if x_test > node['split_x']:\n",
    "            return _predict_one(node['gt_node'], x_test)\n",
    "        else:\n",
    "            return _predict_one(node['lte_node'], x_test)\n",
    "    else: # 'end' node\n",
    "        return node['value']\n",
    "    \n",
    "def predict(node, x_test_arr):\n",
    "    '''\n",
    "    predict multiple test samples\n",
    "    x_test_arr: list or np.array\n",
    "    '''\n",
    "    res_list = []\n",
    "    for d in x_test_arr:\n",
    "        res_list.append(_predict_one(node, d))\n",
    "    return np.array(res_list)"
   ]
  },
  {
   "cell_type": "code",
   "execution_count": 19,
   "metadata": {},
   "outputs": [
    {
     "data": {
      "text/plain": [
       "4.730995869368746"
      ]
     },
     "execution_count": 19,
     "metadata": {},
     "output_type": "execute_result"
    }
   ],
   "source": [
    "# plt.scatter(D[:, 0], D[:, 1])\n",
    "_predict_one(reg_tree, 10)"
   ]
  },
  {
   "cell_type": "code",
   "execution_count": 20,
   "metadata": {},
   "outputs": [
    {
     "data": {
      "text/plain": [
       "array([ 4.73099587, 10.38122961, 15.03317402])"
      ]
     },
     "execution_count": 20,
     "metadata": {},
     "output_type": "execute_result"
    }
   ],
   "source": [
    "predict(reg_tree, [10, 20, 30])"
   ]
  },
  {
   "cell_type": "code",
   "execution_count": 21,
   "metadata": {},
   "outputs": [
    {
     "name": "stdout",
     "output_type": "stream",
     "text": [
      "predict result:  [ 4.73099587  4.73099587  4.73099587  4.73099587  4.73099587  4.73099587\n",
      "  4.73099587  4.73099587  4.73099587  4.73099587  4.73099587  4.73099587\n",
      "  4.73099587  4.73099587  4.73099587 10.38122961 10.38122961 10.38122961\n",
      " 10.38122961 10.38122961 10.38122961 10.38122961 10.38122961 10.38122961\n",
      " 10.38122961 10.38122961 10.38122961 10.38122961 10.38122961 15.03317402\n",
      " 15.03317402 15.03317402 15.03317402 15.03317402 15.03317402 15.03317402\n",
      " 15.03317402 15.03317402 15.03317402 15.03317402 15.03317402 15.03317402\n",
      " 15.03317402 15.03317402 15.03317402 19.83410841 19.83410841 19.83410841\n",
      " 19.83410841 19.83410841 19.83410841 19.83410841 19.83410841 19.83410841\n",
      " 19.83410841 19.83410841 19.83410841 19.83410841 19.83410841 19.83410841]\n",
      "ground truth:  [ 4.65072928  5.36103634  6.48767565  5.00771902  6.02889131  5.05976499\n",
      "  4.38131266  3.91350218  5.79951629  4.06905082  4.03531249  3.34368953\n",
      "  5.323434    2.76131407  4.7419894  10.376528    9.881773   10.82205459\n",
      " 10.04819002  9.85579615 10.72391751  9.59536824  8.99245227  9.63336765\n",
      " 10.42276433 11.5388978  11.64827747 11.16534462 10.63248289 11.21752934\n",
      " 14.76482824 15.22574995 15.72503157 16.04447544 13.99954761 15.00696599\n",
      " 16.39876052 14.50322476 15.57566937 15.87476263 16.51128854 15.23577589\n",
      " 12.98491986 16.59679287 14.86546177 20.02111972 19.26985398 19.22160938\n",
      " 21.36336955 20.66370544 20.05765977 19.96210926 19.80233489 19.11885233\n",
      " 19.65130721 18.50882517 20.10318603 18.5855242  20.33423957 20.84792963]\n"
     ]
    }
   ],
   "source": [
    "print('predict result: ', predict(reg_tree, D[:, 0]))\n",
    "print('ground truth: ', D[:, 1])"
   ]
  },
  {
   "cell_type": "code",
   "execution_count": 22,
   "metadata": {},
   "outputs": [
    {
     "data": {
      "text/plain": [
       "[<matplotlib.lines.Line2D object at 0x10ab9b9e8>]"
      ]
     },
     "execution_count": 22,
     "metadata": {},
     "output_type": "execute_result"
    },
    {
     "data": {
      "image/png": "[encoded data removed]",
      "text/plain": [
       "<matplotlib.figure.Figure object at 0x10ab9ba20>"
      ]
     },
     "metadata": {},
     "output_type": "display_data"
    }
   ],
   "source": [
    "plt.scatter(D[:, 0], D[:, 1])\n",
    "\n",
    "idx = np.argsort(D[:, 0])  # sort on x dim\n",
    "sorted_D = D[idx, 0]\n",
    "plt.plot(sorted_D, predict(reg_tree, sorted_D), c = 'r')   # draw regression line"
   ]
  },
  {
   "cell_type": "markdown",
   "metadata": {},
   "source": [
    "### using sklearn "
   ]
  },
  {
   "cell_type": "code",
   "execution_count": 23,
   "metadata": {
    "collapsed": true
   },
   "outputs": [],
   "source": [
    "from sklearn import tree"
   ]
  },
  {
   "cell_type": "code",
   "execution_count": 47,
   "metadata": {},
   "outputs": [
    {
     "data": {
      "text/plain": [
       "DecisionTreeRegressor(criterion='mse', max_depth=None, max_features=None,\n",
       "           max_leaf_nodes=None, min_impurity_decrease=0.0,\n",
       "           min_impurity_split=None, min_samples_leaf=1,\n",
       "           min_samples_split=2, min_weight_fraction_leaf=0.0,\n",
       "           presort=False, random_state=0, splitter='best')"
      ]
     },
     "execution_count": 47,
     "metadata": {},
     "output_type": "execute_result"
    }
   ],
   "source": [
    "clf = tree.DecisionTreeRegressor(random_state=0)\n",
    "X = D[:, 0][:, np.newaxis]\n",
    "y = D[:, 1]\n",
    "X_sorted = X[np.argsort(X, axis=0).flatten()]\n",
    "X = X_sorted\n",
    "\n",
    "clf.fit(X, y)"
   ]
  },
  {
   "cell_type": "code",
   "execution_count": 48,
   "metadata": {},
   "outputs": [
    {
     "data": {
      "text/plain": [
       "array([3.34368953, 9.85579615])"
      ]
     },
     "execution_count": 48,
     "metadata": {},
     "output_type": "execute_result"
    }
   ],
   "source": [
    "clf.predict([[10], [20]])"
   ]
  },
  {
   "cell_type": "code",
   "execution_count": 49,
   "metadata": {},
   "outputs": [
    {
     "data": {
      "text/plain": [
       "array([[0],\n",
       "       [1],\n",
       "       [2],\n",
       "       [3],\n",
       "       [4],\n",
       "       [5],\n",
       "       [6],\n",
       "       [7],\n",
       "       [8],\n",
       "       [9]])"
      ]
     },
     "execution_count": 49,
     "metadata": {},
     "output_type": "execute_result"
    }
   ],
   "source": [
    "np.argsort(X, axis=0)[:10]"
   ]
  },
  {
   "cell_type": "code",
   "execution_count": 50,
   "metadata": {
    "collapsed": true
   },
   "outputs": [],
   "source": [
    "# np.argsort(X, axis=0).flatten()"
   ]
  },
  {
   "cell_type": "code",
   "execution_count": 51,
   "metadata": {
    "collapsed": true
   },
   "outputs": [],
   "source": [
    "# X_sorted = X[np.argsort(X, axis=0).flatten()]\n",
    "# print(X[:10])\n",
    "# print(X_sorted[:10])"
   ]
  },
  {
   "cell_type": "code",
   "execution_count": 52,
   "metadata": {},
   "outputs": [
    {
     "name": "stdout",
     "output_type": "stream",
     "text": [
      "[ 4.65072928  5.36103634  6.48767565  5.00771902  6.02889131  5.05976499\n",
      "  4.38131266  3.91350218  5.79951629  4.06905082  4.03531249  3.34368953\n",
      "  5.323434    2.76131407  4.7419894  10.376528    9.881773   10.82205459\n",
      " 10.04819002  9.85579615 10.72391751  9.59536824  8.99245227  9.63336765\n",
      " 10.42276433 11.5388978  11.64827747 11.16534462 10.63248289 11.21752934\n",
      " 14.76482824 15.22574995 15.72503157 16.04447544 13.99954761 15.00696599\n",
      " 16.39876052 14.50322476 15.57566937 15.87476263 16.51128854 15.23577589\n",
      " 12.98491986 16.59679287 14.86546177 20.02111972 19.26985398 19.22160938\n",
      " 21.36336955 20.66370544 20.05765977 19.96210926 19.80233489 19.11885233\n",
      " 19.65130721 18.50882517 20.10318603 18.5855242  20.33423957 20.84792963]\n"
     ]
    }
   ],
   "source": [
    "y_predict = clf.predict(X)\n",
    "print(y_predict)"
   ]
  },
  {
   "cell_type": "code",
   "execution_count": 62,
   "metadata": {},
   "outputs": [
    {
     "data": {
      "text/plain": [
       "[<matplotlib.lines.Line2D object at 0x10b4aa588>]"
      ]
     },
     "execution_count": 62,
     "metadata": {},
     "output_type": "execute_result"
    },
    {
     "data": {
      "image/png": "[encoded data removed]",
      "text/plain": [
       "<matplotlib.figure.Figure object at 0x10af70d68>"
      ]
     },
     "metadata": {},
     "output_type": "display_data"
    }
   ],
   "source": [
    "plt.scatter(X, y)\n",
    "plt.plot(X, y_predict, c = 'r')   # we can see overfitting!!! not set maxdepth"
   ]
  },
  {
   "cell_type": "code",
   "execution_count": 63,
   "metadata": {},
   "outputs": [
    {
     "data": {
      "text/plain": [
       "1.0"
      ]
     },
     "execution_count": 63,
     "metadata": {},
     "output_type": "execute_result"
    }
   ],
   "source": [
    "clf.score(X, y)"
   ]
  },
  {
   "cell_type": "markdown",
   "metadata": {},
   "source": [
    "#### solve overfitting by set maxdepth"
   ]
  },
  {
   "cell_type": "code",
   "execution_count": 64,
   "metadata": {
    "collapsed": true
   },
   "outputs": [],
   "source": [
    "clf_2 = tree.DecisionTreeRegressor(random_state=0, max_depth=2)\n",
    "clf_2.fit(X, y)\n",
    "y_predict_2 = clf_2.predict(X)"
   ]
  },
  {
   "cell_type": "code",
   "execution_count": 65,
   "metadata": {},
   "outputs": [
    {
     "data": {
      "text/plain": [
       "array([ 4.73099587, 10.43698293, 15.28755033])"
      ]
     },
     "execution_count": 65,
     "metadata": {},
     "output_type": "execute_result"
    }
   ],
   "source": [
    "clf_2.predict([[10], [20], [30]])"
   ]
  },
  {
   "cell_type": "code",
   "execution_count": 66,
   "metadata": {},
   "outputs": [
    {
     "data": {
      "text/plain": [
       "[<matplotlib.lines.Line2D object at 0x10b527780>]"
      ]
     },
     "execution_count": 66,
     "metadata": {},
     "output_type": "execute_result"
    },
    {
     "data": {
      "image/png": "[encoded data removed]",
      "text/plain": [
       "<matplotlib.figure.Figure object at 0x10b527be0>"
      ]
     },
     "metadata": {},
     "output_type": "display_data"
    }
   ],
   "source": [
    "plt.scatter(X, y)\n",
    "plt.plot(X, y_predict_2, c = 'r')   # we can see overfitting!!!"
   ]
  },
  {
   "cell_type": "code",
   "execution_count": 67,
   "metadata": {},
   "outputs": [
    {
     "data": {
      "text/plain": [
       "0.9765270291536299"
      ]
     },
     "execution_count": 67,
     "metadata": {},
     "output_type": "execute_result"
    }
   ],
   "source": [
    "clf_2.score(X, y)"
   ]
  },
  {
   "cell_type": "markdown",
   "metadata": {},
   "source": [
    "visualize reg tree"
   ]
  },
  {
   "cell_type": "code",
   "execution_count": 72,
   "metadata": {
    "collapsed": true
   },
   "outputs": [],
   "source": [
    "from sklearn.tree import export_graphviz\n",
    "export_graphviz(clf_2, out_file='tree.dot', filled=True, impurity=False)"
   ]
  },
  {
   "cell_type": "code",
   "execution_count": 74,
   "metadata": {},
   "outputs": [
    {
     "data": {
      "image/svg+xml": [
       "<?xml version=\"1.0\" encoding=\"UTF-8\" standalone=\"no\"?>\n",
       "<!DOCTYPE svg PUBLIC \"-//W3C//DTD SVG 1.1//EN\"\n",
       " \"http://www.w3.org/Graphics/SVG/1.1/DTD/svg11.dtd\">\n",
       "<!-- Generated by graphviz version 2.40.1 (20161225.0304)\n",
       " -->\n",
       "<!-- Title: Tree Pages: 1 -->\n",
       "<svg width=\"455pt\" height=\"238pt\"\n",
       " viewBox=\"0.00 0.00 455.21 238.40\" xmlns=\"http://www.w3.org/2000/svg\" xmlns:xlink=\"http://www.w3.org/1999/xlink\">\n",
       "<g id=\"graph0\" class=\"graph\" transform=\"scale(1 1) rotate(0) translate(4 234.4)\">\n",
       "<title>Tree</title>\n",
       "<polygon fill=\"#ffffff\" stroke=\"transparent\" points=\"-4,4 -4,-234.4 451.2144,-234.4 451.2144,4 -4,4\"/>\n",
       "<!-- 0 -->\n",
       "<g id=\"node1\" class=\"node\">\n",
       "<title>0</title>\n",
       "<polygon fill=\"#e58139\" fill-opacity=\"0.517647\" stroke=\"#000000\" points=\"271.0746,-230.6014 167.6398,-230.6014 167.6398,-171.7986 271.0746,-171.7986 271.0746,-230.6014\"/>\n",
       "<text text-anchor=\"middle\" x=\"219.3572\" y=\"-213.8\" font-family=\"Times,serif\" font-size=\"14.00\" fill=\"#000000\">X[0] &lt;= 29.987</text>\n",
       "<text text-anchor=\"middle\" x=\"219.3572\" y=\"-197\" font-family=\"Times,serif\" font-size=\"14.00\" fill=\"#000000\">samples = 60</text>\n",
       "<text text-anchor=\"middle\" x=\"219.3572\" y=\"-180.2\" font-family=\"Times,serif\" font-size=\"14.00\" fill=\"#000000\">value = 12.572</text>\n",
       "</g>\n",
       "<!-- 1 -->\n",
       "<g id=\"node2\" class=\"node\">\n",
       "<title>1</title>\n",
       "<polygon fill=\"#e58139\" fill-opacity=\"0.188235\" stroke=\"#000000\" points=\"211.0746,-136.2014 107.6398,-136.2014 107.6398,-77.3986 211.0746,-77.3986 211.0746,-136.2014\"/>\n",
       "<text text-anchor=\"middle\" x=\"159.3572\" y=\"-119.4\" font-family=\"Times,serif\" font-size=\"14.00\" fill=\"#000000\">X[0] &lt;= 13.906</text>\n",
       "<text text-anchor=\"middle\" x=\"159.3572\" y=\"-102.6\" font-family=\"Times,serif\" font-size=\"14.00\" fill=\"#000000\">samples = 30</text>\n",
       "<text text-anchor=\"middle\" x=\"159.3572\" y=\"-85.8\" font-family=\"Times,serif\" font-size=\"14.00\" fill=\"#000000\">value = 7.584</text>\n",
       "</g>\n",
       "<!-- 0&#45;&gt;1 -->\n",
       "<g id=\"edge1\" class=\"edge\">\n",
       "<title>0&#45;&gt;1</title>\n",
       "<path fill=\"none\" stroke=\"#000000\" d=\"M200.7017,-171.8487C195.2272,-163.2354 189.1616,-153.6922 183.4012,-144.6292\"/>\n",
       "<polygon fill=\"#000000\" stroke=\"#000000\" points=\"186.3192,-142.6952 178.0011,-136.1331 180.4115,-146.4502 186.3192,-142.6952\"/>\n",
       "<text text-anchor=\"middle\" x=\"172.5645\" y=\"-156.3348\" font-family=\"Times,serif\" font-size=\"14.00\" fill=\"#000000\">True</text>\n",
       "</g>\n",
       "<!-- 4 -->\n",
       "<g id=\"node5\" class=\"node\">\n",
       "<title>4</title>\n",
       "<polygon fill=\"#e58139\" fill-opacity=\"0.850980\" stroke=\"#000000\" points=\"329.072,-136.2014 229.6424,-136.2014 229.6424,-77.3986 329.072,-77.3986 329.072,-136.2014\"/>\n",
       "<text text-anchor=\"middle\" x=\"279.3572\" y=\"-119.4\" font-family=\"Times,serif\" font-size=\"14.00\" fill=\"#000000\">X[0] &lt;= 43.91</text>\n",
       "<text text-anchor=\"middle\" x=\"279.3572\" y=\"-102.6\" font-family=\"Times,serif\" font-size=\"14.00\" fill=\"#000000\">samples = 30</text>\n",
       "<text text-anchor=\"middle\" x=\"279.3572\" y=\"-85.8\" font-family=\"Times,serif\" font-size=\"14.00\" fill=\"#000000\">value = 17.561</text>\n",
       "</g>\n",
       "<!-- 0&#45;&gt;4 -->\n",
       "<g id=\"edge4\" class=\"edge\">\n",
       "<title>0&#45;&gt;4</title>\n",
       "<path fill=\"none\" stroke=\"#000000\" d=\"M238.0127,-171.8487C243.4872,-163.2354 249.5528,-153.6922 255.3132,-144.6292\"/>\n",
       "<polygon fill=\"#000000\" stroke=\"#000000\" points=\"258.3029,-146.4502 260.7133,-136.1331 252.3952,-142.6952 258.3029,-146.4502\"/>\n",
       "<text text-anchor=\"middle\" x=\"266.1499\" y=\"-156.3348\" font-family=\"Times,serif\" font-size=\"14.00\" fill=\"#000000\">False</text>\n",
       "</g>\n",
       "<!-- 2 -->\n",
       "<g id=\"node3\" class=\"node\">\n",
       "<title>2</title>\n",
       "<polygon fill=\"transparent\" stroke=\"#000000\" points=\"92.572,-41.4019 .1424,-41.4019 .1424,-.1981 92.572,-.1981 92.572,-41.4019\"/>\n",
       "<text text-anchor=\"middle\" x=\"46.3572\" y=\"-25\" font-family=\"Times,serif\" font-size=\"14.00\" fill=\"#000000\">samples = 15</text>\n",
       "<text text-anchor=\"middle\" x=\"46.3572\" y=\"-8.2\" font-family=\"Times,serif\" font-size=\"14.00\" fill=\"#000000\">value = 4.731</text>\n",
       "</g>\n",
       "<!-- 1&#45;&gt;2 -->\n",
       "<g id=\"edge2\" class=\"edge\">\n",
       "<title>1&#45;&gt;2</title>\n",
       "<path fill=\"none\" stroke=\"#000000\" d=\"M120.7851,-77.4442C108.2136,-67.8766 94.3212,-57.3036 81.9764,-47.9084\"/>\n",
       "<polygon fill=\"#000000\" stroke=\"#000000\" points=\"83.7897,-44.8901 73.7125,-41.6191 79.5504,-50.4604 83.7897,-44.8901\"/>\n",
       "</g>\n",
       "<!-- 3 -->\n",
       "<g id=\"node4\" class=\"node\">\n",
       "<title>3</title>\n",
       "<polygon fill=\"#e58139\" fill-opacity=\"0.376471\" stroke=\"#000000\" points=\"210.072,-41.4019 110.6424,-41.4019 110.6424,-.1981 210.072,-.1981 210.072,-41.4019\"/>\n",
       "<text text-anchor=\"middle\" x=\"160.3572\" y=\"-25\" font-family=\"Times,serif\" font-size=\"14.00\" fill=\"#000000\">samples = 15</text>\n",
       "<text text-anchor=\"middle\" x=\"160.3572\" y=\"-8.2\" font-family=\"Times,serif\" font-size=\"14.00\" fill=\"#000000\">value = 10.437</text>\n",
       "</g>\n",
       "<!-- 1&#45;&gt;3 -->\n",
       "<g id=\"edge3\" class=\"edge\">\n",
       "<title>1&#45;&gt;3</title>\n",
       "<path fill=\"none\" stroke=\"#000000\" d=\"M159.7013,-77.2037C159.7975,-68.9362 159.9022,-59.9343 159.9991,-51.5992\"/>\n",
       "<polygon fill=\"#000000\" stroke=\"#000000\" points=\"163.4999,-51.5435 160.1165,-41.5034 156.5003,-51.462 163.4999,-51.5435\"/>\n",
       "</g>\n",
       "<!-- 5 -->\n",
       "<g id=\"node6\" class=\"node\">\n",
       "<title>5</title>\n",
       "<polygon fill=\"#e58139\" fill-opacity=\"0.698039\" stroke=\"#000000\" points=\"329.072,-41.4019 229.6424,-41.4019 229.6424,-.1981 329.072,-.1981 329.072,-41.4019\"/>\n",
       "<text text-anchor=\"middle\" x=\"279.3572\" y=\"-25\" font-family=\"Times,serif\" font-size=\"14.00\" fill=\"#000000\">samples = 15</text>\n",
       "<text text-anchor=\"middle\" x=\"279.3572\" y=\"-8.2\" font-family=\"Times,serif\" font-size=\"14.00\" fill=\"#000000\">value = 15.288</text>\n",
       "</g>\n",
       "<!-- 4&#45;&gt;5 -->\n",
       "<g id=\"edge5\" class=\"edge\">\n",
       "<title>4&#45;&gt;5</title>\n",
       "<path fill=\"none\" stroke=\"#000000\" d=\"M279.3572,-77.2037C279.3572,-68.9362 279.3572,-59.9343 279.3572,-51.5992\"/>\n",
       "<polygon fill=\"#000000\" stroke=\"#000000\" points=\"282.8573,-51.5034 279.3572,-41.5034 275.8573,-51.5035 282.8573,-51.5034\"/>\n",
       "</g>\n",
       "<!-- 6 -->\n",
       "<g id=\"node7\" class=\"node\">\n",
       "<title>6</title>\n",
       "<polygon fill=\"#e58139\" stroke=\"#000000\" points=\"447.072,-41.4019 347.6424,-41.4019 347.6424,-.1981 447.072,-.1981 447.072,-41.4019\"/>\n",
       "<text text-anchor=\"middle\" x=\"397.3572\" y=\"-25\" font-family=\"Times,serif\" font-size=\"14.00\" fill=\"#000000\">samples = 15</text>\n",
       "<text text-anchor=\"middle\" x=\"397.3572\" y=\"-8.2\" font-family=\"Times,serif\" font-size=\"14.00\" fill=\"#000000\">value = 19.834</text>\n",
       "</g>\n",
       "<!-- 4&#45;&gt;6 -->\n",
       "<g id=\"edge6\" class=\"edge\">\n",
       "<title>4&#45;&gt;6</title>\n",
       "<path fill=\"none\" stroke=\"#000000\" d=\"M319.6361,-77.4442C332.89,-67.7846 347.55,-57.1001 360.5334,-47.6377\"/>\n",
       "<polygon fill=\"#000000\" stroke=\"#000000\" points=\"362.7715,-50.3375 368.7915,-41.6191 358.6486,-44.6804 362.7715,-50.3375\"/>\n",
       "</g>\n",
       "</g>\n",
       "</svg>\n"
      ],
      "text/plain": [
       "<graphviz.files.Source object at 0x10b683c88>"
      ]
     },
     "execution_count": 74,
     "metadata": {},
     "output_type": "execute_result"
    }
   ],
   "source": [
    "import graphviz\n",
    "with open('tree.dot') as f:\n",
    "    dot_graph =f.read()\n",
    "graphviz.Source(dot_graph)"
   ]
  },
  {
   "cell_type": "code",
   "execution_count": 75,
   "metadata": {},
   "outputs": [
    {
     "data": {
      "text/plain": [
       "array([1.])"
      ]
     },
     "execution_count": 75,
     "metadata": {},
     "output_type": "execute_result"
    }
   ],
   "source": [
    "clf_2.feature_importances_"
   ]
  },
  {
   "cell_type": "code",
   "execution_count": 59,
   "metadata": {},
   "outputs": [
    {
     "data": {
      "text/plain": [
       "(60, 1)"
      ]
     },
     "execution_count": 59,
     "metadata": {},
     "output_type": "execute_result"
    }
   ],
   "source": [
    "D[:, 0][:, np.newaxis].shape  # add one axis to fit sklearn"
   ]
  },
  {
   "cell_type": "code",
   "execution_count": 35,
   "metadata": {},
   "outputs": [
    {
     "data": {
      "text/plain": [
       "(60,)"
      ]
     },
     "execution_count": 35,
     "metadata": {},
     "output_type": "execute_result"
    }
   ],
   "source": [
    "D[:, 1].shape"
   ]
  },
  {
   "cell_type": "markdown",
   "metadata": {},
   "source": [
    "### some test scripts"
   ]
  },
  {
   "cell_type": "code",
   "execution_count": 36,
   "metadata": {},
   "outputs": [
    {
     "data": {
      "text/plain": [
       "array([ 0,  2,  1,  5,  4,  6,  3,  9, 10,  8,  7, 11, 13, 14, 12, 16, 15,\n",
       "       19, 17, 18, 20, 22, 21, 23, 26, 24, 27, 25, 28, 30, 29, 32, 31, 33,\n",
       "       34, 35, 36, 37, 38, 39, 40, 42, 41, 43, 44, 45, 47, 46, 49, 50, 48,\n",
       "       52, 51, 54, 53, 55, 56, 57, 58, 59])"
      ]
     },
     "execution_count": 36,
     "metadata": {},
     "output_type": "execute_result"
    }
   ],
   "source": [
    "idx = np.argsort(D[:, 0])\n",
    "idx"
   ]
  },
  {
   "cell_type": "code",
   "execution_count": 37,
   "metadata": {},
   "outputs": [
    {
     "data": {
      "text/plain": [
       "array([ 1.11808659,  3.15334267,  1.22847401,  5.11100358,  4.25128415,\n",
       "        3.93459133,  5.01892753,  8.86655872,  8.67133703,  7.87787527,\n",
       "        8.03371627, 10.68067941, 13.27714227, 11.8283613 , 12.42826971,\n",
       "       15.74304269, 14.53541942, 16.71434618, 20.06300715, 15.96602396,\n",
       "       20.38024449, 21.43620142, 21.26489866, 21.56904451, 26.15498821,\n",
       "       26.81685778, 24.06955503, 26.30495214, 29.27817259, 29.9922388 ,\n",
       "       29.98217063, 31.24699371, 31.20706834, 33.84834115, 33.90171728,\n",
       "       34.78325475, 35.46770376, 35.91314422, 37.84146491, 38.80471305,\n",
       "       40.6427773 , 42.41010031, 41.56555166, 42.83734081, 43.49527931,\n",
       "       44.32435667, 46.32884951, 44.88963794, 50.47924654, 48.52787856,\n",
       "       49.55545714, 52.55450284, 52.02268449, 53.90403507, 53.88575288,\n",
       "       55.42426514, 55.53015455, 56.41417584, 57.62738361, 58.21435465])"
      ]
     },
     "execution_count": 37,
     "metadata": {},
     "output_type": "execute_result"
    }
   ],
   "source": [
    "D[:, 0]"
   ]
  },
  {
   "cell_type": "code",
   "execution_count": 38,
   "metadata": {},
   "outputs": [
    {
     "data": {
      "text/plain": [
       "array([ 1.11808659,  1.22847401,  3.15334267,  3.93459133,  4.25128415,\n",
       "        5.01892753,  5.11100358,  7.87787527,  8.03371627,  8.67133703,\n",
       "        8.86655872, 10.68067941, 11.8283613 , 12.42826971, 13.27714227,\n",
       "       14.53541942, 15.74304269, 15.96602396, 16.71434618, 20.06300715,\n",
       "       20.38024449, 21.26489866, 21.43620142, 21.56904451, 24.06955503,\n",
       "       26.15498821, 26.30495214, 26.81685778, 29.27817259, 29.98217063,\n",
       "       29.9922388 , 31.20706834, 31.24699371, 33.84834115, 33.90171728,\n",
       "       34.78325475, 35.46770376, 35.91314422, 37.84146491, 38.80471305,\n",
       "       40.6427773 , 41.56555166, 42.41010031, 42.83734081, 43.49527931,\n",
       "       44.32435667, 44.88963794, 46.32884951, 48.52787856, 49.55545714,\n",
       "       50.47924654, 52.02268449, 52.55450284, 53.88575288, 53.90403507,\n",
       "       55.42426514, 55.53015455, 56.41417584, 57.62738361, 58.21435465])"
      ]
     },
     "execution_count": 38,
     "metadata": {},
     "output_type": "execute_result"
    }
   ],
   "source": [
    "D[idx, 0]"
   ]
  },
  {
   "cell_type": "code",
   "execution_count": 39,
   "metadata": {},
   "outputs": [
    {
     "data": {
      "text/plain": [
       "1937.7662588047017"
      ]
     },
     "execution_count": 39,
     "metadata": {},
     "output_type": "execute_result"
    }
   ],
   "source": [
    "a = np.array([[1,1], [2, 4]])\n",
    "cal_err(D)"
   ]
  },
  {
   "cell_type": "code",
   "execution_count": 40,
   "metadata": {},
   "outputs": [
    {
     "data": {
      "text/plain": [
       "True"
      ]
     },
     "execution_count": 40,
     "metadata": {},
     "output_type": "execute_result"
    }
   ],
   "source": [
    "5 <np.inf"
   ]
  },
  {
   "cell_type": "code",
   "execution_count": null,
   "metadata": {
    "collapsed": true
   },
   "outputs": [],
   "source": []
  }
 ],
 "metadata": {
  "kernelspec": {
   "display_name": "Python 3",
   "language": "python",
   "name": "python3"
  },
  "language_info": {
   "codemirror_mode": {
    "name": "ipython",
    "version": 3
   },
   "file_extension": ".py",
   "mimetype": "text/x-python",
   "name": "python",
   "nbconvert_exporter": "python",
   "pygments_lexer": "ipython3",
   "version": "3.6.3"
  }
 },
 "nbformat": 4,
 "nbformat_minor": 2
}
