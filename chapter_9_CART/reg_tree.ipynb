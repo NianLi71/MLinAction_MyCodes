{
 "cells": [
  {
   "cell_type": "code",
   "execution_count": 1,
   "metadata": {
    "collapsed": true
   },
   "outputs": [],
   "source": [
    "import numpy as np\n",
    "import matplotlib.pyplot as plt\n",
    "%matplotlib inline"
   ]
  },
  {
   "cell_type": "markdown",
   "metadata": {},
   "source": [
    "test on random.rand ~ N(0, 1)"
   ]
  },
  {
   "cell_type": "code",
   "execution_count": 2,
   "metadata": {},
   "outputs": [
    {
     "data": {
      "text/plain": [
       "array([-1.797589  , -0.93999764,  1.51299204, -0.38829357,  0.05448361,\n",
       "        0.87076557,  1.64408109, -0.56255493,  0.63764883,  0.21042254,\n",
       "       -1.03318884, -0.97060479, -1.38136327, -0.5128269 , -2.53810628,\n",
       "        0.40155024,  1.27216656,  0.19210538, -0.91083702, -1.10371202])"
      ]
     },
     "execution_count": 2,
     "metadata": {},
     "output_type": "execute_result"
    }
   ],
   "source": [
    "x = np.random.randn(1000000)\n",
    "x[:20]"
   ]
  },
  {
   "cell_type": "code",
   "execution_count": 3,
   "metadata": {},
   "outputs": [
    {
     "data": {
      "text/plain": [
       "0.0009370521529428784"
      ]
     },
     "execution_count": 3,
     "metadata": {},
     "output_type": "execute_result"
    }
   ],
   "source": [
    "x.mean()   # expect"
   ]
  },
  {
   "cell_type": "code",
   "execution_count": 4,
   "metadata": {},
   "outputs": [
    {
     "data": {
      "text/plain": [
       "1.001474529617792"
      ]
     },
     "execution_count": 4,
     "metadata": {},
     "output_type": "execute_result"
    }
   ],
   "source": [
    "x.var()   #variance"
   ]
  },
  {
   "cell_type": "markdown",
   "metadata": {},
   "source": [
    "generate test data"
   ]
  },
  {
   "cell_type": "code",
   "execution_count": 13,
   "metadata": {},
   "outputs": [
    {
     "name": "stdout",
     "output_type": "stream",
     "text": [
      "[ 4.96326071  3.82919309  5.54826076  6.11251374  4.2652122   3.40240774\n",
      "  4.46086351  5.53946003  8.05749003  3.45245518  5.77587406  5.82992985\n",
      "  7.09579488  5.20008416  5.78953065  5.33793521  5.20844861  5.07338559\n",
      "  3.55800845  3.93724311  4.02358607  3.88636262  4.90593661  6.84193016\n",
      "  3.71920778  5.70611235  6.77867329  3.60432588  5.74177779  4.97603683\n",
      "  4.95495515  5.12995939  6.36086564 10.64701391  8.28584265  9.67135791\n",
      " 10.90551905  9.66702891  9.58414199  9.92555848  8.87460898  8.64090354\n",
      " 10.24120388  9.62637443  9.44311954  8.43647788 10.86026953  9.16099244\n",
      "  9.7253814   9.64280672  8.24525818 10.84666599  8.70214207  8.10312124\n",
      "  9.17644809  9.82883306  8.98727581 10.36411601  9.33599074  8.82830772\n",
      "  8.82632358  9.44458276  8.96201052 10.70427954  8.83002337  8.71543078\n",
      " 14.88148261 16.42574141 15.2649338  12.7562396  15.07117548 15.47813699\n",
      " 16.4776979  14.77412517 14.41593579 13.41868697 15.51660612 13.27183615\n",
      " 15.32063672 13.0019337  14.25311313 14.03731238 14.83784771 16.50116364\n",
      " 16.26766473 14.60710196 13.41457342 15.81022852 15.76648916 15.43496298\n",
      " 15.52216798 14.79123345 14.43211723 15.36436842 16.68574369 14.51111952\n",
      " 15.51400646 15.41908416 15.53739299]\n"
     ]
    }
   ],
   "source": [
    "\n",
    "y_arr = np.array([])\n",
    "n = 100\n",
    "center = [5, 10, 15]\n",
    "parts = len(center)\n",
    "for c in center:\n",
    "    y_arr = np.append(y_arr, np.random.randn(n//parts) + c)\n",
    "print(y_arr)"
   ]
  },
  {
   "cell_type": "code",
   "execution_count": 72,
   "metadata": {},
   "outputs": [
    {
     "name": "stdout",
     "output_type": "stream",
     "text": [
      "[0.01522367 2.71604184 1.75269458 2.17567905 2.60966918 6.31469262\n",
      " 7.04185234 7.95622494 8.29543419 9.50530677]\n"
     ]
    }
   ],
   "source": [
    "x_arr = np.arange(y_arr.shape[0]) + np.random.randn(y_arr.shape[0])\n",
    "# np.random.shuffle(x_arr)\n",
    "print(x_arr[:10])"
   ]
  },
  {
   "cell_type": "code",
   "execution_count": 73,
   "metadata": {},
   "outputs": [
    {
     "name": "stdout",
     "output_type": "stream",
     "text": [
      "(99, 2)\n",
      "[[0.01522367 4.96326071]\n",
      " [2.71604184 3.82919309]\n",
      " [1.75269458 5.54826076]\n",
      " [2.17567905 6.11251374]\n",
      " [2.60966918 4.2652122 ]\n",
      " [6.31469262 3.40240774]\n",
      " [7.04185234 4.46086351]\n",
      " [7.95622494 5.53946003]\n",
      " [8.29543419 8.05749003]\n",
      " [9.50530677 3.45245518]]\n"
     ]
    }
   ],
   "source": [
    "D = np.stack((x_arr, y_arr), axis=1)\n",
    "print(D.shape)\n",
    "print(D[:10])"
   ]
  },
  {
   "cell_type": "code",
   "execution_count": 74,
   "metadata": {},
   "outputs": [
    {
     "data": {
      "text/plain": [
       "<matplotlib.collections.PathCollection at 0x109292d68>"
      ]
     },
     "execution_count": 74,
     "metadata": {},
     "output_type": "execute_result"
    },
    {
     "data": {
      "image/png": "[encoded data removed]",
      "text/plain": [
       "<matplotlib.figure.Figure at 0x1092514a8>"
      ]
     },
     "metadata": {},
     "output_type": "display_data"
    }
   ],
   "source": [
    "plt.scatter(D[:, 0], D[:, 1])"
   ]
  },
  {
   "cell_type": "markdown",
   "metadata": {},
   "source": [
    "regression tree"
   ]
  },
  {
   "cell_type": "code",
   "execution_count": 60,
   "metadata": {
    "collapsed": true
   },
   "outputs": [],
   "source": [
    "max_depth = 2"
   ]
  },
  {
   "cell_type": "code",
   "execution_count": 96,
   "metadata": {
    "collapsed": true
   },
   "outputs": [],
   "source": [
    "def split_dataset(D, value):  # dataset, splitting value\n",
    "    D_lte = D[ D[:, 0] <= value ]\n",
    "    D_gt = D[ D[:, 0] > value]\n",
    "#     if not np.any(D_lte):\n",
    "#         D_lte = None\n",
    "#     if not np.any(D_gt):\n",
    "#         D_gt = None\n",
    "    return D_lte, D_gt\n",
    "    "
   ]
  },
  {
   "cell_type": "code",
   "execution_count": 99,
   "metadata": {},
   "outputs": [],
   "source": [
    "# split_dataset(D, 0)"
   ]
  },
  {
   "cell_type": "code",
   "execution_count": 126,
   "metadata": {
    "collapsed": true
   },
   "outputs": [],
   "source": [
    "def cal_err(D):\n",
    "    if not np.any(D):  # empty array return err 0\n",
    "        return 0\n",
    "    ave = np.mean(D[:, 1])\n",
    "#     print(ave, (D[:, 1] - ave)**2)\n",
    "    return np.sum((D[:, 1] - ave)**2)"
   ]
  },
  {
   "cell_type": "code",
   "execution_count": 131,
   "metadata": {},
   "outputs": [
    {
     "data": {
      "text/plain": [
       "4.5"
      ]
     },
     "execution_count": 131,
     "metadata": {},
     "output_type": "execute_result"
    }
   ],
   "source": [
    "# a = np.array([[1,1], [2, 4]])\n",
    "# cal_err(a)"
   ]
  },
  {
   "cell_type": "code",
   "execution_count": 128,
   "metadata": {},
   "outputs": [],
   "source": [
    "# cal_err(D)"
   ]
  },
  {
   "cell_type": "code",
   "execution_count": 130,
   "metadata": {},
   "outputs": [
    {
     "name": "stdout",
     "output_type": "stream",
     "text": [
      "18.31384750285449 1429.5150286095081\n"
     ]
    }
   ],
   "source": [
    "D1, D2 = split_dataset(D, 10)\n",
    "print(cal_err(D1), cal_err(D2))"
   ]
  },
  {
   "cell_type": "code",
   "execution_count": 47,
   "metadata": {},
   "outputs": [
    {
     "ename": "SyntaxError",
     "evalue": "invalid syntax (<ipython-input-47-93dc90d36bf1>, line 2)",
     "output_type": "error",
     "traceback": [
      "\u001b[0;36m  File \u001b[0;32m\"<ipython-input-47-93dc90d36bf1>\"\u001b[0;36m, line \u001b[0;32m2\u001b[0m\n\u001b[0;31m    if depth\u001b[0m\n\u001b[0m             ^\u001b[0m\n\u001b[0;31mSyntaxError\u001b[0m\u001b[0;31m:\u001b[0m invalid syntax\n"
     ]
    }
   ],
   "source": [
    "def reg_tree(D, depth):\n",
    "    if depth == max_depth:\n",
    "        node = {'type':'end', 'value':np.mean(D[:,1])}\n",
    "        return node\n",
    "    else:\n",
    "        min_err = inf\n",
    "        idx = -1\n",
    "        for i in range(D.shape[0]):\n",
    "            D1, D2 = split_dataset(D, D[i][0])\n",
    "            total_err = cal_err(D1) + cal_err(D2)\n",
    "            if total_err < min_err:\n",
    "                min_err = total_err\n",
    "                idx = i\n",
    "                \n",
    "        best_D1, best_D2 = split_dataset(D, D[idx][0])\n",
    "        node = {'type':'decision', 'value':D[idx][0], 'lte_node':None, 'gt_node':None}\n",
    "        if np.any(best_D1):\n",
    "            node['lte_node'] = reg_tree(D1, depth+1)\n",
    "        if np.any(best_D2):\n",
    "            node['gt_node'] = reg_tree(D2, depth+1)\n",
    "        return node\n",
    "                "
   ]
  },
  {
   "cell_type": "code",
   "execution_count": 49,
   "metadata": {},
   "outputs": [
    {
     "ename": "NameError",
     "evalue": "name 'reg_tree' is not defined",
     "output_type": "error",
     "traceback": [
      "\u001b[0;31m---------------------------------------------------------------------------\u001b[0m",
      "\u001b[0;31mNameError\u001b[0m                                 Traceback (most recent call last)",
      "\u001b[0;32m<ipython-input-49-cad5ca2d0ecd>\u001b[0m in \u001b[0;36m<module>\u001b[0;34m()\u001b[0m\n\u001b[0;32m----> 1\u001b[0;31m \u001b[0mreg_tree\u001b[0m\u001b[0;34m(\u001b[0m\u001b[0mD\u001b[0m\u001b[0;34m,\u001b[0m \u001b[0mdepth\u001b[0m\u001b[0;34m=\u001b[0m\u001b[0;36m1\u001b[0m\u001b[0;34m)\u001b[0m\u001b[0;34m\u001b[0m\u001b[0m\n\u001b[0m",
      "\u001b[0;31mNameError\u001b[0m: name 'reg_tree' is not defined"
     ]
    }
   ],
   "source": [
    "reg_tree(D, depth=1)"
   ]
  },
  {
   "cell_type": "code",
   "execution_count": 58,
   "metadata": {},
   "outputs": [],
   "source": [
    "a =np.array([[],[],[]])\n"
   ]
  },
  {
   "cell_type": "code",
   "execution_count": 59,
   "metadata": {},
   "outputs": [
    {
     "name": "stdout",
     "output_type": "stream",
     "text": [
      "[]\n",
      "[]\n",
      "[]\n"
     ]
    }
   ],
   "source": [
    "for i in a:\n",
    "    print(i)"
   ]
  },
  {
   "cell_type": "code",
   "execution_count": 83,
   "metadata": {},
   "outputs": [
    {
     "data": {
      "text/plain": [
       "array([[0.01522367, 4.96326071]])"
      ]
     },
     "execution_count": 83,
     "metadata": {},
     "output_type": "execute_result"
    }
   ],
   "source": [
    "a = D[ D[:, 0] <= 1]\n",
    "a"
   ]
  },
  {
   "cell_type": "code",
   "execution_count": 84,
   "metadata": {},
   "outputs": [
    {
     "data": {
      "text/plain": [
       "True"
      ]
     },
     "execution_count": 84,
     "metadata": {},
     "output_type": "execute_result"
    }
   ],
   "source": [
    "np.any(a)"
   ]
  },
  {
   "cell_type": "code",
   "execution_count": 109,
   "metadata": {},
   "outputs": [
    {
     "data": {
      "text/plain": [
       "1713.4123956131737"
      ]
     },
     "execution_count": 109,
     "metadata": {},
     "output_type": "execute_result"
    }
   ],
   "source": [
    "a = np.array([[1,1], [2, 4]])\n",
    "cal_err(D)"
   ]
  },
  {
   "cell_type": "code",
   "execution_count": null,
   "metadata": {
    "collapsed": true
   },
   "outputs": [],
   "source": []
  }
 ],
 "metadata": {
  "kernelspec": {
   "display_name": "Python 3",
   "language": "python",
   "name": "python3"
  },
  "language_info": {
   "codemirror_mode": {
    "name": "ipython",
    "version": 3
   },
   "file_extension": ".py",
   "mimetype": "text/x-python",
   "name": "python",
   "nbconvert_exporter": "python",
   "pygments_lexer": "ipython3",
   "version": "3.6.3"
  }
 },
 "nbformat": 4,
 "nbformat_minor": 2
}
