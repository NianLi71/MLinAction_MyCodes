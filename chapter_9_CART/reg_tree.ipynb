{
 "cells": [
  {
   "cell_type": "markdown",
   "metadata": {},
   "source": [
    "### 一维数据 可视化reg tree"
   ]
  },
  {
   "cell_type": "code",
   "execution_count": 7,
   "metadata": {},
   "outputs": [
    {
     "name": "stdout",
     "output_type": "stream",
     "text": [
      "Pretty printing has been turned ON\n"
     ]
    }
   ],
   "source": [
    "import numpy as np\n",
    "import matplotlib.pyplot as plt\n",
    "from sklearn import tree\n",
    "from pprint import pprint\n",
    "%matplotlib inline\n",
    "%pprint   # use %pprint command to turn on/off pprint feature:"
   ]
  },
  {
   "cell_type": "markdown",
   "metadata": {},
   "source": [
    "### test on random.rand ~ N(0, 1)\n",
    "\n",
    "random.rand ~ N(0, 1) 服从正态分布，通过大量采样计算mean var验证"
   ]
  },
  {
   "cell_type": "code",
   "execution_count": 8,
   "metadata": {},
   "outputs": [
    {
     "data": {
      "text/plain": [
       "array([-0.03668089,  1.56385682, -0.0162237 , -2.05450653,  0.17675336,\n",
       "        1.49837701,  0.48944162,  0.1768911 ,  0.33770882, -0.89702698,\n",
       "       -0.74272783, -0.64772515,  0.12976985, -0.07744156, -1.31685827,\n",
       "        0.95324766,  1.38150215,  0.25861129, -0.13569582, -1.0488758 ])"
      ]
     },
     "execution_count": 8,
     "metadata": {},
     "output_type": "execute_result"
    }
   ],
   "source": [
    "x = np.random.randn(1000000)\n",
    "x[:20]"
   ]
  },
  {
   "cell_type": "code",
   "execution_count": 9,
   "metadata": {},
   "outputs": [
    {
     "data": {
      "text/plain": [
       "-0.0017392476182030866"
      ]
     },
     "execution_count": 9,
     "metadata": {},
     "output_type": "execute_result"
    }
   ],
   "source": [
    "x.mean()   # expect 0附近"
   ]
  },
  {
   "cell_type": "code",
   "execution_count": 10,
   "metadata": {},
   "outputs": [
    {
     "data": {
      "text/plain": [
       "0.9999891597567249"
      ]
     },
     "execution_count": 10,
     "metadata": {},
     "output_type": "execute_result"
    }
   ],
   "source": [
    "x.var()   #variance 1附近"
   ]
  },
  {
   "cell_type": "markdown",
   "metadata": {},
   "source": [
    "### generate test data"
   ]
  },
  {
   "cell_type": "code",
   "execution_count": 11,
   "metadata": {},
   "outputs": [
    {
     "name": "stdout",
     "output_type": "stream",
     "text": [
      "[ 4.23795367  3.45711065  5.6139643   5.18686833  6.15287422  4.99471235\n",
      "  6.48389707  5.07698536  7.31086802  6.68922718  5.33285731  5.18563434\n",
      "  4.10484463  6.16492893  7.3838532  10.80751416 11.11066315  9.97391642\n",
      "  9.91959492  8.37139418  9.41319806 10.85944524 10.97014876  9.97873485\n",
      " 10.62285612 10.7445885  10.50910524  9.52635271  8.56687636 11.23023565\n",
      " 14.03283841 15.31746141 15.67609894 15.29846968 15.73194265 16.73299021\n",
      " 17.17416616 14.16150465 14.54815778 15.37504537 16.34713764 13.69882579\n",
      " 14.62180845 14.5544156  15.1864149  20.46749018 20.24051464 18.8918232\n",
      " 20.94489839 20.62352703 19.20131742 20.29589306 20.66093846 20.43596192\n",
      " 20.50966577 22.527328   18.60528456 18.00664699 20.5114126  20.76189281]\n"
     ]
    }
   ],
   "source": [
    "\n",
    "y_arr = np.array([])\n",
    "n = 60\n",
    "center = [5, 10, 15, 20]  # 以这些数值为中心生成 label: y\n",
    "parts = len(center)\n",
    "for c in center:\n",
    "    y_arr = np.append(y_arr, np.random.randn(n//parts) + c)  # 加入一些扰动\n",
    "print(y_arr)"
   ]
  },
  {
   "cell_type": "code",
   "execution_count": 12,
   "metadata": {},
   "outputs": [
    {
     "name": "stdout",
     "output_type": "stream",
     "text": [
      "[0.31915614 1.49411467 0.39295866 4.00836526 3.98601104 4.95459958\n",
      " 6.06275799 5.6283386  6.32458928 8.1499016 ]\n"
     ]
    }
   ],
   "source": [
    "x_arr = np.arange(y_arr.shape[0]) + np.random.randn(y_arr.shape[0])  # 生成 data: x\n",
    "# np.random.shuffle(x_arr)\n",
    "print(x_arr[:10])"
   ]
  },
  {
   "cell_type": "code",
   "execution_count": 13,
   "metadata": {},
   "outputs": [
    {
     "name": "stdout",
     "output_type": "stream",
     "text": [
      "(60, 2)\n",
      "[[0.31915614 4.23795367]\n",
      " [1.49411467 3.45711065]\n",
      " [0.39295866 5.6139643 ]\n",
      " [4.00836526 5.18686833]\n",
      " [3.98601104 6.15287422]\n",
      " [4.95459958 4.99471235]\n",
      " [6.06275799 6.48389707]\n",
      " [5.6283386  5.07698536]\n",
      " [6.32458928 7.31086802]\n",
      " [8.1499016  6.68922718]]\n"
     ]
    }
   ],
   "source": [
    "D = np.stack((x_arr, y_arr), axis=1)   # 用np.stack 将x, y沿axis=1合并\n",
    "print(D.shape)\n",
    "print(D[:10])"
   ]
  },
  {
   "cell_type": "code",
   "execution_count": 14,
   "metadata": {},
   "outputs": [
    {
     "data": {
      "text/plain": [
       "<matplotlib.collections.PathCollection at 0x112452e80>"
      ]
     },
     "execution_count": 14,
     "metadata": {},
     "output_type": "execute_result"
    },
    {
     "data": {
      "image/png": "[encoded data removed]",
      "text/plain": [
       "<matplotlib.figure.Figure at 0x112485128>"
      ]
     },
     "metadata": {},
     "output_type": "display_data"
    }
   ],
   "source": [
    "plt.scatter(D[:, 0], D[:, 1])"
   ]
  },
  {
   "cell_type": "markdown",
   "metadata": {},
   "source": [
    "### build regression tree"
   ]
  },
  {
   "cell_type": "code",
   "execution_count": 140,
   "metadata": {
    "collapsed": true
   },
   "outputs": [],
   "source": [
    "def split_dataset(D, value):  # dataset, splitting value\n",
    "    '''\n",
    "    根据 value 将D 划分为 >, <= 两部分\n",
    "    '''\n",
    "    D_lte = D[ D[:, 0] <= value ]\n",
    "    D_gt = D[ D[:, 0] > value]\n",
    "#     if not np.any(D_lte):\n",
    "#         D_lte = None\n",
    "#     if not np.any(D_gt):\n",
    "#         D_gt = None\n",
    "    return D_lte, D_gt\n",
    "    "
   ]
  },
  {
   "cell_type": "code",
   "execution_count": 141,
   "metadata": {
    "collapsed": true
   },
   "outputs": [],
   "source": [
    "# split_dataset(D, 0)\n",
    "# dir(split_dataset)\n",
    "# print(split_dataset.__doc__)"
   ]
  },
  {
   "cell_type": "code",
   "execution_count": 142,
   "metadata": {
    "collapsed": true
   },
   "outputs": [],
   "source": [
    "def cal_err(D):\n",
    "    '''\n",
    "    用平方误差度量训练误差\n",
    "    '''\n",
    "    if not np.any(D):  # empty array return err 0\n",
    "        return 0\n",
    "#     1.\n",
    "#     ave = np.mean(D[:, 1])\n",
    "#     return np.sum((D[:, 1] - ave)**2)\n",
    "#     2.\n",
    "    return np.var(D[:, 1]) * D.shape[0]   # 方差*N = sigma[(y-ave)**2]"
   ]
  },
  {
   "cell_type": "code",
   "execution_count": 143,
   "metadata": {
    "collapsed": true
   },
   "outputs": [],
   "source": [
    "# a = np.array([[1,1], [2, 4]])\n",
    "# cal_err(a)"
   ]
  },
  {
   "cell_type": "code",
   "execution_count": 144,
   "metadata": {
    "collapsed": true
   },
   "outputs": [],
   "source": [
    "# cal_err(D)"
   ]
  },
  {
   "cell_type": "code",
   "execution_count": 145,
   "metadata": {
    "collapsed": true
   },
   "outputs": [],
   "source": [
    "# cal_err([])"
   ]
  },
  {
   "cell_type": "code",
   "execution_count": 146,
   "metadata": {
    "collapsed": true
   },
   "outputs": [],
   "source": [
    "# D1, D2 = split_dataset(D, 10)\n",
    "# print(cal_err(D1), cal_err(D2))"
   ]
  },
  {
   "cell_type": "code",
   "execution_count": 147,
   "metadata": {
    "collapsed": true
   },
   "outputs": [],
   "source": [
    "max_depth = 3\n",
    "\n",
    "def build_reg_tree(D, depth = 1):\n",
    "#     print('-'*20)\n",
    "#     print(D, depth)\n",
    "    if depth == max_depth:\n",
    "        if np.any(D):\n",
    "            node = {'type':'end', 'value':np.mean(D[:,1])}  # 'end' node\n",
    "            return node\n",
    "        else:\n",
    "            return None\n",
    "    else:\n",
    "        min_err = np.inf  # np.inf\n",
    "        idx = -1\n",
    "        for i in range(D.shape[0]): # try all possible split value\n",
    "            D1, D2 = split_dataset(D, D[i][0])\n",
    "            total_err = cal_err(D1) + cal_err(D2)  # calculate total error\n",
    "            if total_err < min_err:\n",
    "                min_err = total_err\n",
    "                idx = i   # save best split index\n",
    "                \n",
    "        best_D1, best_D2 = split_dataset(D, D[idx][0])\n",
    "        node = {'type':'decision', 'split_x':D[idx][0], 'lte_node':None, 'gt_node':None}\n",
    "        if np.any(best_D1):\n",
    "            node['lte_node'] = build_reg_tree(best_D1, depth+1)  # built tree recursively\n",
    "        if np.any(best_D2):\n",
    "            node['gt_node'] = build_reg_tree(best_D2, depth+1)\n",
    "        return node\n",
    "                "
   ]
  },
  {
   "cell_type": "code",
   "execution_count": 148,
   "metadata": {},
   "outputs": [
    {
     "name": "stdout",
     "output_type": "stream",
     "text": [
      "{'gt_node': {'gt_node': {'type': 'end', 'value': 20.17897300129773},\n",
      "             'lte_node': {'type': 'end', 'value': 15.230485175476229},\n",
      "             'split_x': 45.47714055303481,\n",
      "             'type': 'decision'},\n",
      " 'lte_node': {'gt_node': {'type': 'end', 'value': 10.173641620955868},\n",
      "              'lte_node': {'type': 'end', 'value': 5.558438636629444},\n",
      "              'split_x': 13.243698019426464,\n",
      "              'type': 'decision'},\n",
      " 'split_x': 29.394691185092935,\n",
      " 'type': 'decision'}\n"
     ]
    }
   ],
   "source": [
    "reg_tree = build_reg_tree(D)\n",
    "pprint(reg_tree)"
   ]
  },
  {
   "cell_type": "code",
   "execution_count": 149,
   "metadata": {
    "collapsed": true
   },
   "outputs": [],
   "source": [
    "def _predict_one(node, x_test):\n",
    "    '''\n",
    "    predict one test sample\n",
    "    '''\n",
    "    if node['type'] == 'decision':\n",
    "        if x_test > node['split_x']:\n",
    "            return _predict_one(node['gt_node'], x_test)\n",
    "        else:\n",
    "            return _predict_one(node['lte_node'], x_test)\n",
    "    else: # 'end' node\n",
    "        return node['value']\n",
    "    \n",
    "def predict(node, x_test_arr):\n",
    "    '''\n",
    "    predict multiple test samples\n",
    "    x_test_arr: list or np.array\n",
    "    '''\n",
    "    res_list = []\n",
    "    for d in x_test_arr:\n",
    "        res_list.append(_predict_one(node, d))\n",
    "    return np.array(res_list)"
   ]
  },
  {
   "cell_type": "code",
   "execution_count": 150,
   "metadata": {},
   "outputs": [
    {
     "data": {
      "text/plain": [
       "5.558438636629444"
      ]
     },
     "execution_count": 150,
     "metadata": {},
     "output_type": "execute_result"
    }
   ],
   "source": [
    "# plt.scatter(D[:, 0], D[:, 1])\n",
    "_predict_one(reg_tree, 10)"
   ]
  },
  {
   "cell_type": "code",
   "execution_count": 153,
   "metadata": {},
   "outputs": [
    {
     "data": {
      "text/plain": [
       "array([ 5.55843864, 10.17364162, 15.23048518])"
      ]
     },
     "execution_count": 153,
     "metadata": {},
     "output_type": "execute_result"
    }
   ],
   "source": [
    "predict(reg_tree, [10, 20, 30])"
   ]
  },
  {
   "cell_type": "code",
   "execution_count": 152,
   "metadata": {},
   "outputs": [
    {
     "name": "stdout",
     "output_type": "stream",
     "text": [
      "predict result:  [ 5.55843864  5.55843864  5.55843864  5.55843864  5.55843864  5.55843864\n",
      "  5.55843864  5.55843864  5.55843864  5.55843864  5.55843864  5.55843864\n",
      "  5.55843864  5.55843864  5.55843864 10.17364162 10.17364162 10.17364162\n",
      " 10.17364162 10.17364162 10.17364162 10.17364162 10.17364162 10.17364162\n",
      " 10.17364162 10.17364162 10.17364162 10.17364162 10.17364162 10.17364162\n",
      " 15.23048518 15.23048518 15.23048518 15.23048518 15.23048518 15.23048518\n",
      " 15.23048518 15.23048518 15.23048518 15.23048518 15.23048518 15.23048518\n",
      " 15.23048518 15.23048518 15.23048518 20.178973   20.178973   20.178973\n",
      " 20.178973   20.178973   20.178973   20.178973   20.178973   20.178973\n",
      " 20.178973   20.178973   20.178973   20.178973   20.178973   20.178973  ]\n",
      "ground truth:  [ 4.23795367  3.45711065  5.6139643   5.18686833  6.15287422  4.99471235\n",
      "  6.48389707  5.07698536  7.31086802  6.68922718  5.33285731  5.18563434\n",
      "  4.10484463  6.16492893  7.3838532  10.80751416 11.11066315  9.97391642\n",
      "  9.91959492  8.37139418  9.41319806 10.85944524 10.97014876  9.97873485\n",
      " 10.62285612 10.7445885  10.50910524  9.52635271  8.56687636 11.23023565\n",
      " 14.03283841 15.31746141 15.67609894 15.29846968 15.73194265 16.73299021\n",
      " 17.17416616 14.16150465 14.54815778 15.37504537 16.34713764 13.69882579\n",
      " 14.62180845 14.5544156  15.1864149  20.46749018 20.24051464 18.8918232\n",
      " 20.94489839 20.62352703 19.20131742 20.29589306 20.66093846 20.43596192\n",
      " 20.50966577 22.527328   18.60528456 18.00664699 20.5114126  20.76189281]\n"
     ]
    }
   ],
   "source": [
    "print('predict result: ', predict(reg_tree, D[:, 0]))\n",
    "print('ground truth: ', D[:, 1])"
   ]
  },
  {
   "cell_type": "code",
   "execution_count": 28,
   "metadata": {},
   "outputs": [
    {
     "data": {
      "text/plain": [
       "[<matplotlib.lines.Line2D at 0x1123fa2e8>]"
      ]
     },
     "execution_count": 28,
     "metadata": {},
     "output_type": "execute_result"
    },
    {
     "data": {
      "image/png": "[encoded data removed]",
      "text/plain": [
       "<matplotlib.figure.Figure at 0x11240cac8>"
      ]
     },
     "metadata": {},
     "output_type": "display_data"
    }
   ],
   "source": [
    "plt.scatter(D[:, 0], D[:, 1])\n",
    "\n",
    "idx = np.argsort(D[:, 0])  # sort on x dim\n",
    "sorted_D = D[idx, 0]\n",
    "plt.plot(sorted_D, predict(reg_tree, sorted_D), c = 'r')   # draw regression line"
   ]
  },
  {
   "cell_type": "markdown",
   "metadata": {},
   "source": [
    "### using sklearn "
   ]
  },
  {
   "cell_type": "code",
   "execution_count": 103,
   "metadata": {
    "collapsed": true
   },
   "outputs": [],
   "source": [
    "from sklearn import tree"
   ]
  },
  {
   "cell_type": "code",
   "execution_count": 120,
   "metadata": {},
   "outputs": [
    {
     "data": {
      "text/plain": [
       "DecisionTreeRegressor(criterion='mse', max_depth=None, max_features=None,\n",
       "           max_leaf_nodes=None, min_impurity_decrease=0.0,\n",
       "           min_impurity_split=None, min_samples_leaf=1,\n",
       "           min_samples_split=2, min_weight_fraction_leaf=0.0,\n",
       "           presort=False, random_state=None, splitter='best')"
      ]
     },
     "execution_count": 120,
     "metadata": {},
     "output_type": "execute_result"
    }
   ],
   "source": [
    "clf = tree.DecisionTreeRegressor()\n",
    "X = D[:, 0][:, np.newaxis]\n",
    "y = D[:, 1]\n",
    "X_sorted = X[np.argsort(X, axis=0).flatten()]\n",
    "X = X_sorted\n",
    "\n",
    "clf.fit(X, y)"
   ]
  },
  {
   "cell_type": "code",
   "execution_count": 121,
   "metadata": {},
   "outputs": [
    {
     "data": {
      "text/plain": [
       "array([5.33285731, 9.41319806])"
      ]
     },
     "execution_count": 121,
     "metadata": {},
     "output_type": "execute_result"
    }
   ],
   "source": [
    "clf.predict([[10], [20]])"
   ]
  },
  {
   "cell_type": "code",
   "execution_count": 122,
   "metadata": {},
   "outputs": [
    {
     "data": {
      "text/plain": [
       "array([[0],\n",
       "       [1],\n",
       "       [2],\n",
       "       [3],\n",
       "       [4],\n",
       "       [5],\n",
       "       [6],\n",
       "       [7],\n",
       "       [8],\n",
       "       [9]])"
      ]
     },
     "execution_count": 122,
     "metadata": {},
     "output_type": "execute_result"
    }
   ],
   "source": [
    "np.argsort(X, axis=0)[:10]"
   ]
  },
  {
   "cell_type": "code",
   "execution_count": 123,
   "metadata": {},
   "outputs": [],
   "source": [
    "# np.argsort(X, axis=0).flatten()"
   ]
  },
  {
   "cell_type": "code",
   "execution_count": 124,
   "metadata": {},
   "outputs": [],
   "source": [
    "# X_sorted = X[np.argsort(X, axis=0).flatten()]\n",
    "# print(X[:10])\n",
    "# print(X_sorted[:10])"
   ]
  },
  {
   "cell_type": "code",
   "execution_count": 125,
   "metadata": {},
   "outputs": [
    {
     "name": "stdout",
     "output_type": "stream",
     "text": [
      "[ 4.23795367  3.45711065  5.6139643   5.18686833  6.15287422  4.99471235\n",
      "  6.48389707  5.07698536  7.31086802  6.68922718  5.33285731  5.18563434\n",
      "  4.10484463  6.16492893  7.3838532  10.80751416 11.11066315  9.97391642\n",
      "  9.91959492  8.37139418  9.41319806 10.85944524 10.97014876  9.97873485\n",
      " 10.62285612 10.7445885  10.50910524  9.52635271  8.56687636 11.23023565\n",
      " 14.03283841 15.31746141 15.67609894 15.29846968 15.73194265 16.73299021\n",
      " 17.17416616 14.16150465 14.54815778 15.37504537 16.34713764 13.69882579\n",
      " 14.62180845 14.5544156  15.1864149  20.46749018 20.24051464 18.8918232\n",
      " 20.94489839 20.62352703 19.20131742 20.29589306 20.66093846 20.43596192\n",
      " 20.50966577 22.527328   18.60528456 18.00664699 20.5114126  20.76189281]\n"
     ]
    }
   ],
   "source": [
    "y_predict = clf.predict(X)\n",
    "print(y_predict)"
   ]
  },
  {
   "cell_type": "code",
   "execution_count": 126,
   "metadata": {},
   "outputs": [
    {
     "data": {
      "text/plain": [
       "[<matplotlib.lines.Line2D at 0x114d9e4e0>]"
      ]
     },
     "execution_count": 126,
     "metadata": {},
     "output_type": "execute_result"
    },
    {
     "data": {
      "image/png": "[encoded data removed]",
      "text/plain": [
       "<matplotlib.figure.Figure at 0x114d9e630>"
      ]
     },
     "metadata": {},
     "output_type": "display_data"
    }
   ],
   "source": [
    "plt.scatter(X, y)\n",
    "plt.plot(X, y_predict, c = 'r')   # we can see overfitting!!! not set maxdepth"
   ]
  },
  {
   "cell_type": "markdown",
   "metadata": {},
   "source": [
    "#### solve overfitting by set maxdepth"
   ]
  },
  {
   "cell_type": "code",
   "execution_count": 137,
   "metadata": {},
   "outputs": [],
   "source": [
    "clf_2 = tree.DecisionTreeRegressor(max_depth=2)\n",
    "clf_2.fit(X, y)\n",
    "y_predict_2 = clf_2.predict(X)"
   ]
  },
  {
   "cell_type": "code",
   "execution_count": 155,
   "metadata": {},
   "outputs": [
    {
     "data": {
      "text/plain": [
       "array([ 5.55843864, 10.17364162, 15.23048518])"
      ]
     },
     "execution_count": 155,
     "metadata": {},
     "output_type": "execute_result"
    }
   ],
   "source": [
    "clf_2.predict([[10], [20], [30]])"
   ]
  },
  {
   "cell_type": "code",
   "execution_count": 156,
   "metadata": {},
   "outputs": [
    {
     "data": {
      "text/plain": [
       "[<matplotlib.lines.Line2D at 0x115219d68>]"
      ]
     },
     "execution_count": 156,
     "metadata": {},
     "output_type": "execute_result"
    },
    {
     "data": {
      "image/png": "[encoded data removed]",
      "text/plain": [
       "<matplotlib.figure.Figure at 0x115219b38>"
      ]
     },
     "metadata": {},
     "output_type": "display_data"
    }
   ],
   "source": [
    "plt.scatter(X, y)\n",
    "plt.plot(X, y_predict_2, c = 'r')   # we can see overfitting!!!"
   ]
  },
  {
   "cell_type": "code",
   "execution_count": 52,
   "metadata": {},
   "outputs": [
    {
     "data": {
      "text/plain": [
       "(60, 1)"
      ]
     },
     "execution_count": 52,
     "metadata": {},
     "output_type": "execute_result"
    }
   ],
   "source": [
    "D[:, 0][:, np.newaxis].shape  # add one axis to fit sklearn"
   ]
  },
  {
   "cell_type": "code",
   "execution_count": 42,
   "metadata": {},
   "outputs": [
    {
     "data": {
      "text/plain": [
       "(60,)"
      ]
     },
     "execution_count": 42,
     "metadata": {},
     "output_type": "execute_result"
    }
   ],
   "source": [
    "D[:, 1].shape"
   ]
  },
  {
   "cell_type": "markdown",
   "metadata": {},
   "source": [
    "### some test scripts"
   ]
  },
  {
   "cell_type": "code",
   "execution_count": 58,
   "metadata": {},
   "outputs": [
    {
     "data": {
      "text/plain": [
       "array([ 0,  2,  1,  4,  3,  5,  7,  6,  8,  9, 10, 11, 12, 13, 14, 17, 15,\n",
       "       16, 18, 20, 19, 21, 23, 24, 22, 25, 26, 27, 28, 29, 30, 31, 33, 32,\n",
       "       34, 36, 35, 39, 37, 38, 42, 40, 41, 44, 43, 46, 47, 45, 49, 51, 48,\n",
       "       50, 53, 55, 52, 54, 56, 57, 58, 59])"
      ]
     },
     "execution_count": 58,
     "metadata": {},
     "output_type": "execute_result"
    }
   ],
   "source": [
    "idx = np.argsort(D[:, 0])\n",
    "idx"
   ]
  },
  {
   "cell_type": "code",
   "execution_count": 368,
   "metadata": {},
   "outputs": [
    {
     "data": {
      "text/plain": [
       "array([-1.86037252,  1.50691653,  1.88393274,  4.06419509,  4.44613241,\n",
       "        5.96174756,  3.73104784,  5.56338131,  9.56090145,  8.59797104,\n",
       "       10.1535902 , 11.21899052, 12.41137532, 11.53200318, 13.78502825,\n",
       "       15.5983104 , 15.95425059, 16.31803705, 17.25970765, 20.16977767,\n",
       "       21.7818131 , 21.98159192, 23.42237155, 24.4410363 , 24.72374391,\n",
       "       26.00863623, 26.59440272, 28.52582771, 28.69501969, 30.16271135,\n",
       "       27.9281809 , 30.43995263, 32.09415621, 32.65468438, 34.92279881,\n",
       "       35.95038056, 34.69715182, 36.64284096, 39.0282341 , 38.19997659,\n",
       "       37.79263367, 40.21303592, 41.70453983, 42.58850998, 42.93177377,\n",
       "       44.98045106, 45.7041293 , 48.18728439, 48.43049799, 47.14175859,\n",
       "       50.06817429, 51.42866742, 52.83366002, 53.9309659 , 55.33649674,\n",
       "       55.33643516, 54.32260235, 57.66816933, 58.20367469, 58.76930758])"
      ]
     },
     "execution_count": 368,
     "metadata": {},
     "output_type": "execute_result"
    }
   ],
   "source": [
    "D[:, 0]"
   ]
  },
  {
   "cell_type": "code",
   "execution_count": 369,
   "metadata": {},
   "outputs": [
    {
     "data": {
      "text/plain": [
       "array([-1.86037252,  1.50691653,  1.88393274,  3.73104784,  4.06419509,\n",
       "        4.44613241,  5.56338131,  5.96174756,  8.59797104,  9.56090145,\n",
       "       10.1535902 , 11.21899052, 11.53200318, 12.41137532, 13.78502825,\n",
       "       15.5983104 , 15.95425059, 16.31803705, 17.25970765, 20.16977767,\n",
       "       21.7818131 , 21.98159192, 23.42237155, 24.4410363 , 24.72374391,\n",
       "       26.00863623, 26.59440272, 27.9281809 , 28.52582771, 28.69501969,\n",
       "       30.16271135, 30.43995263, 32.09415621, 32.65468438, 34.69715182,\n",
       "       34.92279881, 35.95038056, 36.64284096, 37.79263367, 38.19997659,\n",
       "       39.0282341 , 40.21303592, 41.70453983, 42.58850998, 42.93177377,\n",
       "       44.98045106, 45.7041293 , 47.14175859, 48.18728439, 48.43049799,\n",
       "       50.06817429, 51.42866742, 52.83366002, 53.9309659 , 54.32260235,\n",
       "       55.33643516, 55.33649674, 57.66816933, 58.20367469, 58.76930758])"
      ]
     },
     "execution_count": 369,
     "metadata": {},
     "output_type": "execute_result"
    }
   ],
   "source": [
    "D[idx, 0]"
   ]
  },
  {
   "cell_type": "code",
   "execution_count": 370,
   "metadata": {},
   "outputs": [
    {
     "data": {
      "text/plain": [
       "1940.0341039568725"
      ]
     },
     "execution_count": 370,
     "metadata": {},
     "output_type": "execute_result"
    }
   ],
   "source": [
    "a = np.array([[1,1], [2, 4]])\n",
    "cal_err(D)"
   ]
  },
  {
   "cell_type": "code",
   "execution_count": 371,
   "metadata": {},
   "outputs": [
    {
     "data": {
      "text/plain": [
       "True"
      ]
     },
     "execution_count": 371,
     "metadata": {},
     "output_type": "execute_result"
    }
   ],
   "source": [
    "5 <np.inf"
   ]
  },
  {
   "cell_type": "code",
   "execution_count": null,
   "metadata": {
    "collapsed": true
   },
   "outputs": [],
   "source": []
  }
 ],
 "metadata": {
  "kernelspec": {
   "display_name": "Python 3",
   "language": "python",
   "name": "python3"
  },
  "language_info": {
   "codemirror_mode": {
    "name": "ipython",
    "version": 3
   },
   "file_extension": ".py",
   "mimetype": "text/x-python",
   "name": "python",
   "nbconvert_exporter": "python",
   "pygments_lexer": "ipython3",
   "version": "3.6.3"
  }
 },
 "nbformat": 4,
 "nbformat_minor": 2
}
