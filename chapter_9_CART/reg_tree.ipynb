{
 "cells": [
  {
   "cell_type": "markdown",
   "metadata": {},
   "source": [
    "### 一维数据 可视化reg tree"
   ]
  },
  {
   "cell_type": "code",
   "execution_count": 345,
   "metadata": {},
   "outputs": [
    {
     "name": "stdout",
     "output_type": "stream",
     "text": [
      "Pretty printing has been turned ON\n"
     ]
    }
   ],
   "source": [
    "import numpy as np\n",
    "import matplotlib.pyplot as plt\n",
    "from pprint import pprint\n",
    "%matplotlib inline\n",
    "%pprint   # use %pprint command to turn on/off pprint feature:"
   ]
  },
  {
   "cell_type": "markdown",
   "metadata": {},
   "source": [
    "### test on random.rand ~ N(0, 1)\n",
    "\n",
    "random.rand ~ N(0, 1) 服从正态分布，通过大量采样计算mean var验证"
   ]
  },
  {
   "cell_type": "code",
   "execution_count": 346,
   "metadata": {},
   "outputs": [
    {
     "data": {
      "text/plain": [
       "array([-0.46662271, -0.09503872, -1.43514848, -0.00804863, -1.8042517 ,\n",
       "       -0.63166336,  1.12877217, -1.05565397,  0.34298857, -0.45293935,\n",
       "        0.30696902,  0.30798015,  0.73727299,  1.02797102, -0.74823915,\n",
       "        0.52404065, -1.2478384 , -1.70728734, -0.48633522,  0.76940872])"
      ]
     },
     "execution_count": 346,
     "metadata": {},
     "output_type": "execute_result"
    }
   ],
   "source": [
    "x = np.random.randn(1000000)\n",
    "x[:20]"
   ]
  },
  {
   "cell_type": "code",
   "execution_count": 347,
   "metadata": {},
   "outputs": [
    {
     "data": {
      "text/plain": [
       "0.0027893320246950423"
      ]
     },
     "execution_count": 347,
     "metadata": {},
     "output_type": "execute_result"
    }
   ],
   "source": [
    "x.mean()   # expect 0附近"
   ]
  },
  {
   "cell_type": "code",
   "execution_count": 348,
   "metadata": {},
   "outputs": [
    {
     "data": {
      "text/plain": [
       "0.9984217277836454"
      ]
     },
     "execution_count": 348,
     "metadata": {},
     "output_type": "execute_result"
    }
   ],
   "source": [
    "x.var()   #variance 1附近"
   ]
  },
  {
   "cell_type": "markdown",
   "metadata": {},
   "source": [
    "### generate test data"
   ]
  },
  {
   "cell_type": "code",
   "execution_count": 349,
   "metadata": {},
   "outputs": [
    {
     "name": "stdout",
     "output_type": "stream",
     "text": [
      "[ 5.8015674   3.9793704   6.12994157  5.71014609  4.13777455  4.92458507\n",
      "  4.06387093  3.07393113  3.73368396  4.00976127  5.25933669  3.79059789\n",
      "  6.48468936  4.92033127  6.336108    8.74717926 11.84375132  9.63135063\n",
      " 10.08343232  8.93818064 10.11446635 10.30859316 10.07382547 10.61741699\n",
      "  9.98080534 10.46274235 11.56914715 11.31264305  8.72876011  9.08460905\n",
      " 14.63494748 15.65533521 15.16998071 14.30413159 14.1375248  15.06694948\n",
      " 15.08716548 15.58631326 15.96975375 13.82799811 14.70754491 15.4209139\n",
      " 15.66808846 14.36743248 15.82914147 19.66255104 21.00045871 18.63118028\n",
      " 20.7111103  19.14854982 19.24463829 21.08562681 19.71822981 21.53608038\n",
      " 19.3844173  20.54300677 17.8472967  19.94151823 20.89418358 19.24370332]\n"
     ]
    }
   ],
   "source": [
    "\n",
    "y_arr = np.array([])\n",
    "n = 60\n",
    "center = [5, 10, 15, 20]  # 以这些数值为中心生成 label: y\n",
    "parts = len(center)\n",
    "for c in center:\n",
    "    y_arr = np.append(y_arr, np.random.randn(n//parts) + c)  # 加入一些扰动\n",
    "print(y_arr)"
   ]
  },
  {
   "cell_type": "code",
   "execution_count": 350,
   "metadata": {},
   "outputs": [
    {
     "name": "stdout",
     "output_type": "stream",
     "text": [
      "[-1.86037252  1.50691653  1.88393274  4.06419509  4.44613241  5.96174756\n",
      "  3.73104784  5.56338131  9.56090145  8.59797104]\n"
     ]
    }
   ],
   "source": [
    "x_arr = np.arange(y_arr.shape[0]) + np.random.randn(y_arr.shape[0])  # 生成 data: x\n",
    "# np.random.shuffle(x_arr)\n",
    "print(x_arr[:10])"
   ]
  },
  {
   "cell_type": "code",
   "execution_count": 351,
   "metadata": {},
   "outputs": [
    {
     "name": "stdout",
     "output_type": "stream",
     "text": [
      "(60, 2)\n",
      "[[-1.86037252  5.8015674 ]\n",
      " [ 1.50691653  3.9793704 ]\n",
      " [ 1.88393274  6.12994157]\n",
      " [ 4.06419509  5.71014609]\n",
      " [ 4.44613241  4.13777455]\n",
      " [ 5.96174756  4.92458507]\n",
      " [ 3.73104784  4.06387093]\n",
      " [ 5.56338131  3.07393113]\n",
      " [ 9.56090145  3.73368396]\n",
      " [ 8.59797104  4.00976127]]\n"
     ]
    }
   ],
   "source": [
    "D = np.stack((x_arr, y_arr), axis=1)   # 用np.stack 将x, y沿axis=1合并\n",
    "print(D.shape)\n",
    "print(D[:10])"
   ]
  },
  {
   "cell_type": "code",
   "execution_count": 352,
   "metadata": {},
   "outputs": [
    {
     "data": {
      "text/plain": [
       "<matplotlib.collections.PathCollection at 0x1087e9400>"
      ]
     },
     "execution_count": 352,
     "metadata": {},
     "output_type": "execute_result"
    },
    {
     "data": {
      "image/png": "[encoded data removed]",
      "text/plain": [
       "<matplotlib.figure.Figure at 0x10a023160>"
      ]
     },
     "metadata": {},
     "output_type": "display_data"
    }
   ],
   "source": [
    "plt.scatter(D[:, 0], D[:, 1])"
   ]
  },
  {
   "cell_type": "markdown",
   "metadata": {},
   "source": [
    "### build regression tree"
   ]
  },
  {
   "cell_type": "code",
   "execution_count": 353,
   "metadata": {
    "collapsed": true
   },
   "outputs": [],
   "source": [
    "def split_dataset(D, value):  # dataset, splitting value\n",
    "    '''\n",
    "    根据 value 将D 划分为 >, <= 两部分\n",
    "    '''\n",
    "    D_lte = D[ D[:, 0] <= value ]\n",
    "    D_gt = D[ D[:, 0] > value]\n",
    "#     if not np.any(D_lte):\n",
    "#         D_lte = None\n",
    "#     if not np.any(D_gt):\n",
    "#         D_gt = None\n",
    "    return D_lte, D_gt\n",
    "    "
   ]
  },
  {
   "cell_type": "code",
   "execution_count": 354,
   "metadata": {},
   "outputs": [],
   "source": [
    "# split_dataset(D, 0)\n",
    "# dir(split_dataset)\n",
    "# print(split_dataset.__doc__)"
   ]
  },
  {
   "cell_type": "code",
   "execution_count": 355,
   "metadata": {
    "collapsed": true
   },
   "outputs": [],
   "source": [
    "def cal_err(D):\n",
    "    '''\n",
    "    用平方误差度量训练误差\n",
    "    '''\n",
    "    if not np.any(D):  # empty array return err 0\n",
    "        return 0\n",
    "#     1.\n",
    "#     ave = np.mean(D[:, 1])\n",
    "#     return np.sum((D[:, 1] - ave)**2)\n",
    "#     2.\n",
    "    return np.var(D[:, 1]) * D.shape[0]   # 方差*N = sigma[(y-ave)**2]"
   ]
  },
  {
   "cell_type": "code",
   "execution_count": 356,
   "metadata": {},
   "outputs": [],
   "source": [
    "# a = np.array([[1,1], [2, 4]])\n",
    "# cal_err(a)"
   ]
  },
  {
   "cell_type": "code",
   "execution_count": 357,
   "metadata": {
    "collapsed": true
   },
   "outputs": [],
   "source": [
    "# cal_err(D)"
   ]
  },
  {
   "cell_type": "code",
   "execution_count": 358,
   "metadata": {},
   "outputs": [],
   "source": [
    "# cal_err([])"
   ]
  },
  {
   "cell_type": "code",
   "execution_count": 359,
   "metadata": {},
   "outputs": [],
   "source": [
    "# D1, D2 = split_dataset(D, 10)\n",
    "# print(cal_err(D1), cal_err(D2))"
   ]
  },
  {
   "cell_type": "code",
   "execution_count": 360,
   "metadata": {},
   "outputs": [],
   "source": [
    "max_depth = 3\n",
    "\n",
    "def build_reg_tree(D, depth = 1):\n",
    "#     print('-'*20)\n",
    "#     print(D, depth)\n",
    "    if depth == max_depth:\n",
    "        if np.any(D):\n",
    "            node = {'type':'end', 'value':np.mean(D[:,1])}  # 'end' node\n",
    "            return node\n",
    "        else:\n",
    "            return None\n",
    "    else:\n",
    "        min_err = np.inf  # np.inf\n",
    "        idx = -1\n",
    "        for i in range(D.shape[0]): # try all possible split value\n",
    "            D1, D2 = split_dataset(D, D[i][0])\n",
    "            total_err = cal_err(D1) + cal_err(D2)  # calculate total error\n",
    "            if total_err < min_err:\n",
    "                min_err = total_err\n",
    "                idx = i   # save best split index\n",
    "                \n",
    "        best_D1, best_D2 = split_dataset(D, D[idx][0])\n",
    "        node = {'type':'decision', 'split_x':D[idx][0], 'lte_node':None, 'gt_node':None}\n",
    "        if np.any(best_D1):\n",
    "            node['lte_node'] = build_reg_tree(best_D1, depth+1)  # built tree recursively\n",
    "        if np.any(best_D2):\n",
    "            node['gt_node'] = build_reg_tree(best_D2, depth+1)\n",
    "        return node\n",
    "                "
   ]
  },
  {
   "cell_type": "code",
   "execution_count": 361,
   "metadata": {},
   "outputs": [
    {
     "name": "stdout",
     "output_type": "stream",
     "text": [
      "{'gt_node': {'gt_node': {'type': 'end', 'value': 19.90617008914382},\n",
      "             'lte_node': {'type': 'end', 'value': 15.057019543870874},\n",
      "             'split_x': 42.93177376676998,\n",
      "             'type': 'decision'},\n",
      " 'lte_node': {'gt_node': {'type': 'end', 'value': 10.383240665855341},\n",
      "              'lte_node': {'type': 'end', 'value': 4.823713039499719},\n",
      "              'split_x': 13.785028251612783,\n",
      "              'type': 'decision'},\n",
      " 'split_x': 30.16271134934278,\n",
      " 'type': 'decision'}\n"
     ]
    }
   ],
   "source": [
    "reg_tree = build_reg_tree(D)\n",
    "pprint(reg_tree)"
   ]
  },
  {
   "cell_type": "code",
   "execution_count": 362,
   "metadata": {},
   "outputs": [],
   "source": [
    "def _predict_one(node, x_test):\n",
    "    '''\n",
    "    predict one test sample\n",
    "    '''\n",
    "    if node['type'] == 'decision':\n",
    "        if x_test > node['split_x']:\n",
    "            return _predict_one(node['gt_node'], x_test)\n",
    "        else:\n",
    "            return _predict_one(node['lte_node'], x_test)\n",
    "    else: # 'end' node\n",
    "        return node['value']\n",
    "    \n",
    "def predict(node, x_test_arr):\n",
    "    '''\n",
    "    predict multiple test samples\n",
    "    x_test_arr: list or np.array\n",
    "    '''\n",
    "    res_list = []\n",
    "    for d in x_test_arr:\n",
    "        res_list.append(_predict_one(node, d))\n",
    "    return np.array(res_list)"
   ]
  },
  {
   "cell_type": "code",
   "execution_count": 363,
   "metadata": {},
   "outputs": [
    {
     "data": {
      "text/plain": [
       "4.823713039499719"
      ]
     },
     "execution_count": 363,
     "metadata": {},
     "output_type": "execute_result"
    }
   ],
   "source": [
    "# plt.scatter(D[:, 0], D[:, 1])\n",
    "_predict_one(reg_tree, 10)"
   ]
  },
  {
   "cell_type": "code",
   "execution_count": 364,
   "metadata": {},
   "outputs": [
    {
     "data": {
      "text/plain": [
       "array([ 4.82371304, 10.38324067])"
      ]
     },
     "execution_count": 364,
     "metadata": {},
     "output_type": "execute_result"
    }
   ],
   "source": [
    "predict(reg_tree, [10, 20])"
   ]
  },
  {
   "cell_type": "code",
   "execution_count": 365,
   "metadata": {},
   "outputs": [
    {
     "name": "stdout",
     "output_type": "stream",
     "text": [
      "predict result:  [ 4.82371304  4.82371304  4.82371304  4.82371304  4.82371304  4.82371304\n",
      "  4.82371304  4.82371304  4.82371304  4.82371304  4.82371304  4.82371304\n",
      "  4.82371304  4.82371304  4.82371304 10.38324067 10.38324067 10.38324067\n",
      " 10.38324067 10.38324067 10.38324067 10.38324067 10.38324067 10.38324067\n",
      " 10.38324067 10.38324067 10.38324067 10.38324067 10.38324067 10.38324067\n",
      " 10.38324067 15.05701954 15.05701954 15.05701954 15.05701954 15.05701954\n",
      " 15.05701954 15.05701954 15.05701954 15.05701954 15.05701954 15.05701954\n",
      " 15.05701954 15.05701954 15.05701954 19.90617009 19.90617009 19.90617009\n",
      " 19.90617009 19.90617009 19.90617009 19.90617009 19.90617009 19.90617009\n",
      " 19.90617009 19.90617009 19.90617009 19.90617009 19.90617009 19.90617009]\n",
      "ground truth:  [ 5.8015674   3.9793704   6.12994157  5.71014609  4.13777455  4.92458507\n",
      "  4.06387093  3.07393113  3.73368396  4.00976127  5.25933669  3.79059789\n",
      "  6.48468936  4.92033127  6.336108    8.74717926 11.84375132  9.63135063\n",
      " 10.08343232  8.93818064 10.11446635 10.30859316 10.07382547 10.61741699\n",
      "  9.98080534 10.46274235 11.56914715 11.31264305  8.72876011  9.08460905\n",
      " 14.63494748 15.65533521 15.16998071 14.30413159 14.1375248  15.06694948\n",
      " 15.08716548 15.58631326 15.96975375 13.82799811 14.70754491 15.4209139\n",
      " 15.66808846 14.36743248 15.82914147 19.66255104 21.00045871 18.63118028\n",
      " 20.7111103  19.14854982 19.24463829 21.08562681 19.71822981 21.53608038\n",
      " 19.3844173  20.54300677 17.8472967  19.94151823 20.89418358 19.24370332]\n"
     ]
    }
   ],
   "source": [
    "print('predict result: ', predict(reg_tree, D[:, 0]))\n",
    "print('ground truth: ', D[:, 1])"
   ]
  },
  {
   "cell_type": "code",
   "execution_count": 366,
   "metadata": {},
   "outputs": [
    {
     "data": {
      "text/plain": [
       "[<matplotlib.lines.Line2D at 0x109ee5668>]"
      ]
     },
     "execution_count": 366,
     "metadata": {},
     "output_type": "execute_result"
    },
    {
     "data": {
      "image/png": "[encoded data removed]",
      "text/plain": [
       "<matplotlib.figure.Figure at 0x109ee5320>"
      ]
     },
     "metadata": {},
     "output_type": "display_data"
    }
   ],
   "source": [
    "plt.scatter(D[:, 0], D[:, 1])\n",
    "\n",
    "idx = np.argsort(D[:, 0])  # sort on x dim\n",
    "sorted_D = D[idx, 0]\n",
    "plt.plot(sorted_D, predict(reg_tree, sorted_D), c = 'r')   # draw regression line"
   ]
  },
  {
   "cell_type": "markdown",
   "metadata": {},
   "source": [
    "### some test scripts"
   ]
  },
  {
   "cell_type": "code",
   "execution_count": 367,
   "metadata": {},
   "outputs": [
    {
     "data": {
      "text/plain": [
       "array([ 0,  1,  2,  6,  3,  4,  7,  5,  9,  8, 10, 11, 13, 12, 14, 15, 16,\n",
       "       17, 18, 19, 20, 21, 22, 23, 24, 25, 26, 30, 27, 28, 29, 31, 32, 33,\n",
       "       36, 34, 35, 37, 40, 39, 38, 41, 42, 43, 44, 45, 46, 49, 47, 48, 50,\n",
       "       51, 52, 53, 56, 55, 54, 57, 58, 59])"
      ]
     },
     "execution_count": 367,
     "metadata": {},
     "output_type": "execute_result"
    }
   ],
   "source": [
    "idx = np.argsort(D[:, 0])\n",
    "idx"
   ]
  },
  {
   "cell_type": "code",
   "execution_count": 368,
   "metadata": {},
   "outputs": [
    {
     "data": {
      "text/plain": [
       "array([-1.86037252,  1.50691653,  1.88393274,  4.06419509,  4.44613241,\n",
       "        5.96174756,  3.73104784,  5.56338131,  9.56090145,  8.59797104,\n",
       "       10.1535902 , 11.21899052, 12.41137532, 11.53200318, 13.78502825,\n",
       "       15.5983104 , 15.95425059, 16.31803705, 17.25970765, 20.16977767,\n",
       "       21.7818131 , 21.98159192, 23.42237155, 24.4410363 , 24.72374391,\n",
       "       26.00863623, 26.59440272, 28.52582771, 28.69501969, 30.16271135,\n",
       "       27.9281809 , 30.43995263, 32.09415621, 32.65468438, 34.92279881,\n",
       "       35.95038056, 34.69715182, 36.64284096, 39.0282341 , 38.19997659,\n",
       "       37.79263367, 40.21303592, 41.70453983, 42.58850998, 42.93177377,\n",
       "       44.98045106, 45.7041293 , 48.18728439, 48.43049799, 47.14175859,\n",
       "       50.06817429, 51.42866742, 52.83366002, 53.9309659 , 55.33649674,\n",
       "       55.33643516, 54.32260235, 57.66816933, 58.20367469, 58.76930758])"
      ]
     },
     "execution_count": 368,
     "metadata": {},
     "output_type": "execute_result"
    }
   ],
   "source": [
    "D[:, 0]"
   ]
  },
  {
   "cell_type": "code",
   "execution_count": 369,
   "metadata": {},
   "outputs": [
    {
     "data": {
      "text/plain": [
       "array([-1.86037252,  1.50691653,  1.88393274,  3.73104784,  4.06419509,\n",
       "        4.44613241,  5.56338131,  5.96174756,  8.59797104,  9.56090145,\n",
       "       10.1535902 , 11.21899052, 11.53200318, 12.41137532, 13.78502825,\n",
       "       15.5983104 , 15.95425059, 16.31803705, 17.25970765, 20.16977767,\n",
       "       21.7818131 , 21.98159192, 23.42237155, 24.4410363 , 24.72374391,\n",
       "       26.00863623, 26.59440272, 27.9281809 , 28.52582771, 28.69501969,\n",
       "       30.16271135, 30.43995263, 32.09415621, 32.65468438, 34.69715182,\n",
       "       34.92279881, 35.95038056, 36.64284096, 37.79263367, 38.19997659,\n",
       "       39.0282341 , 40.21303592, 41.70453983, 42.58850998, 42.93177377,\n",
       "       44.98045106, 45.7041293 , 47.14175859, 48.18728439, 48.43049799,\n",
       "       50.06817429, 51.42866742, 52.83366002, 53.9309659 , 54.32260235,\n",
       "       55.33643516, 55.33649674, 57.66816933, 58.20367469, 58.76930758])"
      ]
     },
     "execution_count": 369,
     "metadata": {},
     "output_type": "execute_result"
    }
   ],
   "source": [
    "D[idx, 0]"
   ]
  },
  {
   "cell_type": "code",
   "execution_count": 370,
   "metadata": {},
   "outputs": [
    {
     "data": {
      "text/plain": [
       "1940.0341039568725"
      ]
     },
     "execution_count": 370,
     "metadata": {},
     "output_type": "execute_result"
    }
   ],
   "source": [
    "a = np.array([[1,1], [2, 4]])\n",
    "cal_err(D)"
   ]
  },
  {
   "cell_type": "code",
   "execution_count": 371,
   "metadata": {},
   "outputs": [
    {
     "data": {
      "text/plain": [
       "True"
      ]
     },
     "execution_count": 371,
     "metadata": {},
     "output_type": "execute_result"
    }
   ],
   "source": [
    "5 <np.inf"
   ]
  },
  {
   "cell_type": "code",
   "execution_count": null,
   "metadata": {
    "collapsed": true
   },
   "outputs": [],
   "source": []
  }
 ],
 "metadata": {
  "kernelspec": {
   "display_name": "Python 3",
   "language": "python",
   "name": "python3"
  },
  "language_info": {
   "codemirror_mode": {
    "name": "ipython",
    "version": 3
   },
   "file_extension": ".py",
   "mimetype": "text/x-python",
   "name": "python",
   "nbconvert_exporter": "python",
   "pygments_lexer": "ipython3",
   "version": "3.6.3"
  }
 },
 "nbformat": 4,
 "nbformat_minor": 2
}
