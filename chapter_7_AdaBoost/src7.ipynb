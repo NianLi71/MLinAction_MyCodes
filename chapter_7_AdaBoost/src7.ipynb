{
 "cells": [
  {
   "cell_type": "code",
   "execution_count": 2,
   "metadata": {
    "collapsed": true
   },
   "outputs": [],
   "source": [
    "import numpy as np\n",
    "import matplotlib.pyplot as plt\n",
    "%matplotlib inline"
   ]
  },
  {
   "cell_type": "markdown",
   "metadata": {},
   "source": [
    "### creating decision stump "
   ]
  },
  {
   "cell_type": "code",
   "execution_count": 3,
   "metadata": {
    "collapsed": true
   },
   "outputs": [],
   "source": [
    "class adaboost:\n",
    "    def loadSimpleData():\n",
    "        data = np.array([\n",
    "            [1., 2.1],\n",
    "            [1.6, 1.6],\n",
    "            [1.3, 1.],\n",
    "            [1., 1.],\n",
    "            [2., 1.]\n",
    "        ])\n",
    "        labels = np.array([1.0, 1.0, -1.0, -1.0, 1.0])\n",
    "        return data, labels"
   ]
  },
  {
   "cell_type": "code",
   "execution_count": 4,
   "metadata": {},
   "outputs": [
    {
     "data": {
      "text/plain": [
       "<matplotlib.collections.PathCollection at 0x1079bf6a0>"
      ]
     },
     "execution_count": 4,
     "metadata": {},
     "output_type": "execute_result"
    },
    {
     "data": {
      "image/png": "[encoded data removed]",
      "text/plain": [
       "<matplotlib.figure.Figure at 0x107960b70>"
      ]
     },
     "metadata": {},
     "output_type": "display_data"
    }
   ],
   "source": [
    "dataset, labels = adaboost.loadSimpleData()\n",
    "plt.scatter(dataset[:, 0], dataset[:,1],c=['r' if l == 1 else 'g' for l in labels])"
   ]
  },
  {
   "cell_type": "markdown",
   "metadata": {},
   "source": [
    "### using sklearn "
   ]
  },
  {
   "cell_type": "code",
   "execution_count": 5,
   "metadata": {
    "collapsed": true
   },
   "outputs": [],
   "source": [
    "import numpy as np\n",
    "import matplotlib.pyplot as plt\n",
    "\n",
    "from sklearn.ensemble import AdaBoostClassifier\n",
    "from sklearn.tree import DecisionTreeClassifier"
   ]
  },
  {
   "cell_type": "code",
   "execution_count": 6,
   "metadata": {
    "collapsed": true
   },
   "outputs": [],
   "source": [
    "bdt = AdaBoostClassifier(DecisionTreeClassifier(max_depth=1),\n",
    "                         algorithm=\"SAMME\",\n",
    "                         n_estimators=5)\n",
    "\n"
   ]
  },
  {
   "cell_type": "code",
   "execution_count": 7,
   "metadata": {},
   "outputs": [
    {
     "data": {
      "text/plain": [
       "AdaBoostClassifier(algorithm='SAMME',\n",
       "          base_estimator=DecisionTreeClassifier(class_weight=None, criterion='gini', max_depth=1,\n",
       "            max_features=None, max_leaf_nodes=None,\n",
       "            min_impurity_decrease=0.0, min_impurity_split=None,\n",
       "            min_samples_leaf=1, min_samples_split=2,\n",
       "            min_weight_fraction_leaf=0.0, presort=False, random_state=None,\n",
       "            splitter='best'),\n",
       "          learning_rate=1.0, n_estimators=5, random_state=None)"
      ]
     },
     "execution_count": 7,
     "metadata": {},
     "output_type": "execute_result"
    }
   ],
   "source": [
    "X = dataset\n",
    "y = labels\n",
    "bdt.fit(X, y)"
   ]
  },
  {
   "cell_type": "code",
   "execution_count": 8,
   "metadata": {},
   "outputs": [
    {
     "data": {
      "text/plain": [
       "{'algorithm': 'SAMME',\n",
       " 'base_estimator': DecisionTreeClassifier(class_weight=None, criterion='gini', max_depth=1,\n",
       "             max_features=None, max_leaf_nodes=None,\n",
       "             min_impurity_decrease=0.0, min_impurity_split=None,\n",
       "             min_samples_leaf=1, min_samples_split=2,\n",
       "             min_weight_fraction_leaf=0.0, presort=False, random_state=None,\n",
       "             splitter='best'),\n",
       " 'base_estimator__class_weight': None,\n",
       " 'base_estimator__criterion': 'gini',\n",
       " 'base_estimator__max_depth': 1,\n",
       " 'base_estimator__max_features': None,\n",
       " 'base_estimator__max_leaf_nodes': None,\n",
       " 'base_estimator__min_impurity_decrease': 0.0,\n",
       " 'base_estimator__min_impurity_split': None,\n",
       " 'base_estimator__min_samples_leaf': 1,\n",
       " 'base_estimator__min_samples_split': 2,\n",
       " 'base_estimator__min_weight_fraction_leaf': 0.0,\n",
       " 'base_estimator__presort': False,\n",
       " 'base_estimator__random_state': None,\n",
       " 'base_estimator__splitter': 'best',\n",
       " 'learning_rate': 1.0,\n",
       " 'n_estimators': 5,\n",
       " 'random_state': None}"
      ]
     },
     "execution_count": 8,
     "metadata": {},
     "output_type": "execute_result"
    }
   ],
   "source": [
    "bdt.get_params()"
   ]
  },
  {
   "cell_type": "code",
   "execution_count": 9,
   "metadata": {},
   "outputs": [
    {
     "data": {
      "text/plain": [
       "array([-1.])"
      ]
     },
     "execution_count": 9,
     "metadata": {},
     "output_type": "execute_result"
    }
   ],
   "source": [
    "bdt.predict([[1,1]])"
   ]
  },
  {
   "cell_type": "code",
   "execution_count": 10,
   "metadata": {},
   "outputs": [
    {
     "data": {
      "text/plain": [
       "array([ 1.,  1., -1., -1.,  1.])"
      ]
     },
     "execution_count": 10,
     "metadata": {},
     "output_type": "execute_result"
    }
   ],
   "source": [
    "bdt.predict([[1., 2.1],\n",
    "            [1.6, 1.6],\n",
    "            [1.3, 1.],\n",
    "            [1., 1.],\n",
    "            [2., 1.]])"
   ]
  },
  {
   "cell_type": "code",
   "execution_count": 11,
   "metadata": {},
   "outputs": [],
   "source": [
    "plot_step = 0.01\n",
    "x_min, x_max = X[:, 0].min() - 1, X[:, 0].max() + 1\n",
    "y_min, y_max = X[:, 1].min() - 1, X[:, 1].max() + 1\n",
    "xx, yy = np.meshgrid(np.arange(x_min, x_max, plot_step),\n",
    "                     np.arange(y_min, y_max, plot_step))"
   ]
  },
  {
   "cell_type": "code",
   "execution_count": 12,
   "metadata": {},
   "outputs": [
    {
     "data": {
      "text/plain": [
       "(0.0, 3.0)"
      ]
     },
     "execution_count": 12,
     "metadata": {},
     "output_type": "execute_result"
    }
   ],
   "source": [
    "x_min, x_max"
   ]
  },
  {
   "cell_type": "code",
   "execution_count": 13,
   "metadata": {},
   "outputs": [
    {
     "data": {
      "text/plain": [
       "(0.0, 3.1)"
      ]
     },
     "execution_count": 13,
     "metadata": {},
     "output_type": "execute_result"
    }
   ],
   "source": [
    "y_min, y_max"
   ]
  },
  {
   "cell_type": "code",
   "execution_count": 14,
   "metadata": {},
   "outputs": [
    {
     "data": {
      "text/plain": [
       "array([[0.  , 0.01, 0.02, ..., 2.97, 2.98, 2.99],\n",
       "       [0.  , 0.01, 0.02, ..., 2.97, 2.98, 2.99],\n",
       "       [0.  , 0.01, 0.02, ..., 2.97, 2.98, 2.99],\n",
       "       ...,\n",
       "       [0.  , 0.01, 0.02, ..., 2.97, 2.98, 2.99],\n",
       "       [0.  , 0.01, 0.02, ..., 2.97, 2.98, 2.99],\n",
       "       [0.  , 0.01, 0.02, ..., 2.97, 2.98, 2.99]])"
      ]
     },
     "execution_count": 14,
     "metadata": {},
     "output_type": "execute_result"
    }
   ],
   "source": [
    "xx"
   ]
  },
  {
   "cell_type": "code",
   "execution_count": 15,
   "metadata": {},
   "outputs": [
    {
     "data": {
      "text/plain": [
       "(310, 300)"
      ]
     },
     "execution_count": 15,
     "metadata": {},
     "output_type": "execute_result"
    }
   ],
   "source": [
    "xx.shape"
   ]
  },
  {
   "cell_type": "code",
   "execution_count": 16,
   "metadata": {},
   "outputs": [
    {
     "data": {
      "text/plain": [
       "array([[0.  , 0.  , 0.  , ..., 0.  , 0.  , 0.  ],\n",
       "       [0.01, 0.01, 0.01, ..., 0.01, 0.01, 0.01],\n",
       "       [0.02, 0.02, 0.02, ..., 0.02, 0.02, 0.02],\n",
       "       ...,\n",
       "       [3.07, 3.07, 3.07, ..., 3.07, 3.07, 3.07],\n",
       "       [3.08, 3.08, 3.08, ..., 3.08, 3.08, 3.08],\n",
       "       [3.09, 3.09, 3.09, ..., 3.09, 3.09, 3.09]])"
      ]
     },
     "execution_count": 16,
     "metadata": {},
     "output_type": "execute_result"
    }
   ],
   "source": [
    "yy"
   ]
  },
  {
   "cell_type": "code",
   "execution_count": 17,
   "metadata": {},
   "outputs": [
    {
     "data": {
      "text/plain": [
       "array([0.  , 0.01, 0.02, ..., 2.97, 2.98, 2.99])"
      ]
     },
     "execution_count": 17,
     "metadata": {},
     "output_type": "execute_result"
    }
   ],
   "source": [
    "xx.ravel()"
   ]
  },
  {
   "cell_type": "code",
   "execution_count": 18,
   "metadata": {},
   "outputs": [
    {
     "data": {
      "text/plain": [
       "(93000,)"
      ]
     },
     "execution_count": 18,
     "metadata": {},
     "output_type": "execute_result"
    }
   ],
   "source": [
    "xx.ravel().shape"
   ]
  },
  {
   "cell_type": "code",
   "execution_count": 19,
   "metadata": {},
   "outputs": [
    {
     "data": {
      "text/plain": [
       "array([[0.  , 0.  ],\n",
       "       [0.01, 0.  ],\n",
       "       [0.02, 0.  ],\n",
       "       ...,\n",
       "       [2.97, 3.09],\n",
       "       [2.98, 3.09],\n",
       "       [2.99, 3.09]])"
      ]
     },
     "execution_count": 19,
     "metadata": {},
     "output_type": "execute_result"
    }
   ],
   "source": [
    "np.c_[xx.ravel(), yy.ravel()]"
   ]
  },
  {
   "cell_type": "code",
   "execution_count": 20,
   "metadata": {},
   "outputs": [
    {
     "data": {
      "text/plain": [
       "<matplotlib.collections.PathCollection at 0x10ae72748>"
      ]
     },
     "execution_count": 20,
     "metadata": {},
     "output_type": "execute_result"
    },
    {
     "data": {
      "image/png": "[encoded data removed]",
      "text/plain": [
       "<matplotlib.figure.Figure at 0x107995a90>"
      ]
     },
     "metadata": {},
     "output_type": "display_data"
    }
   ],
   "source": [
    "Z = bdt.predict(np.c_[xx.ravel(), yy.ravel()])\n",
    "Z = Z.reshape(xx.shape)\n",
    "cs = plt.contourf(xx, yy, Z, cmap=plt.cm.Paired)\n",
    "plt.scatter(X[:, 0], X[:,1],c=['r' if l == 1 else 'g' for l in y])"
   ]
  },
  {
   "cell_type": "markdown",
   "metadata": {},
   "source": [
    "###  raw adaboost code "
   ]
  },
  {
   "cell_type": "code",
   "execution_count": 21,
   "metadata": {},
   "outputs": [
    {
     "data": {
      "text/plain": [
       "array([[1. , 2.1],\n",
       "       [1.6, 1.6],\n",
       "       [1.3, 1. ],\n",
       "       [1. , 1. ],\n",
       "       [2. , 1. ]])"
      ]
     },
     "execution_count": 21,
     "metadata": {},
     "output_type": "execute_result"
    }
   ],
   "source": [
    "dataArr = dataset[:]\n",
    "dataArr"
   ]
  },
  {
   "cell_type": "code",
   "execution_count": 22,
   "metadata": {},
   "outputs": [
    {
     "data": {
      "text/plain": [
       "array([False,  True,  True, False,  True])"
      ]
     },
     "execution_count": 22,
     "metadata": {},
     "output_type": "execute_result"
    }
   ],
   "source": [
    "dataArr[:, 0] > 1"
   ]
  },
  {
   "cell_type": "code",
   "execution_count": 23,
   "metadata": {},
   "outputs": [
    {
     "data": {
      "text/plain": [
       "array([[1. , 2.1],\n",
       "       [1.6, 1.6],\n",
       "       [1.3, 1. ],\n",
       "       [1. , 1. ],\n",
       "       [2. , 1. ]])"
      ]
     },
     "execution_count": 23,
     "metadata": {},
     "output_type": "execute_result"
    }
   ],
   "source": [
    "# dataArr[dataArr[:, 0] > 1, 0] = 0\n",
    "# dataArr\n",
    "dataset"
   ]
  },
  {
   "cell_type": "code",
   "execution_count": 24,
   "metadata": {
    "collapsed": true
   },
   "outputs": [],
   "source": [
    "def stumpClassify(dataArr, i, thresVal, inequal): # dataArr, feature_axis, threshold value, 'lt'or'gt\n",
    "    retArray = np.ones(dataArr.shape[0])\n",
    "    if inequal == 'lte':\n",
    "        retArray[dataArr[:, i] <= thresVal] = -1.0\n",
    "    else:\n",
    "        retArray[dataArr[:, i] > thresVal] = -1.0\n",
    "    return retArray"
   ]
  },
  {
   "cell_type": "code",
   "execution_count": 25,
   "metadata": {},
   "outputs": [
    {
     "data": {
      "text/plain": [
       "array([ 1.,  1., -1., -1., -1.])"
      ]
     },
     "execution_count": 25,
     "metadata": {},
     "output_type": "execute_result"
    }
   ],
   "source": [
    "stumpClassify(dataset, 1, 1.5, 'lte')   # on feature axis 1, less then equal 1.5, all set to -1"
   ]
  },
  {
   "cell_type": "code",
   "execution_count": 26,
   "metadata": {},
   "outputs": [
    {
     "data": {
      "text/plain": [
       "array([ 1., -1.,  1.,  1., -1.])"
      ]
     },
     "execution_count": 26,
     "metadata": {},
     "output_type": "execute_result"
    }
   ],
   "source": [
    "stumpClassify(dataset, 0, 1.5, 'gt')   # on feature axis 0, greater then 1.5, all set to -1"
   ]
  },
  {
   "cell_type": "markdown",
   "metadata": {},
   "source": [
    "#### build weak learner, decision stump"
   ]
  },
  {
   "cell_type": "code",
   "execution_count": 27,
   "metadata": {},
   "outputs": [],
   "source": [
    "def buildStump(dataArr, classLabels, D):\n",
    "    m,n = dataArr.shape\n",
    "#     print(m, n)\n",
    "    numSteps = 10.0\n",
    "    bestStump = {}\n",
    "    bestClasEst = np.zeros(m)\n",
    "    minError = np.inf\n",
    "    for i in range(n): # for each feature\n",
    "        rangeMin = dataArr[:, i].min()\n",
    "        rangeMax = dataArr[:, i].max()\n",
    "        stepSize = (rangeMax - rangeMin) / numSteps\n",
    "        for j in range(-1, int(numSteps)+ 1):  # for each step\n",
    "            thresVal = (rangeMin + float(j) * stepSize)  # calculate threshold value for each step\n",
    "            for inequal in ['lte', 'gt']: # enumerate <, >\n",
    "                predictedVals = stumpClassify(dataArr, i, thresVal, inequal)\n",
    "                errArr = np.ones(m)\n",
    "                errArr[predictedVals == classLabels] = 0\n",
    "                weightedError = np.dot(D, errArr)  # error rate\n",
    "#                 print('{} {} {} {} {} {}'.format(i, inequal, thresVal, predictedVals, errArr, weightedError))\n",
    "                # print(errArr)\n",
    "                if weightedError < minError:\n",
    "                    minError = weightedError\n",
    "                    bestClasEst = predictedVals\n",
    "                    bestStump['dim'] = i\n",
    "                    bestStump['thresh'] = thresVal\n",
    "                    bestStump['ineq'] = inequal\n",
    "    return {'bestStump':bestStump, 'minError':minError, 'bestClasEst':bestClasEst}\n",
    "                    \n",
    "                    "
   ]
  },
  {
   "cell_type": "code",
   "execution_count": 28,
   "metadata": {},
   "outputs": [
    {
     "name": "stdout",
     "output_type": "stream",
     "text": [
      "(5,)\n"
     ]
    }
   ],
   "source": [
    "D = np.ones(5) / 5.0\n",
    "print(D.shape)"
   ]
  },
  {
   "cell_type": "code",
   "execution_count": 29,
   "metadata": {},
   "outputs": [
    {
     "name": "stdout",
     "output_type": "stream",
     "text": [
      "[[1.  2.1]\n",
      " [1.6 1.6]\n",
      " [1.3 1. ]\n",
      " [1.  1. ]\n",
      " [2.  1. ]]\n",
      "[ 1.  1. -1. -1.  1.]\n"
     ]
    },
    {
     "data": {
      "text/plain": [
       "{'bestClasEst': array([-1.,  1., -1., -1.,  1.]),\n",
       " 'bestStump': {'dim': 0, 'ineq': 'lte', 'thresh': 1.3},\n",
       " 'minError': 0.2}"
      ]
     },
     "execution_count": 29,
     "metadata": {},
     "output_type": "execute_result"
    }
   ],
   "source": [
    "print(dataset)\n",
    "print(labels)\n",
    "buildStump(dataset, labels, D)"
   ]
  },
  {
   "cell_type": "markdown",
   "metadata": {},
   "source": [
    "### implementing adaboost "
   ]
  },
  {
   "cell_type": "code",
   "execution_count": 112,
   "metadata": {},
   "outputs": [],
   "source": [
    "def adaboost(dataset, labels, M):\n",
    "    sample_num, feature_num = dataset.shape\n",
    "    D = np.ones(sample_num) / sample_num\n",
    "#     print(D)\n",
    "    weakClassArr = []\n",
    "    aggClassEst = np.zeros(sample_num)\n",
    "    for m in range(M):\n",
    "        stump = buildStump(dataset, labels, D)\n",
    "#         print(stump)\n",
    "        \n",
    "        alpha_m = 0.5*np.log((1-stump['minError'])/np.max([stump['minError'], 1e-16]))\n",
    "        stump['bestStump']['alpha'] = alpha_m\n",
    "        weakClassArr.append(stump['bestStump'])\n",
    "#         print(alpha_m)\n",
    "        \n",
    "        expon = -alpha_m * labels*stump['bestClasEst']\n",
    "#         print(expon)\n",
    "        expon_term = np.e ** expon\n",
    "#         print(expon_term)\n",
    "        Z_m = np.dot(D, expon_term)\n",
    "#         print(Z_m)\n",
    "        \n",
    "        # calculate D for next round\n",
    "        D = D * expon_term / Z_m\n",
    "#         print(D)\n",
    "#         same as 2 above lines\n",
    "#         D = D * expon_term\n",
    "#         D = D / D.sum()\n",
    "#         print('D: ', D)\n",
    "\n",
    "        aggClassEst += alpha_m * stump['bestClasEst']\n",
    "#         print(np.sign(aggClassEst))\n",
    "        aggErrors = (np.sign(aggClassEst) != labels) * np.ones(sample_num)\n",
    "#         print(aggErrors)\n",
    "        errorRate = aggErrors.mean()\n",
    "#         print(errorRate)\n",
    "        if errorRate < 1e-3:\n",
    "            break\n",
    "    print('train error: ', errorRate)\n",
    "    return weakClassArr"
   ]
  },
  {
   "cell_type": "code",
   "execution_count": 113,
   "metadata": {},
   "outputs": [
    {
     "name": "stdout",
     "output_type": "stream",
     "text": [
      "train error:  0.0\n"
     ]
    }
   ],
   "source": [
    "adaboost_classifier = adaboost(dataset, labels, 5)"
   ]
  },
  {
   "cell_type": "code",
   "execution_count": 114,
   "metadata": {},
   "outputs": [
    {
     "data": {
      "text/plain": [
       "1.0"
      ]
     },
     "execution_count": 114,
     "metadata": {},
     "output_type": "execute_result"
    }
   ],
   "source": [
    "np.log(np.e)"
   ]
  },
  {
   "cell_type": "code",
   "execution_count": 115,
   "metadata": {},
   "outputs": [
    {
     "data": {
      "text/plain": [
       "1.9999999988801092"
      ]
     },
     "execution_count": 115,
     "metadata": {},
     "output_type": "execute_result"
    }
   ],
   "source": [
    "np.e**0.69314718"
   ]
  },
  {
   "cell_type": "markdown",
   "metadata": {},
   "source": [
    "#### adaboost predict "
   ]
  },
  {
   "cell_type": "code",
   "execution_count": 116,
   "metadata": {},
   "outputs": [],
   "source": [
    "def predict(X, classifier):\n",
    "    pred_label = np.zeros(X.shape[0])\n",
    "    for i, sample in enumerate(X):\n",
    "        for sub_c in classifier:\n",
    "            value = sample[sub_c['dim']]\n",
    "            if sub_c['ineq'] == 'lte':\n",
    "                pred_label[i] += sub_c['alpha'] * ( -1 if value <= sub_c['thresh'] else 1)\n",
    "            else:\n",
    "                pred_label[i] += sub_c['alpha'] * ( -1 if value > sub_c['thresh'] else 1)\n",
    "    return list(np.sign(pred_label))\n",
    "#     return pred_label\n",
    "\n",
    "def predict_fast(X, classifier):\n",
    "    pred_label = np.zeros(X.shape[0])\n",
    "    for sub_c in classifier:\n",
    "        pred_label += sub_c['alpha'] * stumpClassify(X, sub_c['dim'], sub_c['thresh'], sub_c['ineq'])\n",
    "#         print(pred_label)\n",
    "    return list(np.sign(pred_label))"
   ]
  },
  {
   "cell_type": "code",
   "execution_count": 117,
   "metadata": {
    "collapsed": true
   },
   "outputs": [],
   "source": [
    "X = np.array([\n",
    "            [1., 2.1],\n",
    "            [1.6, 1.6],\n",
    "            [1.3, 1.],\n",
    "            [1., 1.],\n",
    "            [2., 1.]\n",
    "        ])"
   ]
  },
  {
   "cell_type": "code",
   "execution_count": 118,
   "metadata": {},
   "outputs": [
    {
     "data": {
      "text/plain": [
       "[1.0, 1.0, -1.0, -1.0, 1.0]"
      ]
     },
     "execution_count": 118,
     "metadata": {},
     "output_type": "execute_result"
    }
   ],
   "source": [
    "predict(X, adaboost_classifier)"
   ]
  },
  {
   "cell_type": "code",
   "execution_count": 119,
   "metadata": {},
   "outputs": [
    {
     "data": {
      "text/plain": [
       "[1.0, 1.0, -1.0, -1.0, 1.0]"
      ]
     },
     "execution_count": 119,
     "metadata": {},
     "output_type": "execute_result"
    }
   ],
   "source": [
    "predict_fast(X, adaboost_classifier)"
   ]
  },
  {
   "cell_type": "code",
   "execution_count": 120,
   "metadata": {},
   "outputs": [
    {
     "data": {
      "text/plain": [
       "(1, 2)"
      ]
     },
     "execution_count": 120,
     "metadata": {},
     "output_type": "execute_result"
    }
   ],
   "source": [
    "X = np.array([[0,0]])\n",
    "X.shape"
   ]
  },
  {
   "cell_type": "code",
   "execution_count": 121,
   "metadata": {},
   "outputs": [
    {
     "data": {
      "text/plain": [
       "[-1.0]"
      ]
     },
     "execution_count": 121,
     "metadata": {},
     "output_type": "execute_result"
    }
   ],
   "source": [
    "predict_fast(X, adaboost_classifier)"
   ]
  },
  {
   "cell_type": "markdown",
   "metadata": {},
   "source": [
    "### test on horse colic dataset"
   ]
  },
  {
   "cell_type": "code",
   "execution_count": 122,
   "metadata": {
    "collapsed": true
   },
   "outputs": [],
   "source": [
    "def load_data(filename):\n",
    "    data_arr = []\n",
    "    labels = []\n",
    "    with open(filename, 'r') as f:\n",
    "        for line in f:\n",
    "            line = line.strip().split()\n",
    "            data_arr.append([float(l) for l in line[:-1] ])\n",
    "            labels.append(float(line[-1]))\n",
    "#             print(line)\n",
    "#     print(data_arr[0])\n",
    "    return np.array(data_arr), np.array(labels)"
   ]
  },
  {
   "cell_type": "code",
   "execution_count": 123,
   "metadata": {},
   "outputs": [],
   "source": [
    "X_train, y_train = load_data('horseColicTraining.txt')"
   ]
  },
  {
   "cell_type": "code",
   "execution_count": 124,
   "metadata": {},
   "outputs": [
    {
     "data": {
      "text/plain": [
       "(299, 21)"
      ]
     },
     "execution_count": 124,
     "metadata": {},
     "output_type": "execute_result"
    }
   ],
   "source": [
    "X_train.shape"
   ]
  },
  {
   "cell_type": "code",
   "execution_count": 125,
   "metadata": {},
   "outputs": [
    {
     "data": {
      "text/plain": [
       "(299,)"
      ]
     },
     "execution_count": 125,
     "metadata": {},
     "output_type": "execute_result"
    }
   ],
   "source": [
    "y_train.shape"
   ]
  },
  {
   "cell_type": "code",
   "execution_count": 126,
   "metadata": {},
   "outputs": [
    {
     "data": {
      "text/plain": [
       "{0.0, 1.0}"
      ]
     },
     "execution_count": 126,
     "metadata": {},
     "output_type": "execute_result"
    }
   ],
   "source": [
    "set(y_train)"
   ]
  },
  {
   "cell_type": "code",
   "execution_count": 127,
   "metadata": {},
   "outputs": [
    {
     "data": {
      "text/plain": [
       "array([0., 0., 1., 0., 0., 1., 1., 0., 0., 1.])"
      ]
     },
     "execution_count": 127,
     "metadata": {},
     "output_type": "execute_result"
    }
   ],
   "source": [
    "y_train[:10]"
   ]
  },
  {
   "cell_type": "code",
   "execution_count": 128,
   "metadata": {},
   "outputs": [],
   "source": [
    "y_train[y_train < 1e-6] = -1"
   ]
  },
  {
   "cell_type": "code",
   "execution_count": 157,
   "metadata": {},
   "outputs": [
    {
     "data": {
      "text/plain": [
       "array([-1., -1.,  1., -1., -1.,  1.,  1., -1., -1.,  1.])"
      ]
     },
     "execution_count": 157,
     "metadata": {},
     "output_type": "execute_result"
    }
   ],
   "source": [
    "y_train[:10]"
   ]
  },
  {
   "cell_type": "code",
   "execution_count": 158,
   "metadata": {},
   "outputs": [
    {
     "data": {
      "text/plain": [
       "array([[ 2. ,  1. , 38.5, 66. , 28. ,  3. ,  3. ,  0. ,  2. ,  5. ,  4. ,\n",
       "         4. ,  0. ,  0. ,  0. ,  3. ,  5. , 45. ,  8.4,  0. ,  0. ],\n",
       "       [ 1. ,  1. , 39.2, 88. , 20. ,  0. ,  0. ,  4. ,  1. ,  3. ,  4. ,\n",
       "         2. ,  0. ,  0. ,  0. ,  4. ,  2. , 50. , 85. ,  2. ,  2. ]])"
      ]
     },
     "execution_count": 158,
     "metadata": {},
     "output_type": "execute_result"
    }
   ],
   "source": [
    "X_train[:2]"
   ]
  },
  {
   "cell_type": "code",
   "execution_count": 213,
   "metadata": {},
   "outputs": [
    {
     "name": "stdout",
     "output_type": "stream",
     "text": [
      "train error:  0.19063545150501673\n"
     ]
    }
   ],
   "source": [
    "adaboost_c = adaboost(X_train, y_train, 100)"
   ]
  },
  {
   "cell_type": "code",
   "execution_count": 214,
   "metadata": {},
   "outputs": [
    {
     "data": {
      "text/plain": [
       "[{'alpha': 0.4616623792657674, 'dim': 9, 'ineq': 'gt', 'thresh': 3.0},\n",
       " {'alpha': 0.3124824504246713, 'dim': 17, 'ineq': 'gt', 'thresh': 52.5},\n",
       " {'alpha': 0.2868097320169577,\n",
       "  'dim': 3,\n",
       "  'ineq': 'gt',\n",
       "  'thresh': 55.199999999999996},\n",
       " {'alpha': 0.23297004638939506,\n",
       "  'dim': 18,\n",
       "  'ineq': 'lte',\n",
       "  'thresh': 62.300000000000004},\n",
       " {'alpha': 0.19803846151213728, 'dim': 10, 'ineq': 'lte', 'thresh': 0.0},\n",
       " {'alpha': 0.18847887349020628, 'dim': 5, 'ineq': 'gt', 'thresh': 2.0},\n",
       " {'alpha': 0.15227368997476812, 'dim': 12, 'ineq': 'lte', 'thresh': 1.2},\n",
       " {'alpha': 0.15510870821690478, 'dim': 7, 'ineq': 'gt', 'thresh': 1.2},\n",
       " {'alpha': 0.13536197353359364, 'dim': 5, 'ineq': 'lte', 'thresh': 0.0},\n",
       " {'alpha': 0.12521587326132078,\n",
       "  'dim': 4,\n",
       "  'ineq': 'lte',\n",
       "  'thresh': 28.799999999999997},\n",
       " {'alpha': 0.1334764812820767, 'dim': 11, 'ineq': 'gt', 'thresh': 2.0},\n",
       " {'alpha': 0.14182243253771037, 'dim': 9, 'ineq': 'lte', 'thresh': 4.0},\n",
       " {'alpha': 0.10264268449708028, 'dim': 14, 'ineq': 'gt', 'thresh': 0.0},\n",
       " {'alpha': 0.11883732872109484, 'dim': 0, 'ineq': 'lte', 'thresh': 1.0},\n",
       " {'alpha': 0.09879216527106643, 'dim': 4, 'ineq': 'gt', 'thresh': 19.2},\n",
       " {'alpha': 0.12029960885056877, 'dim': 2, 'ineq': 'lte', 'thresh': 36.72},\n",
       " {'alpha': 0.10846927663989175, 'dim': 3, 'ineq': 'lte', 'thresh': 92.0},\n",
       " {'alpha': 0.09652967982091401, 'dim': 15, 'ineq': 'lte', 'thresh': 0.0},\n",
       " {'alpha': 0.08958515309272004, 'dim': 3, 'ineq': 'gt', 'thresh': 73.6},\n",
       " {'alpha': 0.09210361961272445, 'dim': 18, 'ineq': 'lte', 'thresh': 8.9},\n",
       " {'alpha': 0.1046414221707963, 'dim': 16, 'ineq': 'gt', 'thresh': 4.0},\n",
       " {'alpha': 0.09575457291711578, 'dim': 11, 'ineq': 'lte', 'thresh': 3.2},\n",
       " {'alpha': 0.09624217440331524, 'dim': 20, 'ineq': 'gt', 'thresh': 0.0},\n",
       " {'alpha': 0.07859662885189661, 'dim': 17, 'ineq': 'lte', 'thresh': 37.5},\n",
       " {'alpha': 0.0714286363455072, 'dim': 9, 'ineq': 'lte', 'thresh': 2.0},\n",
       " {'alpha': 0.07830753154662184, 'dim': 5, 'ineq': 'gt', 'thresh': 2.0},\n",
       " {'alpha': 0.07606159074712804,\n",
       "  'dim': 4,\n",
       "  'ineq': 'lte',\n",
       "  'thresh': 28.799999999999997},\n",
       " {'alpha': 0.08306752811081974, 'dim': 4, 'ineq': 'gt', 'thresh': 19.2},\n",
       " {'alpha': 0.0830416741141175, 'dim': 7, 'ineq': 'gt', 'thresh': 4.2},\n",
       " {'alpha': 0.08893356802801214, 'dim': 3, 'ineq': 'lte', 'thresh': 92.0},\n",
       " {'alpha': 0.07000509315417908, 'dim': 14, 'ineq': 'gt', 'thresh': 3.0},\n",
       " {'alpha': 0.07697582358565984,\n",
       "  'dim': 7,\n",
       "  'ineq': 'lte',\n",
       "  'thresh': 5.3999999999999995},\n",
       " {'alpha': 0.0850745744286668, 'dim': 18, 'ineq': 'lte', 'thresh': 0.0},\n",
       " {'alpha': 0.06765903873020651, 'dim': 5, 'ineq': 'lte', 'thresh': 3.2},\n",
       " {'alpha': 0.0804568082223703, 'dim': 7, 'ineq': 'gt', 'thresh': 3.0},\n",
       " {'alpha': 0.056168629219695475, 'dim': 12, 'ineq': 'lte', 'thresh': 1.2},\n",
       " {'alpha': 0.06454264376249863, 'dim': 11, 'ineq': 'gt', 'thresh': 2.0},\n",
       " {'alpha': 0.053088884353829045,\n",
       "  'dim': 7,\n",
       "  'ineq': 'lte',\n",
       "  'thresh': 5.3999999999999995},\n",
       " {'alpha': 0.07346058614788499, 'dim': 11, 'ineq': 'lte', 'thresh': 0.0},\n",
       " {'alpha': 0.07872267320907443, 'dim': 13, 'ineq': 'gt', 'thresh': 0.0},\n",
       " {'alpha': 0.05499873227832709, 'dim': 1, 'ineq': 'gt', 'thresh': 1.0},\n",
       " {'alpha': 0.05629427842832903,\n",
       "  'dim': 4,\n",
       "  'ineq': 'lte',\n",
       "  'thresh': 86.39999999999999},\n",
       " {'alpha': 0.059187681135877884, 'dim': 3, 'ineq': 'lte', 'thresh': 36.8},\n",
       " {'alpha': 0.056570489276912196,\n",
       "  'dim': 3,\n",
       "  'ineq': 'gt',\n",
       "  'thresh': 55.199999999999996},\n",
       " {'alpha': 0.04837989711806785,\n",
       "  'dim': 4,\n",
       "  'ineq': 'lte',\n",
       "  'thresh': 28.799999999999997},\n",
       " {'alpha': 0.05218464392995661, 'dim': 4, 'ineq': 'gt', 'thresh': 19.2},\n",
       " {'alpha': 0.05449217157186842, 'dim': 4, 'ineq': 'lte', 'thresh': 0.0},\n",
       " {'alpha': 0.05023542588085874, 'dim': 15, 'ineq': 'lte', 'thresh': 2.0},\n",
       " {'alpha': 0.050924227944909826, 'dim': 13, 'ineq': 'gt', 'thresh': 1.2},\n",
       " {'alpha': 0.053941058098775786,\n",
       "  'dim': 7,\n",
       "  'ineq': 'lte',\n",
       "  'thresh': 5.3999999999999995},\n",
       " {'alpha': 0.06582395158707054, 'dim': 7, 'ineq': 'gt', 'thresh': 4.2},\n",
       " {'alpha': 0.05669600323356746,\n",
       "  'dim': 7,\n",
       "  'ineq': 'lte',\n",
       "  'thresh': 5.3999999999999995},\n",
       " {'alpha': 0.05393148493266884, 'dim': 17, 'ineq': 'gt', 'thresh': 60.0},\n",
       " {'alpha': 0.05293805401988572, 'dim': 11, 'ineq': 'lte', 'thresh': 3.2},\n",
       " {'alpha': 0.04844978986368815, 'dim': 18, 'ineq': 'lte', 'thresh': 0.0},\n",
       " {'alpha': 0.0509768332217089, 'dim': 20, 'ineq': 'lte', 'thresh': 2.02},\n",
       " {'alpha': 0.05436796129498598, 'dim': 19, 'ineq': 'gt', 'thresh': 1.2},\n",
       " {'alpha': 0.05607430094233126, 'dim': 19, 'ineq': 'lte', 'thresh': 0.0},\n",
       " {'alpha': 0.04955609603723245, 'dim': 4, 'ineq': 'gt', 'thresh': 19.2},\n",
       " {'alpha': 0.051690155817684484, 'dim': 16, 'ineq': 'gt', 'thresh': 3.0},\n",
       " {'alpha': 0.04771430024258269,\n",
       "  'dim': 4,\n",
       "  'ineq': 'lte',\n",
       "  'thresh': 28.799999999999997},\n",
       " {'alpha': 0.05082305781619087,\n",
       "  'dim': 3,\n",
       "  'ineq': 'gt',\n",
       "  'thresh': 110.39999999999999},\n",
       " {'alpha': 0.05352578051380804, 'dim': 3, 'ineq': 'lte', 'thresh': 92.0},\n",
       " {'alpha': 0.05617134075209095, 'dim': 3, 'ineq': 'gt', 'thresh': 73.6},\n",
       " {'alpha': 0.04510878590544229, 'dim': 7, 'ineq': 'lte', 'thresh': 2.4},\n",
       " {'alpha': 0.04408654060696741, 'dim': 20, 'ineq': 'gt', 'thresh': 1.01},\n",
       " {'alpha': 0.0538826909075078, 'dim': 18, 'ineq': 'lte', 'thresh': 8.9},\n",
       " {'alpha': 0.042214858607514526, 'dim': 2, 'ineq': 'lte', 'thresh': 36.72},\n",
       " {'alpha': 0.051887992491197, 'dim': 20, 'ineq': 'lte', 'thresh': 2.02},\n",
       " {'alpha': 0.05560457789081524, 'dim': 7, 'ineq': 'gt', 'thresh': 4.2},\n",
       " {'alpha': 0.049072152107663886,\n",
       "  'dim': 7,\n",
       "  'ineq': 'lte',\n",
       "  'thresh': 5.3999999999999995},\n",
       " {'alpha': 0.055862472352147294, 'dim': 14, 'ineq': 'gt', 'thresh': 0.0},\n",
       " {'alpha': 0.04367373065720879, 'dim': 12, 'ineq': 'lte', 'thresh': 1.2},\n",
       " {'alpha': 0.04273715929237194,\n",
       "  'dim': 5,\n",
       "  'ineq': 'gt',\n",
       "  'thresh': 1.2000000000000002},\n",
       " {'alpha': 0.03999067086694351, 'dim': 3, 'ineq': 'lte', 'thresh': 92.0},\n",
       " {'alpha': 0.05273691587927168, 'dim': 7, 'ineq': 'gt', 'thresh': 4.2},\n",
       " {'alpha': 0.04771043258030647, 'dim': 4, 'ineq': 'gt', 'thresh': 19.2},\n",
       " {'alpha': 0.04105839356083969,\n",
       "  'dim': 4,\n",
       "  'ineq': 'lte',\n",
       "  'thresh': 28.799999999999997},\n",
       " {'alpha': 0.038697188246001324, 'dim': 11, 'ineq': 'lte', 'thresh': 0.0},\n",
       " {'alpha': 0.05307243885268913,\n",
       "  'dim': 11,\n",
       "  'ineq': 'gt',\n",
       "  'thresh': 1.2000000000000002},\n",
       " {'alpha': 0.03894991645690764, 'dim': 7, 'ineq': 'lte', 'thresh': 2.4},\n",
       " {'alpha': 0.040824071427309906, 'dim': 19, 'ineq': 'gt', 'thresh': 1.2},\n",
       " {'alpha': 0.03995566304302237, 'dim': 20, 'ineq': 'lte', 'thresh': 2.02},\n",
       " {'alpha': 0.043965612897806476, 'dim': 20, 'ineq': 'gt', 'thresh': 1.01},\n",
       " {'alpha': 0.05087415323711678, 'dim': 19, 'ineq': 'lte', 'thresh': 0.0},\n",
       " {'alpha': 0.04025333204403207, 'dim': 9, 'ineq': 'gt', 'thresh': 1.0},\n",
       " {'alpha': 0.045884646772420094, 'dim': 9, 'ineq': 'lte', 'thresh': 2.0},\n",
       " {'alpha': 0.04748203610508292, 'dim': 9, 'ineq': 'gt', 'thresh': 3.0},\n",
       " {'alpha': 0.03504770866978555,\n",
       "  'dim': 18,\n",
       "  'ineq': 'lte',\n",
       "  'thresh': 53.400000000000006},\n",
       " {'alpha': 0.04417110288521081, 'dim': 20, 'ineq': 'gt', 'thresh': 0.0},\n",
       " {'alpha': 0.039955579893274154, 'dim': 6, 'ineq': 'lte', 'thresh': 0.0},\n",
       " {'alpha': 0.043304723544699775, 'dim': 12, 'ineq': 'gt', 'thresh': 0.0},\n",
       " {'alpha': 0.03835525463490051, 'dim': 20, 'ineq': 'lte', 'thresh': 2.02},\n",
       " {'alpha': 0.045192592619246075, 'dim': 11, 'ineq': 'lte', 'thresh': 0.0},\n",
       " {'alpha': 0.039699958767595286, 'dim': 8, 'ineq': 'gt', 'thresh': 0.0},\n",
       " {'alpha': 0.047893768950881606, 'dim': 3, 'ineq': 'lte', 'thresh': 36.8},\n",
       " {'alpha': 0.04360663053284009, 'dim': 3, 'ineq': 'gt', 'thresh': 0.0},\n",
       " {'alpha': 0.04764286517217395, 'dim': 4, 'ineq': 'gt', 'thresh': 67.2},\n",
       " {'alpha': 0.03879132567037451,\n",
       "  'dim': 4,\n",
       "  'ineq': 'lte',\n",
       "  'thresh': 86.39999999999999},\n",
       " {'alpha': 0.04435082513360217,\n",
       "  'dim': 20,\n",
       "  'ineq': 'gt',\n",
       "  'thresh': 3.0300000000000002}]"
      ]
     },
     "execution_count": 214,
     "metadata": {},
     "output_type": "execute_result"
    }
   ],
   "source": [
    "adaboost_c"
   ]
  },
  {
   "cell_type": "code",
   "execution_count": 241,
   "metadata": {
    "collapsed": true
   },
   "outputs": [],
   "source": [
    "X_test, y_test = load_data('horseColicTest.txt')\n",
    "y_test[y_test < 1e-6] = -1"
   ]
  },
  {
   "cell_type": "code",
   "execution_count": 242,
   "metadata": {},
   "outputs": [
    {
     "data": {
      "text/plain": [
       "(67, 21)"
      ]
     },
     "execution_count": 242,
     "metadata": {},
     "output_type": "execute_result"
    }
   ],
   "source": [
    "X_test.shape"
   ]
  },
  {
   "cell_type": "code",
   "execution_count": 243,
   "metadata": {},
   "outputs": [
    {
     "data": {
      "text/plain": [
       "(67,)"
      ]
     },
     "execution_count": 243,
     "metadata": {},
     "output_type": "execute_result"
    }
   ],
   "source": [
    "y_test.shape"
   ]
  },
  {
   "cell_type": "code",
   "execution_count": 246,
   "metadata": {},
   "outputs": [
    {
     "data": {
      "text/plain": [
       "array([ 1.,  1.,  1., -1.,  1.,  1.,  1.,  1.,  1., -1., -1., -1., -1.,\n",
       "        1., -1.,  1.,  1., -1., -1., -1., -1.,  1., -1., -1.,  1.,  1.,\n",
       "        1.,  1.,  1.,  1.,  1., -1., -1., -1., -1., -1.,  1.,  1.,  1.,\n",
       "        1.,  1.,  1., -1., -1., -1.,  1., -1.,  1.,  1., -1., -1.,  1.,\n",
       "        1.,  1.,  1.,  1.,  1.,  1.,  1., -1.,  1., -1.,  1.,  1.,  1.,\n",
       "        1.,  1.])"
      ]
     },
     "execution_count": 246,
     "metadata": {},
     "output_type": "execute_result"
    }
   ],
   "source": [
    "y_predicted = np.array(predict_fast(X_test, adaboost_c))\n",
    "y_predicted"
   ]
  },
  {
   "cell_type": "code",
   "execution_count": 247,
   "metadata": {},
   "outputs": [
    {
     "name": "stdout",
     "output_type": "stream",
     "text": [
      "predict error:  0.22388059701492538\n"
     ]
    }
   ],
   "source": [
    "predict_error = (y_test != y_predicted).mean()\n",
    "print('predict error: ', predict_error)"
   ]
  },
  {
   "cell_type": "markdown",
   "metadata": {},
   "source": [
    "#### sklearn adaboost "
   ]
  },
  {
   "cell_type": "code",
   "execution_count": 260,
   "metadata": {
    "collapsed": true
   },
   "outputs": [],
   "source": [
    "bdt = AdaBoostClassifier(DecisionTreeClassifier(max_depth=1),\n",
    "                         algorithm=\"SAMME\",\n",
    "                         n_estimators=100)"
   ]
  },
  {
   "cell_type": "code",
   "execution_count": 265,
   "metadata": {},
   "outputs": [
    {
     "data": {
      "text/plain": [
       "AdaBoostClassifier(algorithm='SAMME',\n",
       "          base_estimator=DecisionTreeClassifier(class_weight=None, criterion='gini', max_depth=1,\n",
       "            max_features=None, max_leaf_nodes=None,\n",
       "            min_impurity_decrease=0.0, min_impurity_split=None,\n",
       "            min_samples_leaf=1, min_samples_split=2,\n",
       "            min_weight_fraction_leaf=0.0, presort=False, random_state=None,\n",
       "            splitter='best'),\n",
       "          learning_rate=1.0, n_estimators=100, random_state=None)"
      ]
     },
     "execution_count": 265,
     "metadata": {},
     "output_type": "execute_result"
    }
   ],
   "source": [
    "bdt.fit(X_train, y_train)"
   ]
  },
  {
   "cell_type": "code",
   "execution_count": 269,
   "metadata": {},
   "outputs": [
    {
     "name": "stdout",
     "output_type": "stream",
     "text": [
      "0.8260869565217391\n",
      "0.17391304347826086\n"
     ]
    }
   ],
   "source": [
    "# traning set accuracy\n",
    "print(bdt.score(X_train, y_train))\n",
    "# error rate\n",
    "print(1 - bdt.score(X_train, y_train))"
   ]
  },
  {
   "cell_type": "code",
   "execution_count": 270,
   "metadata": {},
   "outputs": [
    {
     "name": "stdout",
     "output_type": "stream",
     "text": [
      "[ 1.  1.  1. -1.  1.  1.  1.  1.  1. -1.  1.  1. -1.  1.  1.  1. -1. -1.\n",
      " -1. -1. -1.  1. -1. -1.  1.  1.  1.  1.  1.  1.  1. -1. -1.  1. -1. -1.\n",
      "  1.  1.  1.  1.  1.  1.  1. -1. -1. -1.  1.  1.  1. -1. -1.  1.  1.  1.\n",
      "  1.  1.  1.  1.  1. -1.  1. -1.  1.  1.  1.  1. -1.]\n",
      "[ 1.  1.  1. -1.  1.  1.  1.  1.  1. -1.  1. -1. -1.  1.  1.  1.  1. -1.\n",
      " -1. -1.  1.  1. -1. -1.  1.  1.  1.  1.  1.  1.  1.  1.  1. -1.  1. -1.\n",
      "  1.  1.  1.  1.  1.  1.  1. -1.  1.  1.  1.  1.  1. -1. -1. -1. -1.  1.\n",
      "  1.  1.  1. -1.  1.  1.  1. -1.  1.  1. -1.  1. -1.]\n",
      "predict error:  0.208955223880597\n"
     ]
    }
   ],
   "source": [
    "y_predicted = bdt.predict(X_test)\n",
    "# y_predicted[y_predicted == -1] = 0\n",
    "print(y_predicted)\n",
    "print(y_test)\n",
    "predict_error = (y_test != y_predicted).mean()\n",
    "print('predict error: ', predict_error)"
   ]
  },
  {
   "cell_type": "code",
   "execution_count": null,
   "metadata": {
    "collapsed": true
   },
   "outputs": [],
   "source": []
  },
  {
   "cell_type": "code",
   "execution_count": 271,
   "metadata": {},
   "outputs": [
    {
     "data": {
      "text/plain": [
       "0.7910447761194029"
      ]
     },
     "execution_count": 271,
     "metadata": {},
     "output_type": "execute_result"
    }
   ],
   "source": [
    "# accuracy\n",
    "bdt.score(X_test, y_test)"
   ]
  },
  {
   "cell_type": "code",
   "execution_count": 287,
   "metadata": {},
   "outputs": [
    {
     "data": {
      "text/plain": [
       "[<matplotlib.lines.Line2D at 0x10bd59630>]"
      ]
     },
     "execution_count": 287,
     "metadata": {},
     "output_type": "execute_result"
    },
    {
     "data": {
      "image/png": "[encoded data removed]",
      "text/plain": [
       "<matplotlib.figure.Figure at 0x10bd59cf8>"
      ]
     },
     "metadata": {},
     "output_type": "display_data"
    }
   ],
   "source": [
    "train_err_arr = []\n",
    "test_err_arr = []\n",
    "for i in [1,10,50,100,500, 1000]:\n",
    "    bdt = AdaBoostClassifier(DecisionTreeClassifier(max_depth=1),\n",
    "                         algorithm=\"SAMME\",\n",
    "                         n_estimators=i)\n",
    "    bdt.fit(X_train, y_train)\n",
    "    train_err = 1 - bdt.score(X_train, y_train)\n",
    "    test_err = 1 - bdt.score(X_test, y_test)\n",
    "    train_err_arr.append([i, train_err])\n",
    "    test_err_arr.append([i, test_err])\n",
    "#     plt.scatter(i, train_err)\n",
    "#     plt.scatter(i, test_err)\n",
    "# print(train_err_arr)\n",
    "train_err_arr = np.array(train_err_arr)\n",
    "# print(train_err_arr)\n",
    "test_err_arr = np.array(test_err_arr)\n",
    "plt.plot(train_err_arr[:,0], train_err_arr[:, 1], c = 'r')\n",
    "plt.plot(test_err_arr[:, 0], test_err_arr[:, 1], c = 'g')"
   ]
  },
  {
   "cell_type": "code",
   "execution_count": null,
   "metadata": {
    "collapsed": true
   },
   "outputs": [],
   "source": []
  },
  {
   "cell_type": "code",
   "execution_count": null,
   "metadata": {
    "collapsed": true
   },
   "outputs": [],
   "source": []
  }
 ],
 "metadata": {
  "kernelspec": {
   "display_name": "Python 3",
   "language": "python",
   "name": "python3"
  },
  "language_info": {
   "codemirror_mode": {
    "name": "ipython",
    "version": 3
   },
   "file_extension": ".py",
   "mimetype": "text/x-python",
   "name": "python",
   "nbconvert_exporter": "python",
   "pygments_lexer": "ipython3",
   "version": "3.6.3"
  }
 },
 "nbformat": 4,
 "nbformat_minor": 2
}
