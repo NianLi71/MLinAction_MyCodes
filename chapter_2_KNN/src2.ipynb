{
 "cells": [
  {
   "cell_type": "markdown",
   "metadata": {},
   "source": []
  },
  {
   "cell_type": "code",
   "execution_count": 321,
   "metadata": {},
   "outputs": [],
   "source": [
    "import logging\n",
    "logging.basicConfig(level=logging.DEBUG)\n",
    "from collections import defaultdict\n",
    "\n",
    "def dprint(*args, **kwargs):\n",
    "#     logging.debug(*args, **kwargs)\n",
    "    print(*args, **kwargs)\n",
    "    "
   ]
  },
  {
   "cell_type": "code",
   "execution_count": 322,
   "metadata": {
    "collapsed": true
   },
   "outputs": [],
   "source": [
    "import numpy as np\n",
    "import matplotlib.pyplot as plt\n",
    "%matplotlib inline"
   ]
  },
  {
   "cell_type": "code",
   "execution_count": 323,
   "metadata": {},
   "outputs": [],
   "source": [
    "def createDataSet():\n",
    "    group = np.array([[1.0,1.1],\n",
    "                     [1.0, 1.0],\n",
    "                     [0, 0],\n",
    "                     [0, 0.1]])\n",
    "    labels = ['A', 'A', 'B', 'B']\n",
    "    return group, labels"
   ]
  },
  {
   "cell_type": "code",
   "execution_count": 324,
   "metadata": {},
   "outputs": [
    {
     "data": {
      "text/plain": [
       "<matplotlib.collections.PathCollection at 0x112e62780>"
      ]
     },
     "execution_count": 324,
     "metadata": {},
     "output_type": "execute_result"
    },
    {
     "data": {
      "image/png": "[encoded data removed]",
      "text/plain": [
       "<matplotlib.figure.Figure at 0x112e4b710>"
      ]
     },
     "metadata": {},
     "output_type": "display_data"
    }
   ],
   "source": [
    "group, labels = createDataSet()\n",
    "plt.scatter(group[:,0], group[:,1])"
   ]
  },
  {
   "cell_type": "code",
   "execution_count": 325,
   "metadata": {},
   "outputs": [
    {
     "data": {
      "text/plain": [
       "array([[1, 2],\n",
       "       [1, 2],\n",
       "       [1, 2],\n",
       "       [1, 2]])"
      ]
     },
     "execution_count": 325,
     "metadata": {},
     "output_type": "execute_result"
    }
   ],
   "source": [
    "np.tile([1,2], (4,1))"
   ]
  },
  {
   "cell_type": "code",
   "execution_count": 326,
   "metadata": {},
   "outputs": [
    {
     "data": {
      "text/plain": [
       "array([3, 2, 4, 0, 1])"
      ]
     },
     "execution_count": 326,
     "metadata": {},
     "output_type": "execute_result"
    }
   ],
   "source": [
    "a=np.array([4,5,2,1,3])\n",
    "a=a.argsort()\n",
    "a"
   ]
  },
  {
   "cell_type": "code",
   "execution_count": 327,
   "metadata": {},
   "outputs": [],
   "source": [
    "class KNN:\n",
    "    def classify0(inX, dataSet, labels, k):\n",
    "        dataSetSize = dataSet.shape[0]\n",
    "#         diffMat = np.tile(inX, (dataSetSize, 1)) - dataSet\n",
    "        diffMat = inX - dataSet  # using broadcast\n",
    "        square_diff_mat = diffMat**2\n",
    "#         dprint(square_diff_mat)\n",
    "        dis_square = square_diff_mat.sum(axis = 1)\n",
    "#         dprint(dis_square)\n",
    "        distance = dis_square ** 0.5\n",
    "#         dprint(distance)\n",
    "        sortedDistIndices = distance.argsort()\n",
    "#         dprint(sortedDistIndices)\n",
    "\n",
    "        classCount = defaultdict(int)\n",
    "        for i in range(k):\n",
    "            votelabel = labels[sortedDistIndices[i]]\n",
    "            classCount[votelabel] += 1\n",
    "#         dprint(classCount)\n",
    "        classCount = sorted(classCount.items(),\n",
    "                                  key=lambda p: p[1], reverse=True)\n",
    "#         dprint(classCount)\n",
    "        return classCount[0][0]"
   ]
  },
  {
   "cell_type": "code",
   "execution_count": 328,
   "metadata": {},
   "outputs": [
    {
     "data": {
      "text/plain": [
       "'B'"
      ]
     },
     "execution_count": 328,
     "metadata": {},
     "output_type": "execute_result"
    }
   ],
   "source": [
    "inX = [0.0, 0.0]\n",
    "KNN.classify0(inX, group, labels, 3)"
   ]
  },
  {
   "cell_type": "code",
   "execution_count": 329,
   "metadata": {},
   "outputs": [
    {
     "data": {
      "text/plain": [
       "'A'"
      ]
     },
     "execution_count": 329,
     "metadata": {},
     "output_type": "execute_result"
    }
   ],
   "source": [
    "inX = [1.0, 1.2]\n",
    "KNN.classify0(inX, group, labels, 3)"
   ]
  },
  {
   "cell_type": "markdown",
   "metadata": {},
   "source": [
    "loading dating data"
   ]
  },
  {
   "cell_type": "code",
   "execution_count": 330,
   "metadata": {},
   "outputs": [
    {
     "data": {
      "text/plain": [
       "False"
      ]
     },
     "execution_count": 330,
     "metadata": {},
     "output_type": "execute_result"
    }
   ],
   "source": [
    "s='123.4'\n",
    "s.isdigit()"
   ]
  },
  {
   "cell_type": "code",
   "execution_count": 331,
   "metadata": {
    "collapsed": true
   },
   "outputs": [],
   "source": [
    "def file2matrix(file):\n",
    "    class2num = {'largeDoses':0, 'smallDoses':1, 'didntLike':2}\n",
    "    data_list = []\n",
    "    labels_list = []\n",
    "    with open(file, 'r') as f:\n",
    "        for line in f:\n",
    "            line = line.split()\n",
    "#             dprint(line)\n",
    "            data_list.append( [float(e) for e in line[:3]])\n",
    "            if line[-1].isdigit():\n",
    "                labels_list.append(line[-1])\n",
    "            else:\n",
    "                labels_list.append(class2num[line[-1]])\n",
    "                \n",
    "    return data_arr, labels_list   \n",
    "            "
   ]
  },
  {
   "cell_type": "code",
   "execution_count": 332,
   "metadata": {},
   "outputs": [
    {
     "name": "stdout",
     "output_type": "stream",
     "text": [
      "[[4.0920000e+04 8.3269760e+00 9.5395200e-01]\n",
      " [1.4488000e+04 7.1534690e+00 1.6739040e+00]\n",
      " [2.6052000e+04 1.4418710e+00 8.0512400e-01]\n",
      " [7.5136000e+04 1.3147394e+01 4.2896400e-01]\n",
      " [3.8344000e+04 1.6697880e+00 1.3429600e-01]\n",
      " [7.2993000e+04 1.0141740e+01 1.0329550e+00]\n",
      " [3.5948000e+04 6.8307920e+00 1.2131920e+00]\n",
      " [4.2666000e+04 1.3276369e+01 5.4388000e-01]\n",
      " [6.7497000e+04 8.6315770e+00 7.4927800e-01]\n",
      " [3.5483000e+04 1.2273169e+01 1.5080530e+00]]\n",
      "[0, 1, 2, 2, 2, 2, 0, 0, 2, 0]\n"
     ]
    }
   ],
   "source": [
    "data_arr, labels_list = file2matrix('datingTestSet.txt')\n",
    "dprint(data_arr[:10])\n",
    "dprint(labels_list[:10])"
   ]
  },
  {
   "cell_type": "code",
   "execution_count": 333,
   "metadata": {
    "collapsed": true
   },
   "outputs": [],
   "source": [
    "def autoNorm(dataSet):\n",
    "    # each column min and max, corresponding to each feature\n",
    "    minVals = dataSet.min(0)\n",
    "#     dprint(minVals)\n",
    "    maxVals = dataSet.max(0)\n",
    "#     dprint(maxVals)\n",
    "    ranges = maxVals - minVals\n",
    "    norm_dataset = (dataSet - minVals) / ranges\n",
    "    return norm_dataset, ranges, minVals"
   ]
  },
  {
   "cell_type": "code",
   "execution_count": 334,
   "metadata": {},
   "outputs": [
    {
     "data": {
      "text/plain": [
       "array([[0.44832535, 0.39805139, 0.56233353],\n",
       "       [0.15873259, 0.34195467, 0.98724416],\n",
       "       [0.28542943, 0.06892523, 0.47449629],\n",
       "       ...,\n",
       "       [0.29115949, 0.50910294, 0.51079493],\n",
       "       [0.52711097, 0.43665451, 0.4290048 ],\n",
       "       [0.47940793, 0.3768091 , 0.78571804]])"
      ]
     },
     "execution_count": 334,
     "metadata": {},
     "output_type": "execute_result"
    }
   ],
   "source": [
    "norm_data, ranges, min_vals = autoNorm(data_arr)\n",
    "norm_data"
   ]
  },
  {
   "cell_type": "markdown",
   "metadata": {},
   "source": [
    "testing on train data"
   ]
  },
  {
   "cell_type": "code",
   "execution_count": 335,
   "metadata": {
    "collapsed": true
   },
   "outputs": [],
   "source": [
    "def datingClassTestOnTrainData():\n",
    "    train_dataset_num = len(norm_data)\n",
    "    error_num = 0\n",
    "    for i in range(len(norm_data)):\n",
    "        predict_class = KNN.classify0(\n",
    "            norm_data[i], \n",
    "            norm_data, labels_list, \n",
    "            3)\n",
    "        if predict_class != labels_list[i]:\n",
    "            error_num += 1\n",
    "#         dprint(predict_class, labels_list[i])\n",
    "    print('total error rate is {}%'.format(100 * float(error_num)/train_dataset_num))"
   ]
  },
  {
   "cell_type": "code",
   "execution_count": 336,
   "metadata": {},
   "outputs": [
    {
     "name": "stdout",
     "output_type": "stream",
     "text": [
      "total error rate is 2.7%\n"
     ]
    }
   ],
   "source": [
    "datingClassTestOnTrainData()"
   ]
  },
  {
   "cell_type": "code",
   "execution_count": 337,
   "metadata": {
    "collapsed": true
   },
   "outputs": [],
   "source": [
    "def datingTest():\n",
    "    num2class = {0:'largeDoses', 1:'smallDoses', 2:'didntLike'}\n",
    "    test_data = np.array([[50000, 8.6, 1.0],\n",
    "                         [15000, 7.5, 1.8]])\n",
    "    for test_point in test_data:\n",
    "        norm_test_point = (test_point - min_vals) / ranges\n",
    "        predict = KNN.classify0(norm_test_point, norm_data, labels_list, 3)\n",
    "        print('{} is predict {}'.format(test_point, num2class[predict]))"
   ]
  },
  {
   "cell_type": "code",
   "execution_count": 338,
   "metadata": {},
   "outputs": [
    {
     "name": "stdout",
     "output_type": "stream",
     "text": [
      "[5.0e+04 8.6e+00 1.0e+00] is predict largeDoses\n",
      "[1.5e+04 7.5e+00 1.8e+00] is predict smallDoses\n"
     ]
    }
   ],
   "source": [
    "datingTest()"
   ]
  },
  {
   "cell_type": "code",
   "execution_count": null,
   "metadata": {
    "collapsed": true
   },
   "outputs": [],
   "source": []
  },
  {
   "cell_type": "code",
   "execution_count": null,
   "metadata": {
    "collapsed": true
   },
   "outputs": [],
   "source": []
  },
  {
   "cell_type": "markdown",
   "metadata": {},
   "source": [
    "train knn on mnist"
   ]
  },
  {
   "cell_type": "code",
   "execution_count": 339,
   "metadata": {
    "collapsed": true
   },
   "outputs": [],
   "source": [
    "import os\n",
    "train_dataset_dir = './digits/trainingDigits'\n",
    "test_dataset_dir = './digits/testDigits'"
   ]
  },
  {
   "cell_type": "code",
   "execution_count": 340,
   "metadata": {},
   "outputs": [],
   "source": [
    "# os.listdir(train_dataset_dir)\n",
    "def read_dataset_from_fold(dataset_dir):\n",
    "    dataset_list = []\n",
    "    labels_list = []\n",
    "    for file in os.listdir(dataset_dir):\n",
    "        one_sample_list = []\n",
    "        with open(os.path.join(dataset_dir, file), 'r') as f:\n",
    "            for line in f:\n",
    "                line=line.strip()\n",
    "#                 print(line)   # show text image\n",
    "#                 print(len(line)) # 32\n",
    "                for e in line:\n",
    "                    one_sample_list.append(float(e))\n",
    "#         print(len(one_sample_list))\n",
    "        dataset_list.append(one_sample_list)\n",
    "        labels_list.append(file[0])\n",
    "#     print(len(dataset_list))\n",
    "    return np.array(dataset_list), labels_list\n",
    "    "
   ]
  },
  {
   "cell_type": "code",
   "execution_count": 341,
   "metadata": {},
   "outputs": [
    {
     "name": "stdout",
     "output_type": "stream",
     "text": [
      "(1934, 1024)\n",
      "1934\n"
     ]
    }
   ],
   "source": [
    "train_dataset, train_labels_list = read_dataset_from_fold(train_dataset_dir)\n",
    "print(train_dataset.shape)\n",
    "print(len(train_labels_list))"
   ]
  },
  {
   "cell_type": "code",
   "execution_count": 342,
   "metadata": {},
   "outputs": [
    {
     "name": "stdout",
     "output_type": "stream",
     "text": [
      "(946, 1024)\n",
      "946\n"
     ]
    }
   ],
   "source": [
    "test_dataset, test_labels_list = read_dataset_from_fold(test_dataset_dir)\n",
    "print(test_dataset.shape)\n",
    "print(len(test_labels_list))"
   ]
  },
  {
   "cell_type": "code",
   "execution_count": 349,
   "metadata": {
    "collapsed": true
   },
   "outputs": [],
   "source": [
    "def mnist_knn_test(train_dataset, test_dataset,\n",
    "                  train_labels_list, test_labels_list):\n",
    "    total_test_samples = len(test_dataset)\n",
    "    error_num = 0\n",
    "    for i in range(total_test_samples):\n",
    "        predict = KNN.classify0(test_dataset[i],\n",
    "                               train_dataset,\n",
    "                               train_labels_list,\n",
    "                               5)\n",
    "        if predict != test_labels_list[i]:\n",
    "            error_num += 1\n",
    "            print('{} {}'.format(predict, test_labels_list[i]))\n",
    "    print('error rate : {}%'.format(100*float(error_num)/total_test_samples))\n",
    "    "
   ]
  },
  {
   "cell_type": "code",
   "execution_count": 350,
   "metadata": {},
   "outputs": [
    {
     "name": "stdout",
     "output_type": "stream",
     "text": [
      "1 8\n",
      "3 8\n",
      "1 8\n",
      "7 9\n",
      "9 3\n",
      "1 8\n",
      "1 9\n",
      "8 3\n",
      "0 4\n",
      "1 8\n",
      "3 8\n",
      "7 1\n",
      "9 5\n",
      "4 5\n",
      "3 5\n",
      "5 9\n",
      "6 8\n",
      "error rate : 1.7970401691331923%\n"
     ]
    }
   ],
   "source": [
    "mnist_knn_test(train_dataset, test_dataset,\n",
    "              train_labels_list, test_labels_list)"
   ]
  },
  {
   "cell_type": "code",
   "execution_count": 351,
   "metadata": {},
   "outputs": [
    {
     "name": "stdout",
     "output_type": "stream",
     "text": [
      "3 8\n",
      "1 7\n",
      "5 9\n",
      "9 5\n",
      "9 5\n",
      "1 2\n",
      "3 9\n",
      "1 8\n",
      "6 4\n",
      "5 3\n",
      "4 0\n",
      "1 8\n",
      "6 4\n",
      "3 9\n",
      "9 5\n",
      "1 8\n",
      "1 8\n",
      "1 7\n",
      "1 8\n",
      "7 4\n",
      "9 4\n",
      "4 9\n",
      "9 4\n",
      "6 0\n",
      "4 1\n",
      "1 6\n",
      "3 8\n",
      "2 8\n",
      "1 8\n",
      "9 5\n",
      "1 6\n",
      "error rate : 1.6028955532574973%\n"
     ]
    }
   ],
   "source": [
    "mnist_knn_test(train_dataset, train_dataset,\n",
    "              train_labels_list, train_labels_list)"
   ]
  },
  {
   "cell_type": "code",
   "execution_count": null,
   "metadata": {
    "collapsed": true
   },
   "outputs": [],
   "source": []
  }
 ],
 "metadata": {
  "kernelspec": {
   "display_name": "Python 3",
   "language": "python",
   "name": "python3"
  },
  "language_info": {
   "codemirror_mode": {
    "name": "ipython",
    "version": 3
   },
   "file_extension": ".py",
   "mimetype": "text/x-python",
   "name": "python",
   "nbconvert_exporter": "python",
   "pygments_lexer": "ipython3",
   "version": "3.6.3"
  }
 },
 "nbformat": 4,
 "nbformat_minor": 2
}
