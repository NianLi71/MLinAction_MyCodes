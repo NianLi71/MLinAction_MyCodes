{
 "cells": [
  {
   "cell_type": "markdown",
   "metadata": {},
   "source": []
  },
  {
   "cell_type": "code",
   "execution_count": 35,
   "metadata": {},
   "outputs": [],
   "source": [
    "import logging\n",
    "logging.basicConfig(level=logging.DEBUG)\n",
    "from collections import defaultdict\n",
    "\n",
    "def dprint(*args, **kwargs):\n",
    "#     logging.debug(*args, **kwargs)\n",
    "    print(*args, **kwargs)\n",
    "    "
   ]
  },
  {
   "cell_type": "code",
   "execution_count": 36,
   "metadata": {
    "collapsed": true
   },
   "outputs": [],
   "source": [
    "import numpy as np\n",
    "import matplotlib.pyplot as plt\n",
    "%matplotlib inline"
   ]
  },
  {
   "cell_type": "code",
   "execution_count": 37,
   "metadata": {},
   "outputs": [],
   "source": [
    "def createDataSet():\n",
    "    group = np.array([[1.0,1.1],\n",
    "                     [1.0, 1.0],\n",
    "                     [0, 0],\n",
    "                     [0, 0.1]])\n",
    "    labels = ['A', 'A', 'B', 'B']\n",
    "    return group, labels"
   ]
  },
  {
   "cell_type": "code",
   "execution_count": 38,
   "metadata": {},
   "outputs": [
    {
     "data": {
      "text/plain": [
       "<matplotlib.collections.PathCollection at 0x1128c1240>"
      ]
     },
     "execution_count": 38,
     "metadata": {},
     "output_type": "execute_result"
    },
    {
     "data": {
      "image/png": "[encoded data removed]",
      "text/plain": [
       "<matplotlib.figure.Figure at 0x112893748>"
      ]
     },
     "metadata": {},
     "output_type": "display_data"
    }
   ],
   "source": [
    "group, labels = createDataSet()\n",
    "plt.scatter(group[:,0], group[:,1])"
   ]
  },
  {
   "cell_type": "code",
   "execution_count": 39,
   "metadata": {},
   "outputs": [
    {
     "data": {
      "text/plain": [
       "array([[1, 2],\n",
       "       [1, 2],\n",
       "       [1, 2],\n",
       "       [1, 2]])"
      ]
     },
     "execution_count": 39,
     "metadata": {},
     "output_type": "execute_result"
    }
   ],
   "source": [
    "np.tile([1,2], (4,1))"
   ]
  },
  {
   "cell_type": "code",
   "execution_count": 40,
   "metadata": {},
   "outputs": [
    {
     "data": {
      "text/plain": [
       "array([3, 2, 4, 0, 1])"
      ]
     },
     "execution_count": 40,
     "metadata": {},
     "output_type": "execute_result"
    }
   ],
   "source": [
    "a=np.array([4,5,2,1,3])\n",
    "a=a.argsort()\n",
    "a"
   ]
  },
  {
   "cell_type": "code",
   "execution_count": 67,
   "metadata": {},
   "outputs": [],
   "source": [
    "class KNN:\n",
    "    def classify0(inX, dataSet, labels, k):\n",
    "        dataSetSize = dataSet.shape[0]\n",
    "        diffMat = np.tile(inX, (dataSetSize, 1)) - dataSet\n",
    "        square_diff_mat = diffMat**2\n",
    "        dprint(square_diff_mat)\n",
    "        dis_square = square_diff_mat.sum(axis = 1)\n",
    "        dprint(dis_square)\n",
    "        distance = dis_square ** 0.5\n",
    "        dprint(distance)\n",
    "        sortedDistIndices = distance.argsort()\n",
    "        dprint(sortedDistIndices)\n",
    "\n",
    "        classCount = defaultdict(int)\n",
    "        for i in range(k):\n",
    "            votelabel = labels[sortedDistIndices[i]]\n",
    "            classCount[votelabel] += 1\n",
    "        dprint(classCount)\n",
    "        classCount = sorted(classCount.items(),\n",
    "                                  key=lambda p: p[1], reverse=True)\n",
    "        dprint(classCount)\n",
    "        return classCount[0][0]"
   ]
  },
  {
   "cell_type": "code",
   "execution_count": 68,
   "metadata": {},
   "outputs": [
    {
     "name": "stdout",
     "output_type": "stream",
     "text": [
      "[[1.   1.21]\n",
      " [1.   1.  ]\n",
      " [0.   0.  ]\n",
      " [0.   0.01]]\n",
      "[2.21 2.   0.   0.01]\n",
      "[1.48660687 1.41421356 0.         0.1       ]\n",
      "[2 3 1 0]\n",
      "defaultdict(<class 'int'>, {'B': 2, 'A': 1})\n",
      "[('B', 2), ('A', 1)]\n"
     ]
    },
    {
     "data": {
      "text/plain": [
       "'B'"
      ]
     },
     "execution_count": 68,
     "metadata": {},
     "output_type": "execute_result"
    }
   ],
   "source": [
    "inX = [0.0, 0.0]\n",
    "KNN.classify0(inX, group, labels, 3)"
   ]
  },
  {
   "cell_type": "code",
   "execution_count": 70,
   "metadata": {},
   "outputs": [
    {
     "name": "stdout",
     "output_type": "stream",
     "text": [
      "[[0.   0.01]\n",
      " [0.   0.04]\n",
      " [1.   1.44]\n",
      " [1.   1.21]]\n",
      "[0.01 0.04 2.44 2.21]\n",
      "[0.1        0.2        1.56204994 1.48660687]\n",
      "[0 1 3 2]\n",
      "defaultdict(<class 'int'>, {'A': 2, 'B': 1})\n",
      "[('A', 2), ('B', 1)]\n"
     ]
    },
    {
     "data": {
      "text/plain": [
       "'A'"
      ]
     },
     "execution_count": 70,
     "metadata": {},
     "output_type": "execute_result"
    }
   ],
   "source": [
    "inX = [1.0, 1.2]\n",
    "KNN.classify0(inX, group, labels, 3)"
   ]
  },
  {
   "cell_type": "markdown",
   "metadata": {},
   "source": []
  }
 ],
 "metadata": {
  "kernelspec": {
   "display_name": "Python 3",
   "language": "python",
   "name": "python3"
  },
  "language_info": {
   "codemirror_mode": {
    "name": "ipython",
    "version": 3
   },
   "file_extension": ".py",
   "mimetype": "text/x-python",
   "name": "python",
   "nbconvert_exporter": "python",
   "pygments_lexer": "ipython3",
   "version": "3.6.3"
  }
 },
 "nbformat": 4,
 "nbformat_minor": 2
}
