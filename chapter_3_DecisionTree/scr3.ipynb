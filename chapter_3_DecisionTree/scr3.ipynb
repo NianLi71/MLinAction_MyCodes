{
 "cells": [
  {
   "cell_type": "code",
   "execution_count": 43,
   "metadata": {
    "collapsed": true
   },
   "outputs": [],
   "source": [
    "from collections import defaultdict\n",
    "import numpy as np"
   ]
  },
  {
   "cell_type": "markdown",
   "metadata": {},
   "source": [
    "### first example "
   ]
  },
  {
   "cell_type": "markdown",
   "metadata": {},
   "source": [
    "#### implement ID3 "
   ]
  },
  {
   "cell_type": "code",
   "execution_count": 44,
   "metadata": {
    "collapsed": true
   },
   "outputs": [],
   "source": [
    "def createDataSet():\n",
    "    dataSet = [[1, 1, 'yes'],\n",
    "               [1, 1, 'yes'],\n",
    "               [1, 0, 'no'],\n",
    "               [0, 1, 'no'],\n",
    "               [0, 1, 'no']]\n",
    "    labels = ['no surfacing', 'flippers'] \n",
    "    # this labels is the attribute name label,\n",
    "    # class label is the last element in each sample point\n",
    "    return dataSet, labels"
   ]
  },
  {
   "cell_type": "code",
   "execution_count": 45,
   "metadata": {
    "collapsed": true
   },
   "outputs": [],
   "source": [
    "def calcShannonEnt(dataSet):\n",
    "    total_sample = len(dataSet)\n",
    "    label_cnt = defaultdict(int)\n",
    "    H = 0 # shannonEnt\n",
    "    for sample in dataSet:\n",
    "        label_cnt[sample[-1]] += 1\n",
    "    for label, cnt in label_cnt.items():\n",
    "        prob = float(cnt) / total_sample\n",
    "        H -= prob * np.log2(prob)\n",
    "#         print(prob)\n",
    "#     print(total_sample)\n",
    "#     print(label_cnt)\n",
    "    return H\n"
   ]
  },
  {
   "cell_type": "code",
   "execution_count": 46,
   "metadata": {},
   "outputs": [
    {
     "data": {
      "text/plain": [
       "0.9709505944546686"
      ]
     },
     "execution_count": 46,
     "metadata": {},
     "output_type": "execute_result"
    }
   ],
   "source": [
    "dataSet, labels = createDataSet()\n",
    "calcShannonEnt(dataSet)\n",
    "# -(np.log2(0.6)*0.6+np.log2(0.4)*0.4)"
   ]
  },
  {
   "cell_type": "markdown",
   "metadata": {},
   "source": [
    "The higher the entropy, the more mixed up the data is."
   ]
  },
  {
   "cell_type": "code",
   "execution_count": 47,
   "metadata": {},
   "outputs": [
    {
     "data": {
      "text/plain": [
       "1.3709505944546687"
      ]
     },
     "execution_count": 47,
     "metadata": {},
     "output_type": "execute_result"
    }
   ],
   "source": [
    "dataSet[0][-1] = 'maybe'\n",
    "calcShannonEnt(dataSet)"
   ]
  },
  {
   "cell_type": "markdown",
   "metadata": {},
   "source": [
    "Splitting the datset"
   ]
  },
  {
   "cell_type": "code",
   "execution_count": 48,
   "metadata": {
    "collapsed": true
   },
   "outputs": [],
   "source": [
    "def splitDatsSet(dataSet, axis, value):\n",
    "    retDataSet = []\n",
    "    for featVec in dataSet:\n",
    "        if featVec[axis] == value:\n",
    "            retDataSet.append(featVec[:axis] + featVec[axis+1:])\n",
    "    return retDataSet"
   ]
  },
  {
   "cell_type": "code",
   "execution_count": 49,
   "metadata": {},
   "outputs": [
    {
     "data": {
      "text/plain": [
       "[[1, 'maybe'], [1, 'yes'], [0, 'no']]"
      ]
     },
     "execution_count": 49,
     "metadata": {},
     "output_type": "execute_result"
    }
   ],
   "source": [
    "splitDatsSet(dataSet, 0, 1)"
   ]
  },
  {
   "cell_type": "markdown",
   "metadata": {},
   "source": [
    "ps:test on set"
   ]
  },
  {
   "cell_type": "code",
   "execution_count": 50,
   "metadata": {},
   "outputs": [
    {
     "name": "stdout",
     "output_type": "stream",
     "text": [
      "{1, 2, 3}\n"
     ]
    },
    {
     "data": {
      "text/plain": [
       "True"
      ]
     },
     "execution_count": 50,
     "metadata": {},
     "output_type": "execute_result"
    }
   ],
   "source": [
    "s = set([1,2,3,2,1,1])\n",
    "print(s)\n",
    "2 in s"
   ]
  },
  {
   "cell_type": "markdown",
   "metadata": {},
   "source": [
    "choosing the best feature to split on"
   ]
  },
  {
   "cell_type": "markdown",
   "metadata": {},
   "source": [
    "$$ Info(D)=-\\sum_{i=1}^{m}p_{i}\\log_{2}(p_i) $$"
   ]
  },
  {
   "cell_type": "markdown",
   "metadata": {},
   "source": [
    "用属性A将D划分为v个子集后，信息度量\n",
    "$$ Info_{A}(D)=\\sum_{j=1}^{v}\\frac{\\left | D_{j} \\right |}{\\left | D \\right |}\\times Info(D_{j}) $$"
   ]
  },
  {
   "cell_type": "code",
   "execution_count": 51,
   "metadata": {
    "collapsed": true
   },
   "outputs": [],
   "source": [
    "def chooseBestFeatureToSplit(dataSet):\n",
    "    baseEntropy = calcShannonEnt(dataSet)\n",
    "#     print('base entropy ', baseEntropy)\n",
    "    featVecLen = len(dataSet[0]) - 1\n",
    "    info_gain = 0\n",
    "    best_feature_index = -1\n",
    "    for i in range(featVecLen):\n",
    "        featureColumn = [d[i] for d in dataSet]\n",
    "#         print(featureColumn)\n",
    "        unique_feature = set(featureColumn)\n",
    "#         print(unique_feature)\n",
    "        splitEntropy = 0\n",
    "        for feature in unique_feature:   # for a1,a2,...,av\n",
    "            subset = splitDatsSet(dataSet, i, feature)\n",
    "            splitEntropy += float(len(subset))/len(dataSet)*calcShannonEnt(subset)\n",
    "#         print('split entropy', splitEntropy)\n",
    "        split_info_gain = baseEntropy - splitEntropy\n",
    "#         print(split_info_gain)\n",
    "        if split_info_gain > info_gain:\n",
    "            info_gain = split_info_gain\n",
    "            best_feature_index = i\n",
    "    return best_feature_index, info_gain"
   ]
  },
  {
   "cell_type": "code",
   "execution_count": 52,
   "metadata": {},
   "outputs": [
    {
     "data": {
      "text/plain": [
       "(0, 0.41997309402197514)"
      ]
     },
     "execution_count": 52,
     "metadata": {},
     "output_type": "execute_result"
    }
   ],
   "source": [
    "chooseBestFeatureToSplit(dataSet)"
   ]
  },
  {
   "cell_type": "markdown",
   "metadata": {
    "collapsed": true
   },
   "source": [
    "### majority vote function"
   ]
  },
  {
   "cell_type": "code",
   "execution_count": 53,
   "metadata": {
    "collapsed": true
   },
   "outputs": [],
   "source": [
    "def majority_vote(class_list):\n",
    "    class_cnt = defaultdict(int)\n",
    "    for c in class_list:\n",
    "        class_cnt[c] += 1\n",
    "    vote = sorted(class_cnt.items(), key=lambda p:p[1], reverse=True)\n",
    "#     print(vote)\n",
    "    return vote[0][0]"
   ]
  },
  {
   "cell_type": "code",
   "execution_count": 54,
   "metadata": {},
   "outputs": [
    {
     "data": {
      "text/plain": [
       "1"
      ]
     },
     "execution_count": 54,
     "metadata": {},
     "output_type": "execute_result"
    }
   ],
   "source": [
    "d = [1,2,2,5,1,1]\n",
    "majority_vote(d)"
   ]
  },
  {
   "cell_type": "markdown",
   "metadata": {},
   "source": [
    "### recursively build the tree "
   ]
  },
  {
   "cell_type": "code",
   "execution_count": 55,
   "metadata": {},
   "outputs": [
    {
     "name": "stdout",
     "output_type": "stream",
     "text": [
      "0.0\n"
     ]
    },
    {
     "data": {
      "text/plain": [
       "True"
      ]
     },
     "execution_count": 55,
     "metadata": {},
     "output_type": "execute_result"
    }
   ],
   "source": [
    "# test\n",
    "dataset =[['tall','classA'],['tall','classB']]\n",
    "dataset =[['tall','classA'],['tall','classA']]\n",
    "print(calcShannonEnt(dataset))\n",
    "abs(calcShannonEnt(dataset) - 0) < 1e-6"
   ]
  },
  {
   "cell_type": "markdown",
   "metadata": {},
   "source": [
    "#### my version "
   ]
  },
  {
   "cell_type": "code",
   "execution_count": 56,
   "metadata": {
    "collapsed": true
   },
   "outputs": [],
   "source": [
    "class BaseNode:\n",
    "    def __init__(self, child):\n",
    "        self.child = child\n",
    "    def add_child(self, value, node):\n",
    "        self.child[value] = node\n",
    "    def __iter__(self):\n",
    "        return iter(self.child)\n",
    "    def depth_first(self):\n",
    "        yield 'decision node split axis: {}'.format(self.feature_axis)\n",
    "        for c_value, c_node in self.child.items():\n",
    "            yield from c_node.depth_first()\n",
    "        \n",
    "class LeafNode(BaseNode):\n",
    "    def __init__(self, class_label):\n",
    "        super().__init__(None) \n",
    "        self.class_label = class_label\n",
    "    def depth_first(self):\n",
    "        yield 'leaf node class: {}'.format(self.class_label)\n",
    "    \n",
    "class DecisionNode(BaseNode):\n",
    "    def __init__(self, feature_axis, child):\n",
    "        super().__init__(child)\n",
    "        print('node info', id(self), id(self.child))\n",
    "        self.feature_axis = feature_axis\n",
    "    "
   ]
  },
  {
   "cell_type": "code",
   "execution_count": 57,
   "metadata": {
    "collapsed": true
   },
   "outputs": [],
   "source": [
    "\n",
    "def build_decision_tree(dataset, d):\n",
    "#     if d >= 2: return None\n",
    "    print(dataset)\n",
    "    features_num = len(dataset[0]) - 1\n",
    "    # run out of features or all sample in node's dataset belong to the same class\n",
    " \n",
    "    if features_num == 0 or abs(calcShannonEnt(dataset) - 0) < 1e-6:  # add leaf node\n",
    "        voted_class = majority_vote([sample[-1] for sample in dataset])\n",
    "#         print(voted_class)\n",
    "        node = LeafNode(voted_class)\n",
    "        print(4*d*' ' + 'ln node id', id(node))\n",
    "#         print('ln node', id(node))\n",
    "        return node\n",
    "#         parent_node.add_child(LeafNode(voted_class))\n",
    "    else: # add decison node\n",
    "        split_feature_axis, _ = chooseBestFeatureToSplit(dataset)\n",
    "        unique_feature_set = set([sample[split_feature_axis] for sample in dataset])\n",
    "        cur_node = DecisionNode(split_feature_axis, child={})\n",
    "        print(4*d*' ' + 'dc node', id(cur_node))\n",
    "#         print(unique_feature_set)\n",
    "        for i, value in enumerate(unique_feature_set):\n",
    "            subset = splitDatsSet(dataset, split_feature_axis, value) \n",
    "            child_node = build_decision_tree(subset, d+1)\n",
    "            print(4*d*' ' + 'parent {}, {} {} child id {} {}'.format(id(cur_node), i,value, id(child_node), subset))\n",
    "#             cur_node.child[value] = child_node\n",
    "            cur_node.add_child(value, child_node)\n",
    "            print(4*d*' ' + '{}'.format(id(cur_node.child[value])))\n",
    "        return cur_node"
   ]
  },
  {
   "cell_type": "code",
   "execution_count": 58,
   "metadata": {},
   "outputs": [
    {
     "name": "stdout",
     "output_type": "stream",
     "text": [
      "[[1, 1, 'maybe'], [1, 1, 'yes'], [1, 0, 'no'], [0, 1, 'no'], [0, 1, 'no']]\n",
      "node info 112043560352 112043542424\n",
      "dc node 112043560352\n",
      "[[1, 'no'], [1, 'no']]\n",
      "    ln node id 112042741656\n",
      "parent 112043560352, 0 0 child id 112042741656 [[1, 'no'], [1, 'no']]\n",
      "112042741656\n",
      "[[1, 'maybe'], [1, 'yes'], [0, 'no']]\n",
      "node info 112043487640 112043579216\n",
      "    dc node 112043487640\n",
      "[['no']]\n",
      "        ln node id 112043487920\n",
      "    parent 112043487640, 0 0 child id 112043487920 [['no']]\n",
      "    112043487920\n",
      "[['maybe'], ['yes']]\n",
      "        ln node id 112043490328\n",
      "    parent 112043487640, 1 1 child id 112043490328 [['maybe'], ['yes']]\n",
      "    112043490328\n",
      "parent 112043560352, 1 1 child id 112043487640 [[1, 'maybe'], [1, 'yes'], [0, 'no']]\n",
      "112043487640\n"
     ]
    }
   ],
   "source": [
    "# print(dataSet)\n",
    "# root = DecisionNode(dataSet, None, None, None)\n",
    "\n",
    "root = build_decision_tree(dataSet, d=0)"
   ]
  },
  {
   "cell_type": "code",
   "execution_count": 59,
   "metadata": {},
   "outputs": [
    {
     "name": "stdout",
     "output_type": "stream",
     "text": [
      "112043560352\n",
      "{0: <__main__.LeafNode object at 0x1a16448f98>, 1: <__main__.DecisionNode object at 0x1a164ff198>} 112042741656 112043487640\n",
      "112043487640\n"
     ]
    }
   ],
   "source": [
    "\n",
    "\n",
    "print(id(root))\n",
    "# print(id(root.child)\n",
    "print(root.child, id(root.child[0]), id(root.child[1]))\n",
    "print(id(root.child[1]))\n",
    "# print(id(root.child[1].child[0]))\n",
    "# print(root.child[1].child)\n",
    "\n"
   ]
  },
  {
   "cell_type": "code",
   "execution_count": 60,
   "metadata": {},
   "outputs": [
    {
     "name": "stdout",
     "output_type": "stream",
     "text": [
      "<__main__.DecisionNode object at 0x1a16510da0>\n",
      "{0: <__main__.LeafNode object at 0x1a16448f98>, 1: <__main__.DecisionNode object at 0x1a164ff198>}\n",
      "{0: <__main__.LeafNode object at 0x1a164ff2b0>, 1: <__main__.LeafNode object at 0x1a164ffc18>}\n"
     ]
    }
   ],
   "source": [
    "print(root)\n",
    "print(root.child)\n",
    "print(root.child[1].child)"
   ]
  },
  {
   "cell_type": "markdown",
   "metadata": {},
   "source": [
    "#### 发现一个很严重，很需要注意的问题，构造函数中的默认参数在实例之间共享 ；不建议用[], {} 等对象做默认实参，尤其是后续会修改的话"
   ]
  },
  {
   "cell_type": "code",
   "execution_count": 61,
   "metadata": {},
   "outputs": [
    {
     "name": "stdout",
     "output_type": "stream",
     "text": [
      "info:  112043559120 112043505200\n",
      "info:  112043489544 112043505200\n"
     ]
    }
   ],
   "source": [
    "class D:\n",
    "    def __init__(self, d = {}):\n",
    "        self.d = d\n",
    "        print('info: ', id(self), id(self.d))\n",
    "\n",
    "d1 = D()\n",
    "d2 = D()\n",
    "# 两个id 一样"
   ]
  },
  {
   "cell_type": "code",
   "execution_count": 62,
   "metadata": {},
   "outputs": [
    {
     "name": "stdout",
     "output_type": "stream",
     "text": [
      "info:  112043488368 112043579864\n",
      "info:  112043490944 112043507288\n"
     ]
    }
   ],
   "source": [
    "class D:\n",
    "    def __init__(self, d):\n",
    "        self.d = d\n",
    "        print('info: ', id(self), id(self.d))\n",
    "\n",
    "d1 = D({})\n",
    "d2 = D({})\n",
    "# 这样两个id就不一样"
   ]
  },
  {
   "cell_type": "markdown",
   "metadata": {},
   "source": [
    "#### 比较好的解决方案"
   ]
  },
  {
   "cell_type": "code",
   "execution_count": 63,
   "metadata": {},
   "outputs": [
    {
     "name": "stdout",
     "output_type": "stream",
     "text": [
      "info:  112043551040 112043506568\n",
      "info:  112043551824 112043543936\n"
     ]
    }
   ],
   "source": [
    "class D:\n",
    "    def __init__(self, d=None):\n",
    "        if not d:\n",
    "            d = {}\n",
    "        self.d = d\n",
    "        print('info: ', id(self), id(self.d))\n",
    "\n",
    "d1 = D()\n",
    "d2 = D()"
   ]
  },
  {
   "cell_type": "markdown",
   "metadata": {},
   "source": [
    "### 遍历decision tree "
   ]
  },
  {
   "cell_type": "code",
   "execution_count": 64,
   "metadata": {},
   "outputs": [
    {
     "name": "stdout",
     "output_type": "stream",
     "text": [
      "decision node split axis: 0\n",
      "leaf node class: no\n",
      "decision node split axis: 0\n",
      "leaf node class: no\n",
      "leaf node class: maybe\n"
     ]
    }
   ],
   "source": [
    "for n in root.depth_first():\n",
    "    print(n)"
   ]
  },
  {
   "cell_type": "markdown",
   "metadata": {},
   "source": [
    "### code in book "
   ]
  },
  {
   "cell_type": "code",
   "execution_count": 65,
   "metadata": {
    "collapsed": true
   },
   "outputs": [],
   "source": [
    "def createTree(dataset, labels):\n",
    "    labels = labels[:]\n",
    "    class_list = [sample[-1] for sample in dataset]\n",
    "    if class_list.count(class_list[0]) == len(class_list):\n",
    "        return class_list[0]\n",
    "    if len(dataset[0]) == 1:\n",
    "        return majority_vote(class_list)\n",
    "    best_feat, _ = chooseBestFeatureToSplit(dataset)\n",
    "    best_feat_label = labels[best_feat]\n",
    "#     print(best_feat, best_feat_label)\n",
    "    myTree = {best_feat_label: {}}\n",
    "    del(labels[best_feat])\n",
    "    feat_values = [sample[best_feat] for sample in dataset]\n",
    "    unique_vals = set(feat_values)\n",
    "    for feat in unique_vals:\n",
    "        sub_dataset = splitDatsSet(dataset, best_feat, feat)\n",
    "        myTree[best_feat_label][feat] = createTree(sub_dataset, labels)\n",
    "    return myTree"
   ]
  },
  {
   "cell_type": "code",
   "execution_count": 66,
   "metadata": {},
   "outputs": [
    {
     "data": {
      "text/plain": [
       "{'no surfacing': {0: 'no', 1: {'flippers': {0: 'no', 1: 'yes'}}}}"
      ]
     },
     "execution_count": 66,
     "metadata": {},
     "output_type": "execute_result"
    }
   ],
   "source": [
    "dataset, labels = createDataSet()\n",
    "myTree = createTree(dataset, labels[:])\n",
    "myTree"
   ]
  },
  {
   "cell_type": "code",
   "execution_count": 67,
   "metadata": {},
   "outputs": [
    {
     "name": "stdout",
     "output_type": "stream",
     "text": [
      "['no surfacing', 'flippers']\n"
     ]
    }
   ],
   "source": [
    "print(labels)"
   ]
  },
  {
   "cell_type": "markdown",
   "metadata": {},
   "source": [
    "### plotting tree nodes "
   ]
  },
  {
   "cell_type": "code",
   "execution_count": 68,
   "metadata": {
    "collapsed": true
   },
   "outputs": [],
   "source": [
    "import matplotlib.pyplot as plt\n",
    "\n",
    "decisionNode = dict(boxstyle=\"sawtooth\", fc=\"0.8\")\n",
    "leafNode = dict(boxstyle=\"round4\", fc=\"0.8\")\n",
    "arrow_args = dict(arrowstyle=\"<-\")\n",
    "\n",
    "def plotNode(nodeTxt, centerPt, parentPt, nodeType):\n",
    "    createPlot.ax1.annotate(nodeTxt, xy=parentPt,xycoords='axes fraction',\n",
    "    xytext=centerPt, textcoords='axes fraction',\n",
    "    va=\"center\", ha=\"center\", bbox=nodeType, arrowprops=arrow_args)\n",
    "    \n",
    "def createPlot():\n",
    "    fig = plt.figure(1, facecolor='white')\n",
    "    fig.clf()\n",
    "    createPlot.ax1 = plt.subplot(111, frameon=False)\n",
    "    plotNode('a decision node', (0.5, 0.1), (0.1, 0.5), decisionNode)\n",
    "    plotNode('a leaf node', (0.8, 0.1), (0.3, 0.8), leafNode)\n",
    "    plt.show()"
   ]
  },
  {
   "cell_type": "code",
   "execution_count": 69,
   "metadata": {},
   "outputs": [
    {
     "data": {
      "image/png": "[encoded data removed]",
      "text/plain": [
       "<matplotlib.figure.Figure at 0x1a16448cc0>"
      ]
     },
     "metadata": {},
     "output_type": "display_data"
    }
   ],
   "source": [
    "createPlot()"
   ]
  },
  {
   "cell_type": "code",
   "execution_count": 70,
   "metadata": {
    "collapsed": true
   },
   "outputs": [],
   "source": [
    "def getNumLeafs(myTree):\n",
    "    numLeafs = 0\n",
    "    firstStr = list(myTree.keys())[0]\n",
    "    secondDict = myTree[firstStr]\n",
    "#     _, secondDict = next(iter(myTree.items()))\n",
    "    for key in secondDict.keys():\n",
    "        if type(secondDict[key]).__name__=='dict':\n",
    "            numLeafs += getNumLeafs(secondDict[key])\n",
    "        else:   numLeafs +=1\n",
    "    return numLeafs\n",
    "\n",
    "def getTreeDepth(myTree):\n",
    "    maxDepth = 0\n",
    "    firstStr = list(myTree.keys())[0]\n",
    "    secondDict = myTree[firstStr]\n",
    "#     _, secondDict = next(iter(myTree.items()))\n",
    "    for key in secondDict.keys():\n",
    "        if type(secondDict[key]).__name__=='dict':\n",
    "            thisDepth = 1 + getTreeDepth(secondDict[key])\n",
    "        else:   thisDepth = 1\n",
    "        if thisDepth > maxDepth: maxDepth = thisDepth\n",
    "    return maxDepth"
   ]
  },
  {
   "cell_type": "code",
   "execution_count": 71,
   "metadata": {},
   "outputs": [
    {
     "name": "stdout",
     "output_type": "stream",
     "text": [
      "{'no surfacing': {0: 'no', 1: {'flippers': {0: 'no', 1: 'yes'}}}}\n"
     ]
    },
    {
     "data": {
      "text/plain": [
       "2"
      ]
     },
     "execution_count": 71,
     "metadata": {},
     "output_type": "execute_result"
    }
   ],
   "source": [
    "print(myTree)\n",
    "getTreeDepth(myTree)"
   ]
  },
  {
   "cell_type": "code",
   "execution_count": 72,
   "metadata": {},
   "outputs": [
    {
     "data": {
      "text/plain": [
       "3"
      ]
     },
     "execution_count": 72,
     "metadata": {},
     "output_type": "execute_result"
    }
   ],
   "source": [
    "getNumLeafs(myTree)"
   ]
  },
  {
   "cell_type": "code",
   "execution_count": 73,
   "metadata": {
    "collapsed": true
   },
   "outputs": [],
   "source": [
    "def retrieveTree(i):\n",
    "    listOfTrees =[{'no surfacing': {0: 'no', 1: {'flippers': \\\n",
    "                    {0: 'no', 1: 'yes'}}}},\n",
    "                  {'no surfacing': {0: 'no', 1: {'flippers': \\\n",
    "                    {0: {'head': {0: 'no', 1: 'yes'}}, 1: 'no'}}}}\n",
    "                  ]\n",
    "    return listOfTrees[i]"
   ]
  },
  {
   "cell_type": "code",
   "execution_count": 74,
   "metadata": {
    "collapsed": true
   },
   "outputs": [],
   "source": [
    "def plotMidText(cntrPt, parentPt, txtString):\n",
    "    xMid = (parentPt[0]-cntrPt[0])/2.0 + cntrPt[0]\n",
    "    yMid = (parentPt[1]-cntrPt[1])/2.0 + cntrPt[1]\n",
    "    createPlot.ax1.text(xMid, yMid, txtString)\n",
    "    \n",
    "def plotTree(myTree, parentPt, nodeTxt):\n",
    "    numLeafs = getNumLeafs(myTree)\n",
    "    getTreeDepth(myTree)\n",
    "    firstStr = list(myTree.keys())[0]\n",
    "    cntrPt = (plotTree.xOff + (1.0 + float(numLeafs))/2.0/plotTree.totalW, plotTree.yOff)\n",
    "    plotMidText(cntrPt, parentPt, nodeTxt)\n",
    "    plotNode(firstStr, cntrPt, parentPt, decisionNode)\n",
    "    secondDict = myTree[firstStr]\n",
    "    plotTree.yOff = plotTree.yOff - 1.0/plotTree.totalD\n",
    "    for key in secondDict.keys():\n",
    "        if type(secondDict[key]).__name__=='dict':\n",
    "            plotTree(secondDict[key],cntrPt,str(key))\n",
    "        else:\n",
    "            plotTree.xOff = plotTree.xOff + 1.0/plotTree.totalW\n",
    "            plotNode(secondDict[key], (plotTree.xOff, plotTree.yOff),\n",
    "                cntrPt, leafNode)\n",
    "            plotMidText((plotTree.xOff, plotTree.yOff), cntrPt, str(key))\n",
    "    plotTree.yOff = plotTree.yOff + 1.0/plotTree.totalD\n",
    "    \n",
    "def createPlot(inTree):\n",
    "    fig = plt.figure(1, facecolor='white')\n",
    "    fig.clf()\n",
    "    axprops = dict(xticks=[], yticks=[])\n",
    "    createPlot.ax1 = plt.subplot(111, frameon=False, **axprops)\n",
    "    plotTree.totalW = float(getNumLeafs(inTree))\n",
    "    plotTree.totalD = float(getTreeDepth(inTree))\n",
    "    plotTree.xOff = -0.5/plotTree.totalW; plotTree.yOff = 1.0; plotTree(inTree, (0.5,1.0), '')\n",
    "    plt.show()"
   ]
  },
  {
   "cell_type": "code",
   "execution_count": 75,
   "metadata": {},
   "outputs": [
    {
     "data": {
      "image/png": "[encoded data removed]",
      "text/plain": [
       "<matplotlib.figure.Figure at 0x1a1658cf98>"
      ]
     },
     "metadata": {},
     "output_type": "display_data"
    }
   ],
   "source": [
    "myTree=retrieveTree(0)\n",
    "createPlot(myTree)"
   ]
  },
  {
   "cell_type": "markdown",
   "metadata": {},
   "source": [
    "#### using sklearn "
   ]
  },
  {
   "cell_type": "code",
   "execution_count": 76,
   "metadata": {},
   "outputs": [],
   "source": [
    "# X, y = createDataSet()\n",
    "# print(X, y)\n",
    "X = np.array([[1,1],[1,1],[1,0],[0,1],[0,1]])\n",
    "y = np.array([1,1,0,0,0])\n",
    "# feature_names = ['no surfacing', 'flippers']\n",
    "# target_names = ['not fish', 'fish']\n",
    "feature_names = ['不浮出水面能生存', '有脚蹼']\n",
    "target_names = ['不是鱼', '是鱼']"
   ]
  },
  {
   "cell_type": "code",
   "execution_count": 77,
   "metadata": {},
   "outputs": [
    {
     "name": "stdout",
     "output_type": "stream",
     "text": [
      "[[1 1]\n",
      " [1 1]\n",
      " [1 0]\n",
      " [0 1]\n",
      " [0 1]] [1 1 0 0 0]\n"
     ]
    }
   ],
   "source": [
    "print(X, y)"
   ]
  },
  {
   "cell_type": "code",
   "execution_count": 78,
   "metadata": {},
   "outputs": [
    {
     "data": {
      "text/plain": [
       "DecisionTreeClassifier(class_weight=None, criterion='gini', max_depth=None,\n",
       "            max_features=None, max_leaf_nodes=None,\n",
       "            min_impurity_decrease=0.0, min_impurity_split=None,\n",
       "            min_samples_leaf=1, min_samples_split=2,\n",
       "            min_weight_fraction_leaf=0.0, presort=False, random_state=None,\n",
       "            splitter='best')"
      ]
     },
     "execution_count": 78,
     "metadata": {},
     "output_type": "execute_result"
    }
   ],
   "source": [
    "from sklearn import tree\n",
    "clf = tree.DecisionTreeClassifier()\n",
    "clf.fit(X, y)"
   ]
  },
  {
   "cell_type": "code",
   "execution_count": 79,
   "metadata": {},
   "outputs": [
    {
     "data": {
      "text/plain": [
       "array([1, 0])"
      ]
     },
     "execution_count": 79,
     "metadata": {},
     "output_type": "execute_result"
    }
   ],
   "source": [
    "clf.predict([[1,1], [0,1]])"
   ]
  },
  {
   "cell_type": "code",
   "execution_count": 80,
   "metadata": {},
   "outputs": [
    {
     "data": {
      "text/plain": [
       "1.0"
      ]
     },
     "execution_count": 80,
     "metadata": {},
     "output_type": "execute_result"
    }
   ],
   "source": [
    "clf.score(X, y)"
   ]
  },
  {
   "cell_type": "code",
   "execution_count": 81,
   "metadata": {},
   "outputs": [],
   "source": [
    "from sklearn.tree import export_graphviz\n",
    "dot_data = export_graphviz(clf, out_file=None, \n",
    "                           feature_names=feature_names,class_names=target_names,\n",
    "                           leaves_parallel=True,impurity=False,\n",
    "                           filled=True, rounded=True,\n",
    "                          special_characters=True)"
   ]
  },
  {
   "cell_type": "markdown",
   "metadata": {},
   "source": [
    "see\n",
    "\n",
    "http://scikit-learn.org/stable/modules/generated/sklearn.tree.export_graphviz.html#sklearn.tree.export_graphviz "
   ]
  },
  {
   "cell_type": "code",
   "execution_count": 82,
   "metadata": {},
   "outputs": [
    {
     "data": {
      "image/svg+xml": [
       "<?xml version=\"1.0\" encoding=\"UTF-8\" standalone=\"no\"?>\n",
       "<!DOCTYPE svg PUBLIC \"-//W3C//DTD SVG 1.1//EN\"\n",
       " \"http://www.w3.org/Graphics/SVG/1.1/DTD/svg11.dtd\">\n",
       "<!-- Generated by graphviz version 2.40.1 (20161225.0304)\n",
       " -->\n",
       "<!-- Title: Tree Pages: 1 -->\n",
       "<svg width=\"400pt\" height=\"297pt\"\n",
       " viewBox=\"0.00 0.00 399.74 297.20\" xmlns=\"http://www.w3.org/2000/svg\" xmlns:xlink=\"http://www.w3.org/1999/xlink\">\n",
       "<g id=\"graph0\" class=\"graph\" transform=\"scale(1 1) rotate(0) translate(4 293.2)\">\n",
       "<title>Tree</title>\n",
       "<polygon fill=\"#ffffff\" stroke=\"transparent\" points=\"-4,4 -4,-293.2 395.7433,-293.2 395.7433,4 -4,4\"/>\n",
       "<!-- 0 -->\n",
       "<g id=\"node1\" class=\"node\">\n",
       "<title>0</title>\n",
       "<path fill=\"#e58139\" fill-opacity=\"0.333333\" stroke=\"#000000\" d=\"M207.0823,-289.3003C207.0823,-289.3003 55.1049,-289.3003 55.1049,-289.3003 49.1049,-289.3003 43.1049,-283.3003 43.1049,-277.3003 43.1049,-277.3003 43.1049,-225.8997 43.1049,-225.8997 43.1049,-219.8997 49.1049,-213.8997 55.1049,-213.8997 55.1049,-213.8997 207.0823,-213.8997 207.0823,-213.8997 213.0823,-213.8997 219.0823,-219.8997 219.0823,-225.8997 219.0823,-225.8997 219.0823,-277.3003 219.0823,-277.3003 219.0823,-283.3003 213.0823,-289.3003 207.0823,-289.3003\"/>\n",
       "<text text-anchor=\"start\" x=\"51.3496\" y=\"-272.6\" font-family=\"Helvetica,sans-Serif\" font-size=\"14.00\" fill=\"#000000\">不浮出水面能生存 ≤ 0.5</text>\n",
       "<text text-anchor=\"start\" x=\"93.1669\" y=\"-255.8\" font-family=\"Helvetica,sans-Serif\" font-size=\"14.00\" fill=\"#000000\">samples = 5</text>\n",
       "<text text-anchor=\"start\" x=\"90.8247\" y=\"-239\" font-family=\"Helvetica,sans-Serif\" font-size=\"14.00\" fill=\"#000000\">value = [3, 2]</text>\n",
       "<text text-anchor=\"start\" x=\"78\" y=\"-222.2\" font-family=\"Helvetica,sans-Serif\" font-size=\"14.00\" fill=\"#000000\">class = 不是鱼</text>\n",
       "</g>\n",
       "<!-- 1 -->\n",
       "<g id=\"node2\" class=\"node\">\n",
       "<title>1</title>\n",
       "<path fill=\"#e58139\" stroke=\"#000000\" d=\"M110.2809,-58.6014C110.2809,-58.6014 11.9063,-58.6014 11.9063,-58.6014 5.9063,-58.6014 -.0937,-52.6014 -.0937,-46.6014 -.0937,-46.6014 -.0937,-11.7986 -.0937,-11.7986 -.0937,-5.7986 5.9063,.2014 11.9063,.2014 11.9063,.2014 110.2809,.2014 110.2809,.2014 116.2809,.2014 122.2809,-5.7986 122.2809,-11.7986 122.2809,-11.7986 122.2809,-46.6014 122.2809,-46.6014 122.2809,-52.6014 116.2809,-58.6014 110.2809,-58.6014\"/>\n",
       "<text text-anchor=\"start\" x=\"23.1669\" y=\"-41.8\" font-family=\"Helvetica,sans-Serif\" font-size=\"14.00\" fill=\"#000000\">samples = 2</text>\n",
       "<text text-anchor=\"start\" x=\"20.8247\" y=\"-25\" font-family=\"Helvetica,sans-Serif\" font-size=\"14.00\" fill=\"#000000\">value = [2, 0]</text>\n",
       "<text text-anchor=\"start\" x=\"8\" y=\"-8.2\" font-family=\"Helvetica,sans-Serif\" font-size=\"14.00\" fill=\"#000000\">class = 不是鱼</text>\n",
       "</g>\n",
       "<!-- 0&#45;&gt;1 -->\n",
       "<g id=\"edge1\" class=\"edge\">\n",
       "<title>0&#45;&gt;1</title>\n",
       "<path fill=\"none\" stroke=\"#000000\" d=\"M119.2191,-213.8729C106.4626,-173.3437 86.2877,-109.2452 73.3758,-68.2222\"/>\n",
       "<polygon fill=\"#000000\" stroke=\"#000000\" points=\"76.6792,-67.0595 70.3383,-58.5716 70.0021,-69.1611 76.6792,-67.0595\"/>\n",
       "<text text-anchor=\"middle\" x=\"58.7835\" y=\"-76.5411\" font-family=\"Helvetica,sans-Serif\" font-size=\"14.00\" fill=\"#000000\">True</text>\n",
       "</g>\n",
       "<!-- 2 -->\n",
       "<g id=\"node3\" class=\"node\">\n",
       "<title>2</title>\n",
       "<path fill=\"#399de5\" fill-opacity=\"0.498039\" stroke=\"#000000\" d=\"M244.8934,-178.1003C244.8934,-178.1003 157.2938,-178.1003 157.2938,-178.1003 151.2938,-178.1003 145.2938,-172.1003 145.2938,-166.1003 145.2938,-166.1003 145.2938,-114.6997 145.2938,-114.6997 145.2938,-108.6997 151.2938,-102.6997 157.2938,-102.6997 157.2938,-102.6997 244.8934,-102.6997 244.8934,-102.6997 250.8934,-102.6997 256.8934,-108.6997 256.8934,-114.6997 256.8934,-114.6997 256.8934,-166.1003 256.8934,-166.1003 256.8934,-172.1003 250.8934,-178.1003 244.8934,-178.1003\"/>\n",
       "<text text-anchor=\"start\" x=\"155.5768\" y=\"-161.4\" font-family=\"Helvetica,sans-Serif\" font-size=\"14.00\" fill=\"#000000\">有脚蹼 ≤ 0.5</text>\n",
       "<text text-anchor=\"start\" x=\"163.1669\" y=\"-144.6\" font-family=\"Helvetica,sans-Serif\" font-size=\"14.00\" fill=\"#000000\">samples = 3</text>\n",
       "<text text-anchor=\"start\" x=\"160.8247\" y=\"-127.8\" font-family=\"Helvetica,sans-Serif\" font-size=\"14.00\" fill=\"#000000\">value = [1, 2]</text>\n",
       "<text text-anchor=\"start\" x=\"153.4439\" y=\"-111\" font-family=\"Helvetica,sans-Serif\" font-size=\"14.00\" fill=\"#000000\">class = 是鱼</text>\n",
       "</g>\n",
       "<!-- 0&#45;&gt;2 -->\n",
       "<g id=\"edge2\" class=\"edge\">\n",
       "<title>0&#45;&gt;2</title>\n",
       "<path fill=\"none\" stroke=\"#000000\" d=\"M154.7924,-213.9528C160.3229,-205.1671 166.2752,-195.7115 172.0093,-186.6025\"/>\n",
       "<polygon fill=\"#000000\" stroke=\"#000000\" points=\"175.0538,-188.3359 177.4192,-178.0085 169.1298,-184.6067 175.0538,-188.3359\"/>\n",
       "<text text-anchor=\"middle\" x=\"182.9621\" y=\"-198.1863\" font-family=\"Helvetica,sans-Serif\" font-size=\"14.00\" fill=\"#000000\">False</text>\n",
       "</g>\n",
       "<!-- 3 -->\n",
       "<g id=\"node4\" class=\"node\">\n",
       "<title>3</title>\n",
       "<path fill=\"#e58139\" stroke=\"#000000\" d=\"M250.2809,-58.6014C250.2809,-58.6014 151.9063,-58.6014 151.9063,-58.6014 145.9063,-58.6014 139.9063,-52.6014 139.9063,-46.6014 139.9063,-46.6014 139.9063,-11.7986 139.9063,-11.7986 139.9063,-5.7986 145.9063,.2014 151.9063,.2014 151.9063,.2014 250.2809,.2014 250.2809,.2014 256.2809,.2014 262.2809,-5.7986 262.2809,-11.7986 262.2809,-11.7986 262.2809,-46.6014 262.2809,-46.6014 262.2809,-52.6014 256.2809,-58.6014 250.2809,-58.6014\"/>\n",
       "<text text-anchor=\"start\" x=\"163.1669\" y=\"-41.8\" font-family=\"Helvetica,sans-Serif\" font-size=\"14.00\" fill=\"#000000\">samples = 1</text>\n",
       "<text text-anchor=\"start\" x=\"160.8247\" y=\"-25\" font-family=\"Helvetica,sans-Serif\" font-size=\"14.00\" fill=\"#000000\">value = [1, 0]</text>\n",
       "<text text-anchor=\"start\" x=\"148\" y=\"-8.2\" font-family=\"Helvetica,sans-Serif\" font-size=\"14.00\" fill=\"#000000\">class = 不是鱼</text>\n",
       "</g>\n",
       "<!-- 2&#45;&gt;3 -->\n",
       "<g id=\"edge3\" class=\"edge\">\n",
       "<title>2&#45;&gt;3</title>\n",
       "<path fill=\"none\" stroke=\"#000000\" d=\"M201.0936,-102.7528C201.0936,-91.8662 201.0936,-79.951 201.0936,-68.9411\"/>\n",
       "<polygon fill=\"#000000\" stroke=\"#000000\" points=\"204.5937,-68.7258 201.0936,-58.7258 197.5937,-68.7259 204.5937,-68.7258\"/>\n",
       "</g>\n",
       "<!-- 4 -->\n",
       "<g id=\"node5\" class=\"node\">\n",
       "<title>4</title>\n",
       "<path fill=\"#399de5\" stroke=\"#000000\" d=\"M379.8934,-58.6014C379.8934,-58.6014 292.2938,-58.6014 292.2938,-58.6014 286.2938,-58.6014 280.2938,-52.6014 280.2938,-46.6014 280.2938,-46.6014 280.2938,-11.7986 280.2938,-11.7986 280.2938,-5.7986 286.2938,.2014 292.2938,.2014 292.2938,.2014 379.8934,.2014 379.8934,.2014 385.8934,.2014 391.8934,-5.7986 391.8934,-11.7986 391.8934,-11.7986 391.8934,-46.6014 391.8934,-46.6014 391.8934,-52.6014 385.8934,-58.6014 379.8934,-58.6014\"/>\n",
       "<text text-anchor=\"start\" x=\"298.1669\" y=\"-41.8\" font-family=\"Helvetica,sans-Serif\" font-size=\"14.00\" fill=\"#000000\">samples = 2</text>\n",
       "<text text-anchor=\"start\" x=\"295.8247\" y=\"-25\" font-family=\"Helvetica,sans-Serif\" font-size=\"14.00\" fill=\"#000000\">value = [0, 2]</text>\n",
       "<text text-anchor=\"start\" x=\"288.4439\" y=\"-8.2\" font-family=\"Helvetica,sans-Serif\" font-size=\"14.00\" fill=\"#000000\">class = 是鱼</text>\n",
       "</g>\n",
       "<!-- 2&#45;&gt;4 -->\n",
       "<g id=\"edge4\" class=\"edge\">\n",
       "<title>2&#45;&gt;4</title>\n",
       "<path fill=\"none\" stroke=\"#000000\" d=\"M246.7984,-102.7528C261.5138,-90.6316 277.7774,-77.2353 292.3482,-65.2332\"/>\n",
       "<polygon fill=\"#000000\" stroke=\"#000000\" points=\"294.755,-67.7853 300.2484,-58.7258 290.3045,-62.3822 294.755,-67.7853\"/>\n",
       "</g>\n",
       "</g>\n",
       "</svg>\n"
      ],
      "text/plain": [
       "<graphviz.files.Source at 0x1a1658cef0>"
      ]
     },
     "execution_count": 82,
     "metadata": {},
     "output_type": "execute_result"
    }
   ],
   "source": [
    "import graphviz\n",
    "graph = graphviz.Source(dot_data)\n",
    "graph"
   ]
  },
  {
   "cell_type": "markdown",
   "metadata": {},
   "source": [
    "### Lenses decision tree "
   ]
  },
  {
   "cell_type": "code",
   "execution_count": 83,
   "metadata": {},
   "outputs": [
    {
     "name": "stdout",
     "output_type": "stream",
     "text": [
      "[['young', 'myope', 'no', 'reduced', 'no lenses'],\n",
      " ['young', 'myope', 'no', 'normal', 'soft'],\n",
      " ['young', 'myope', 'yes', 'reduced', 'no lenses'],\n",
      " ['young', 'myope', 'yes', 'normal', 'hard'],\n",
      " ['young', 'hyper', 'no', 'reduced', 'no lenses'],\n",
      " ['young', 'hyper', 'no', 'normal', 'soft'],\n",
      " ['young', 'hyper', 'yes', 'reduced', 'no lenses'],\n",
      " ['young', 'hyper', 'yes', 'normal', 'hard'],\n",
      " ['pre', 'myope', 'no', 'reduced', 'no lenses'],\n",
      " ['pre', 'myope', 'no', 'normal', 'soft'],\n",
      " ['pre', 'myope', 'yes', 'reduced', 'no lenses'],\n",
      " ['pre', 'myope', 'yes', 'normal', 'hard'],\n",
      " ['pre', 'hyper', 'no', 'reduced', 'no lenses'],\n",
      " ['pre', 'hyper', 'no', 'normal', 'soft'],\n",
      " ['pre', 'hyper', 'yes', 'reduced', 'no lenses'],\n",
      " ['pre', 'hyper', 'yes', 'normal', 'no lenses'],\n",
      " ['presbyopic', 'myope', 'no', 'reduced', 'no lenses'],\n",
      " ['presbyopic', 'myope', 'no', 'normal', 'no lenses'],\n",
      " ['presbyopic', 'myope', 'yes', 'reduced', 'no lenses'],\n",
      " ['presbyopic', 'myope', 'yes', 'normal', 'hard'],\n",
      " ['presbyopic', 'hyper', 'no', 'reduced', 'no lenses'],\n",
      " ['presbyopic', 'hyper', 'no', 'normal', 'soft'],\n",
      " ['presbyopic', 'hyper', 'yes', 'reduced', 'no lenses'],\n",
      " ['presbyopic', 'hyper', 'yes', 'normal', 'no lenses']]\n",
      "['age', 'prescript', 'astigmatic', 'tearRate']\n"
     ]
    }
   ],
   "source": [
    "from pprint import pprint\n",
    "with open('lenses.txt', 'r') as f:\n",
    "#     for line in f:\n",
    "#         print(line.strip().split('\\t'))\n",
    "    lenses_dataset = [line.strip().split('\\t') for line in f.readlines()]\n",
    "lenses_labels = ['age', 'prescript', 'astigmatic', 'tearRate']\n",
    "\n",
    "pprint(lenses_dataset)\n",
    "print(lenses_labels)"
   ]
  },
  {
   "cell_type": "code",
   "execution_count": 84,
   "metadata": {},
   "outputs": [
    {
     "name": "stdout",
     "output_type": "stream",
     "text": [
      "{'tearRate': {'normal': {'astigmatic': {'no': {'age': {'pre': 'soft',\n",
      "                                                       'presbyopic': {'prescript': {'hyper': 'soft',\n",
      "                                                                                    'myope': 'no '\n",
      "                                                                                             'lenses'}},\n",
      "                                                       'young': 'soft'}},\n",
      "                                        'yes': {'prescript': {'hyper': {'age': {'pre': 'no '\n",
      "                                                                                       'lenses',\n",
      "                                                                                'presbyopic': 'no '\n",
      "                                                                                              'lenses',\n",
      "                                                                                'young': 'hard'}},\n",
      "                                                              'myope': 'hard'}}}},\n",
      "              'reduced': 'no lenses'}}\n"
     ]
    }
   ],
   "source": [
    "lenses_tree = createTree(lenses_dataset, lenses_labels)\n",
    "pprint(lenses_tree)"
   ]
  },
  {
   "cell_type": "code",
   "execution_count": 85,
   "metadata": {},
   "outputs": [
    {
     "data": {
      "image/png": "[encoded data removed]",
      "text/plain": [
       "<matplotlib.figure.Figure at 0x1a1661fd30>"
      ]
     },
     "metadata": {},
     "output_type": "display_data"
    }
   ],
   "source": [
    "createPlot(lenses_tree)"
   ]
  },
  {
   "cell_type": "markdown",
   "metadata": {
    "collapsed": true
   },
   "source": [
    "### using sklearn\n",
    "参考：https://blog.csdn.net/zhyh1435589631/article/details/53869803/\n",
    "https://blog.csdn.net/qq_36847641/article/details/78279309\n",
    "http://scikit-learn.org/stable/modules/generated/sklearn.feature_extraction.DictVectorizer.html"
   ]
  },
  {
   "cell_type": "markdown",
   "metadata": {},
   "source": [
    "####  DictVectorizer"
   ]
  },
  {
   "cell_type": "code",
   "execution_count": 86,
   "metadata": {},
   "outputs": [],
   "source": [
    "feature_names = ['age', 'prescript', 'astigmatic', 'tearRate']\n",
    "lenses_dataset = []\n",
    "lenses_labels = []\n",
    "with open('lenses.txt', 'r') as f:\n",
    "    for line in f:\n",
    "#         print(line.strip().split('\\t'))\n",
    "        row = line.strip().split('\\t')\n",
    "        row_dict = {}\n",
    "        for i, feat in enumerate(row[:-1]):\n",
    "            row_dict[feature_names[i]] = feat\n",
    "        lenses_dataset.append(row_dict)\n",
    "        lenses_labels.append(row[-1])\n",
    "#     lenses_dataset = [line.strip().split('\\t') for line in f.readlines()]\n",
    "\n",
    "# pprint(lenses_dataset)\n",
    "# pprint(lenses_labels)"
   ]
  },
  {
   "cell_type": "code",
   "execution_count": 87,
   "metadata": {},
   "outputs": [
    {
     "data": {
      "text/plain": [
       "24"
      ]
     },
     "execution_count": 87,
     "metadata": {},
     "output_type": "execute_result"
    }
   ],
   "source": [
    "len(lenses_dataset)"
   ]
  },
  {
   "cell_type": "code",
   "execution_count": 88,
   "metadata": {},
   "outputs": [
    {
     "data": {
      "text/plain": [
       "['no lenses',\n",
       " 'soft',\n",
       " 'no lenses',\n",
       " 'hard',\n",
       " 'no lenses',\n",
       " 'soft',\n",
       " 'no lenses',\n",
       " 'hard',\n",
       " 'no lenses',\n",
       " 'soft',\n",
       " 'no lenses',\n",
       " 'hard',\n",
       " 'no lenses',\n",
       " 'soft',\n",
       " 'no lenses',\n",
       " 'no lenses',\n",
       " 'no lenses',\n",
       " 'no lenses',\n",
       " 'no lenses',\n",
       " 'hard',\n",
       " 'no lenses',\n",
       " 'soft',\n",
       " 'no lenses',\n",
       " 'no lenses']"
      ]
     },
     "execution_count": 88,
     "metadata": {},
     "output_type": "execute_result"
    }
   ],
   "source": [
    "lenses_labels"
   ]
  },
  {
   "cell_type": "code",
   "execution_count": 89,
   "metadata": {
    "collapsed": true
   },
   "outputs": [],
   "source": [
    "from sklearn.feature_extraction import DictVectorizer"
   ]
  },
  {
   "cell_type": "markdown",
   "metadata": {},
   "source": [
    "see\n",
    "\n",
    "http://scikit-learn.org/stable/modules/feature_extraction.html#feature-extraction"
   ]
  },
  {
   "cell_type": "code",
   "execution_count": 90,
   "metadata": {
    "collapsed": true
   },
   "outputs": [],
   "source": [
    "vec = DictVectorizer()\n",
    "X = vec.fit_transform(lenses_dataset).toarray()"
   ]
  },
  {
   "cell_type": "code",
   "execution_count": 91,
   "metadata": {},
   "outputs": [
    {
     "data": {
      "text/plain": [
       "array([[0., 0., 1., 1., 0., 0., 1., 0., 1.],\n",
       "       [0., 0., 1., 1., 0., 0., 1., 1., 0.],\n",
       "       [0., 0., 1., 0., 1., 0., 1., 0., 1.],\n",
       "       [0., 0., 1., 0., 1., 0., 1., 1., 0.],\n",
       "       [0., 0., 1., 1., 0., 1., 0., 0., 1.],\n",
       "       [0., 0., 1., 1., 0., 1., 0., 1., 0.],\n",
       "       [0., 0., 1., 0., 1., 1., 0., 0., 1.],\n",
       "       [0., 0., 1., 0., 1., 1., 0., 1., 0.],\n",
       "       [1., 0., 0., 1., 0., 0., 1., 0., 1.],\n",
       "       [1., 0., 0., 1., 0., 0., 1., 1., 0.],\n",
       "       [1., 0., 0., 0., 1., 0., 1., 0., 1.],\n",
       "       [1., 0., 0., 0., 1., 0., 1., 1., 0.],\n",
       "       [1., 0., 0., 1., 0., 1., 0., 0., 1.],\n",
       "       [1., 0., 0., 1., 0., 1., 0., 1., 0.],\n",
       "       [1., 0., 0., 0., 1., 1., 0., 0., 1.],\n",
       "       [1., 0., 0., 0., 1., 1., 0., 1., 0.],\n",
       "       [0., 1., 0., 1., 0., 0., 1., 0., 1.],\n",
       "       [0., 1., 0., 1., 0., 0., 1., 1., 0.],\n",
       "       [0., 1., 0., 0., 1., 0., 1., 0., 1.],\n",
       "       [0., 1., 0., 0., 1., 0., 1., 1., 0.],\n",
       "       [0., 1., 0., 1., 0., 1., 0., 0., 1.],\n",
       "       [0., 1., 0., 1., 0., 1., 0., 1., 0.],\n",
       "       [0., 1., 0., 0., 1., 1., 0., 0., 1.],\n",
       "       [0., 1., 0., 0., 1., 1., 0., 1., 0.]])"
      ]
     },
     "execution_count": 91,
     "metadata": {},
     "output_type": "execute_result"
    }
   ],
   "source": [
    "X"
   ]
  },
  {
   "cell_type": "code",
   "execution_count": 92,
   "metadata": {},
   "outputs": [
    {
     "data": {
      "text/plain": [
       "['age=pre',\n",
       " 'age=presbyopic',\n",
       " 'age=young',\n",
       " 'astigmatic=no',\n",
       " 'astigmatic=yes',\n",
       " 'prescript=hyper',\n",
       " 'prescript=myope',\n",
       " 'tearRate=normal',\n",
       " 'tearRate=reduced']"
      ]
     },
     "execution_count": 92,
     "metadata": {},
     "output_type": "execute_result"
    }
   ],
   "source": [
    "vec.get_feature_names()"
   ]
  },
  {
   "cell_type": "markdown",
   "metadata": {},
   "source": [
    "#### LabelBinarizer "
   ]
  },
  {
   "cell_type": "code",
   "execution_count": 93,
   "metadata": {
    "collapsed": true
   },
   "outputs": [],
   "source": [
    "from sklearn import preprocessing"
   ]
  },
  {
   "cell_type": "code",
   "execution_count": 94,
   "metadata": {},
   "outputs": [
    {
     "data": {
      "text/plain": [
       "array([[0, 1, 0],\n",
       "       [0, 0, 1],\n",
       "       [0, 1, 0],\n",
       "       [1, 0, 0],\n",
       "       [0, 1, 0],\n",
       "       [0, 0, 1],\n",
       "       [0, 1, 0],\n",
       "       [1, 0, 0],\n",
       "       [0, 1, 0],\n",
       "       [0, 0, 1],\n",
       "       [0, 1, 0],\n",
       "       [1, 0, 0],\n",
       "       [0, 1, 0],\n",
       "       [0, 0, 1],\n",
       "       [0, 1, 0],\n",
       "       [0, 1, 0],\n",
       "       [0, 1, 0],\n",
       "       [0, 1, 0],\n",
       "       [0, 1, 0],\n",
       "       [1, 0, 0],\n",
       "       [0, 1, 0],\n",
       "       [0, 0, 1],\n",
       "       [0, 1, 0],\n",
       "       [0, 1, 0]])"
      ]
     },
     "execution_count": 94,
     "metadata": {},
     "output_type": "execute_result"
    }
   ],
   "source": [
    "lb = preprocessing.LabelBinarizer()\n",
    "dummyY = lb.fit_transform(lenses_labels)\n",
    "# print(\"dummyY: \", dummyY)\n",
    "dummyY"
   ]
  },
  {
   "cell_type": "markdown",
   "metadata": {},
   "source": [
    "#### Encoding categorical features \n",
    "\n",
    "see\n",
    "\n",
    "http://scikit-learn.org/stable/modules/preprocessing.html#preprocessing"
   ]
  },
  {
   "cell_type": "code",
   "execution_count": 95,
   "metadata": {
    "collapsed": true
   },
   "outputs": [],
   "source": [
    "lenses_dataset = []\n",
    "lenses_labels=[]\n",
    "with open('lenses.txt', 'r') as f:\n",
    "    for line in f:\n",
    "        row = line.strip().split('\\t')\n",
    "        lenses_dataset.append(row[:-1])\n",
    "        lenses_labels.append(row[-1])"
   ]
  },
  {
   "cell_type": "code",
   "execution_count": 105,
   "metadata": {},
   "outputs": [
    {
     "name": "stdout",
     "output_type": "stream",
     "text": [
      "[['young', 'myope', 'no', 'reduced'],\n",
      " ['young', 'myope', 'no', 'normal'],\n",
      " ['young', 'myope', 'yes', 'reduced'],\n",
      " ['young', 'myope', 'yes', 'normal'],\n",
      " ['young', 'hyper', 'no', 'reduced'],\n",
      " ['young', 'hyper', 'no', 'normal'],\n",
      " ['young', 'hyper', 'yes', 'reduced'],\n",
      " ['young', 'hyper', 'yes', 'normal'],\n",
      " ['pre', 'myope', 'no', 'reduced'],\n",
      " ['pre', 'myope', 'no', 'normal']]\n",
      "['no lenses', 'soft', 'no lenses', 'hard', 'no lenses', 'soft', 'no lenses', 'hard', 'no lenses', 'soft']\n"
     ]
    }
   ],
   "source": [
    "pprint(lenses_dataset[:10])\n",
    "print(lenses_labels[:10])"
   ]
  },
  {
   "cell_type": "code",
   "execution_count": 108,
   "metadata": {},
   "outputs": [
    {
     "data": {
      "text/plain": [
       "OrdinalEncoder(categories='auto', dtype=<class 'numpy.float64'>)"
      ]
     },
     "execution_count": 108,
     "metadata": {},
     "output_type": "execute_result"
    }
   ],
   "source": [
    "from sklearn import preprocessing\n",
    "enc = preprocessing.OrdinalEncoder()\n",
    "enc.fit(lenses_dataset)"
   ]
  },
  {
   "cell_type": "code",
   "execution_count": 110,
   "metadata": {},
   "outputs": [
    {
     "data": {
      "text/plain": [
       "[array(['pre', 'presbyopic', 'young'], dtype=object),\n",
       " array(['hyper', 'myope'], dtype=object),\n",
       " array(['no', 'yes'], dtype=object),\n",
       " array(['normal', 'reduced'], dtype=object)]"
      ]
     },
     "execution_count": 110,
     "metadata": {},
     "output_type": "execute_result"
    }
   ],
   "source": [
    "enc.categories_"
   ]
  },
  {
   "cell_type": "code",
   "execution_count": 114,
   "metadata": {},
   "outputs": [
    {
     "data": {
      "text/plain": [
       "array([[2., 1., 0., 1.],\n",
       "       [2., 1., 0., 0.],\n",
       "       [2., 1., 1., 1.],\n",
       "       [2., 1., 1., 0.],\n",
       "       [2., 0., 0., 1.],\n",
       "       [2., 0., 0., 0.],\n",
       "       [2., 0., 1., 1.],\n",
       "       [2., 0., 1., 0.],\n",
       "       [0., 1., 0., 1.],\n",
       "       [0., 1., 0., 0.]])"
      ]
     },
     "execution_count": 114,
     "metadata": {},
     "output_type": "execute_result"
    }
   ],
   "source": [
    "X = enc.transform(lenses_dataset)\n",
    "X[:10]"
   ]
  },
  {
   "cell_type": "code",
   "execution_count": 116,
   "metadata": {},
   "outputs": [
    {
     "data": {
      "text/plain": [
       "array([['young', 'myope', 'no', 'reduced'],\n",
       "       ['young', 'myope', 'no', 'normal'],\n",
       "       ['young', 'myope', 'yes', 'reduced'],\n",
       "       ['young', 'myope', 'yes', 'normal'],\n",
       "       ['young', 'hyper', 'no', 'reduced'],\n",
       "       ['young', 'hyper', 'no', 'normal'],\n",
       "       ['young', 'hyper', 'yes', 'reduced'],\n",
       "       ['young', 'hyper', 'yes', 'normal'],\n",
       "       ['pre', 'myope', 'no', 'reduced'],\n",
       "       ['pre', 'myope', 'no', 'normal']], dtype=object)"
      ]
     },
     "execution_count": 116,
     "metadata": {},
     "output_type": "execute_result"
    }
   ],
   "source": [
    "enc.inverse_transform(X)[:10]"
   ]
  },
  {
   "cell_type": "code",
   "execution_count": null,
   "metadata": {
    "collapsed": true
   },
   "outputs": [],
   "source": []
  },
  {
   "cell_type": "markdown",
   "metadata": {},
   "source": [
    "#### LabelEncoder see\n",
    "\n",
    "http://scikit-learn.org/stable/modules/generated/sklearn.preprocessing.LabelEncoder.html#sklearn.preprocessing.LabelEncoder\n",
    "\n",
    "http://scikit-learn.org/stable/modules/preprocessing_targets.html#preprocessing-targets"
   ]
  },
  {
   "cell_type": "code",
   "execution_count": 159,
   "metadata": {},
   "outputs": [
    {
     "data": {
      "text/plain": [
       "array(['hard', 'no lenses', 'soft'], dtype='<U9')"
      ]
     },
     "execution_count": 159,
     "metadata": {},
     "output_type": "execute_result"
    }
   ],
   "source": [
    "le = preprocessing.LabelEncoder()\n",
    "le.fit(lenses_labels)\n",
    "le.classes_"
   ]
  },
  {
   "cell_type": "code",
   "execution_count": 160,
   "metadata": {},
   "outputs": [
    {
     "data": {
      "text/plain": [
       "array([1, 2, 1, 0, 1, 2, 1, 0, 1, 2, 1, 0, 1, 2, 1, 1, 1, 1, 1, 0, 1, 2,\n",
       "       1, 1])"
      ]
     },
     "execution_count": 160,
     "metadata": {},
     "output_type": "execute_result"
    }
   ],
   "source": [
    "y = le.transform(lenses_labels)\n",
    "y"
   ]
  },
  {
   "cell_type": "code",
   "execution_count": 161,
   "metadata": {},
   "outputs": [
    {
     "data": {
      "text/plain": [
       "array(['no lenses', 'soft', 'no lenses', 'hard', 'no lenses', 'soft',\n",
       "       'no lenses', 'hard', 'no lenses', 'soft', 'no lenses', 'hard',\n",
       "       'no lenses', 'soft', 'no lenses', 'no lenses', 'no lenses',\n",
       "       'no lenses', 'no lenses', 'hard', 'no lenses', 'soft', 'no lenses',\n",
       "       'no lenses'], dtype='<U9')"
      ]
     },
     "execution_count": 161,
     "metadata": {},
     "output_type": "execute_result"
    }
   ],
   "source": [
    "le.inverse_transform(y)"
   ]
  },
  {
   "cell_type": "markdown",
   "metadata": {},
   "source": [
    "### build tree "
   ]
  },
  {
   "cell_type": "code",
   "execution_count": 179,
   "metadata": {},
   "outputs": [
    {
     "data": {
      "text/plain": [
       "DecisionTreeClassifier(class_weight=None, criterion='gini', max_depth=None,\n",
       "            max_features=None, max_leaf_nodes=None,\n",
       "            min_impurity_decrease=0.0, min_impurity_split=None,\n",
       "            min_samples_leaf=1, min_samples_split=2,\n",
       "            min_weight_fraction_leaf=0.0, presort=False, random_state=None,\n",
       "            splitter='best')"
      ]
     },
     "execution_count": 179,
     "metadata": {},
     "output_type": "execute_result"
    }
   ],
   "source": [
    "from sklearn.tree import DecisionTreeClassifier\n",
    "\n",
    "# clf = DecisionTreeClassifier(criterion='entropy')\n",
    "clf = DecisionTreeClassifier(criterion='gini')\n",
    "clf.fit(X, y)"
   ]
  },
  {
   "cell_type": "code",
   "execution_count": 180,
   "metadata": {},
   "outputs": [],
   "source": [
    "from sklearn.tree import export_graphviz\n",
    "\n",
    "feature_names = ['age', 'prescript', 'astigmatic', 'tearRate']\n",
    "\n",
    "dot_graph = export_graphviz(clf, out_file=None, \n",
    "                class_names=le.classes_, feature_names=feature_names,\n",
    "#                         impurity=False,\n",
    "#                 leaves_parallel=True,\n",
    "             filled=False)"
   ]
  },
  {
   "cell_type": "code",
   "execution_count": 181,
   "metadata": {},
   "outputs": [
    {
     "data": {
      "image/svg+xml": [
       "<?xml version=\"1.0\" encoding=\"UTF-8\" standalone=\"no\"?>\n",
       "<!DOCTYPE svg PUBLIC \"-//W3C//DTD SVG 1.1//EN\"\n",
       " \"http://www.w3.org/Graphics/SVG/1.1/DTD/svg11.dtd\">\n",
       "<!-- Generated by graphviz version 2.40.1 (20161225.0304)\n",
       " -->\n",
       "<!-- Title: Tree Pages: 1 -->\n",
       "<svg width=\"494pt\" height=\"723pt\"\n",
       " viewBox=\"0.00 0.00 493.54 723.20\" xmlns=\"http://www.w3.org/2000/svg\" xmlns:xlink=\"http://www.w3.org/1999/xlink\">\n",
       "<g id=\"graph0\" class=\"graph\" transform=\"scale(1 1) rotate(0) translate(4 719.2)\">\n",
       "<title>Tree</title>\n",
       "<polygon fill=\"#ffffff\" stroke=\"transparent\" points=\"-4,4 -4,-719.2 489.5356,-719.2 489.5356,4 -4,4\"/>\n",
       "<!-- 0 -->\n",
       "<g id=\"node1\" class=\"node\">\n",
       "<title>0</title>\n",
       "<polygon fill=\"none\" stroke=\"#000000\" points=\"363.8044,-715.2 251.7312,-715.2 251.7312,-623.2 363.8044,-623.2 363.8044,-715.2\"/>\n",
       "<text text-anchor=\"middle\" x=\"307.7678\" y=\"-698.6\" font-family=\"Times,serif\" font-size=\"14.00\" fill=\"#000000\">tearRate &lt;= 0.5</text>\n",
       "<text text-anchor=\"middle\" x=\"307.7678\" y=\"-681.8\" font-family=\"Times,serif\" font-size=\"14.00\" fill=\"#000000\">gini = 0.538</text>\n",
       "<text text-anchor=\"middle\" x=\"307.7678\" y=\"-665\" font-family=\"Times,serif\" font-size=\"14.00\" fill=\"#000000\">samples = 24</text>\n",
       "<text text-anchor=\"middle\" x=\"307.7678\" y=\"-648.2\" font-family=\"Times,serif\" font-size=\"14.00\" fill=\"#000000\">value = [4, 15, 5]</text>\n",
       "<text text-anchor=\"middle\" x=\"307.7678\" y=\"-631.4\" font-family=\"Times,serif\" font-size=\"14.00\" fill=\"#000000\">class = no lenses</text>\n",
       "</g>\n",
       "<!-- 1 -->\n",
       "<g id=\"node2\" class=\"node\">\n",
       "<title>1</title>\n",
       "<polygon fill=\"none\" stroke=\"#000000\" points=\"299.5985,-587.2 185.9371,-587.2 185.9371,-495.2 299.5985,-495.2 299.5985,-587.2\"/>\n",
       "<text text-anchor=\"middle\" x=\"242.7678\" y=\"-570.6\" font-family=\"Times,serif\" font-size=\"14.00\" fill=\"#000000\">astigmatic &lt;= 0.5</text>\n",
       "<text text-anchor=\"middle\" x=\"242.7678\" y=\"-553.8\" font-family=\"Times,serif\" font-size=\"14.00\" fill=\"#000000\">gini = 0.653</text>\n",
       "<text text-anchor=\"middle\" x=\"242.7678\" y=\"-537\" font-family=\"Times,serif\" font-size=\"14.00\" fill=\"#000000\">samples = 12</text>\n",
       "<text text-anchor=\"middle\" x=\"242.7678\" y=\"-520.2\" font-family=\"Times,serif\" font-size=\"14.00\" fill=\"#000000\">value = [4, 3, 5]</text>\n",
       "<text text-anchor=\"middle\" x=\"242.7678\" y=\"-503.4\" font-family=\"Times,serif\" font-size=\"14.00\" fill=\"#000000\">class = soft</text>\n",
       "</g>\n",
       "<!-- 0&#45;&gt;1 -->\n",
       "<g id=\"edge1\" class=\"edge\">\n",
       "<title>0&#45;&gt;1</title>\n",
       "<path fill=\"none\" stroke=\"#000000\" d=\"M284.3013,-622.9891C279.9291,-614.3791 275.3199,-605.3026 270.8262,-596.4535\"/>\n",
       "<polygon fill=\"#000000\" stroke=\"#000000\" points=\"273.8484,-594.6746 266.1998,-587.3431 267.607,-597.8441 273.8484,-594.6746\"/>\n",
       "<text text-anchor=\"middle\" x=\"258.4421\" y=\"-606.909\" font-family=\"Times,serif\" font-size=\"14.00\" fill=\"#000000\">True</text>\n",
       "</g>\n",
       "<!-- 14 -->\n",
       "<g id=\"node15\" class=\"node\">\n",
       "<title>14</title>\n",
       "<polygon fill=\"none\" stroke=\"#000000\" points=\"429.8044,-578.9003 317.7312,-578.9003 317.7312,-503.4997 429.8044,-503.4997 429.8044,-578.9003\"/>\n",
       "<text text-anchor=\"middle\" x=\"373.7678\" y=\"-562.2\" font-family=\"Times,serif\" font-size=\"14.00\" fill=\"#000000\">gini = 0.0</text>\n",
       "<text text-anchor=\"middle\" x=\"373.7678\" y=\"-545.4\" font-family=\"Times,serif\" font-size=\"14.00\" fill=\"#000000\">samples = 12</text>\n",
       "<text text-anchor=\"middle\" x=\"373.7678\" y=\"-528.6\" font-family=\"Times,serif\" font-size=\"14.00\" fill=\"#000000\">value = [0, 12, 0]</text>\n",
       "<text text-anchor=\"middle\" x=\"373.7678\" y=\"-511.8\" font-family=\"Times,serif\" font-size=\"14.00\" fill=\"#000000\">class = no lenses</text>\n",
       "</g>\n",
       "<!-- 0&#45;&gt;14 -->\n",
       "<g id=\"edge14\" class=\"edge\">\n",
       "<title>0&#45;&gt;14</title>\n",
       "<path fill=\"none\" stroke=\"#000000\" d=\"M331.5953,-622.9891C337.4806,-611.5752 343.7887,-599.3413 349.686,-587.9042\"/>\n",
       "<polygon fill=\"#000000\" stroke=\"#000000\" points=\"352.8393,-589.4256 354.3115,-578.9335 346.6177,-586.2175 352.8393,-589.4256\"/>\n",
       "<text text-anchor=\"middle\" x=\"361.9219\" y=\"-598.547\" font-family=\"Times,serif\" font-size=\"14.00\" fill=\"#000000\">False</text>\n",
       "</g>\n",
       "<!-- 2 -->\n",
       "<g id=\"node3\" class=\"node\">\n",
       "<title>2</title>\n",
       "<polygon fill=\"none\" stroke=\"#000000\" points=\"231.3044,-459.2 126.2312,-459.2 126.2312,-367.2 231.3044,-367.2 231.3044,-459.2\"/>\n",
       "<text text-anchor=\"middle\" x=\"178.7678\" y=\"-442.6\" font-family=\"Times,serif\" font-size=\"14.00\" fill=\"#000000\">prescript &lt;= 0.5</text>\n",
       "<text text-anchor=\"middle\" x=\"178.7678\" y=\"-425.8\" font-family=\"Times,serif\" font-size=\"14.00\" fill=\"#000000\">gini = 0.278</text>\n",
       "<text text-anchor=\"middle\" x=\"178.7678\" y=\"-409\" font-family=\"Times,serif\" font-size=\"14.00\" fill=\"#000000\">samples = 6</text>\n",
       "<text text-anchor=\"middle\" x=\"178.7678\" y=\"-392.2\" font-family=\"Times,serif\" font-size=\"14.00\" fill=\"#000000\">value = [0, 1, 5]</text>\n",
       "<text text-anchor=\"middle\" x=\"178.7678\" y=\"-375.4\" font-family=\"Times,serif\" font-size=\"14.00\" fill=\"#000000\">class = soft</text>\n",
       "</g>\n",
       "<!-- 1&#45;&gt;2 -->\n",
       "<g id=\"edge2\" class=\"edge\">\n",
       "<title>1&#45;&gt;2</title>\n",
       "<path fill=\"none\" stroke=\"#000000\" d=\"M219.6623,-494.9891C215.3574,-486.3791 210.8191,-477.3026 206.3945,-468.4535\"/>\n",
       "<polygon fill=\"#000000\" stroke=\"#000000\" points=\"209.442,-466.7221 201.8394,-459.3431 203.181,-469.8527 209.442,-466.7221\"/>\n",
       "</g>\n",
       "<!-- 9 -->\n",
       "<g id=\"node10\" class=\"node\">\n",
       "<title>9</title>\n",
       "<polygon fill=\"none\" stroke=\"#000000\" points=\"359.3044,-459.2 254.2312,-459.2 254.2312,-367.2 359.3044,-367.2 359.3044,-459.2\"/>\n",
       "<text text-anchor=\"middle\" x=\"306.7678\" y=\"-442.6\" font-family=\"Times,serif\" font-size=\"14.00\" fill=\"#000000\">prescript &lt;= 0.5</text>\n",
       "<text text-anchor=\"middle\" x=\"306.7678\" y=\"-425.8\" font-family=\"Times,serif\" font-size=\"14.00\" fill=\"#000000\">gini = 0.444</text>\n",
       "<text text-anchor=\"middle\" x=\"306.7678\" y=\"-409\" font-family=\"Times,serif\" font-size=\"14.00\" fill=\"#000000\">samples = 6</text>\n",
       "<text text-anchor=\"middle\" x=\"306.7678\" y=\"-392.2\" font-family=\"Times,serif\" font-size=\"14.00\" fill=\"#000000\">value = [4, 2, 0]</text>\n",
       "<text text-anchor=\"middle\" x=\"306.7678\" y=\"-375.4\" font-family=\"Times,serif\" font-size=\"14.00\" fill=\"#000000\">class = hard</text>\n",
       "</g>\n",
       "<!-- 1&#45;&gt;9 -->\n",
       "<g id=\"edge9\" class=\"edge\">\n",
       "<title>1&#45;&gt;9</title>\n",
       "<path fill=\"none\" stroke=\"#000000\" d=\"M265.8733,-494.9891C270.1782,-486.3791 274.7165,-477.3026 279.1411,-468.4535\"/>\n",
       "<polygon fill=\"#000000\" stroke=\"#000000\" points=\"282.3546,-469.8527 283.6962,-459.3431 276.0936,-466.7221 282.3546,-469.8527\"/>\n",
       "</g>\n",
       "<!-- 3 -->\n",
       "<g id=\"node4\" class=\"node\">\n",
       "<title>3</title>\n",
       "<polygon fill=\"none\" stroke=\"#000000\" points=\"107.3044,-322.9003 2.2312,-322.9003 2.2312,-247.4997 107.3044,-247.4997 107.3044,-322.9003\"/>\n",
       "<text text-anchor=\"middle\" x=\"54.7678\" y=\"-306.2\" font-family=\"Times,serif\" font-size=\"14.00\" fill=\"#000000\">gini = 0.0</text>\n",
       "<text text-anchor=\"middle\" x=\"54.7678\" y=\"-289.4\" font-family=\"Times,serif\" font-size=\"14.00\" fill=\"#000000\">samples = 3</text>\n",
       "<text text-anchor=\"middle\" x=\"54.7678\" y=\"-272.6\" font-family=\"Times,serif\" font-size=\"14.00\" fill=\"#000000\">value = [0, 0, 3]</text>\n",
       "<text text-anchor=\"middle\" x=\"54.7678\" y=\"-255.8\" font-family=\"Times,serif\" font-size=\"14.00\" fill=\"#000000\">class = soft</text>\n",
       "</g>\n",
       "<!-- 2&#45;&gt;3 -->\n",
       "<g id=\"edge3\" class=\"edge\">\n",
       "<title>2&#45;&gt;3</title>\n",
       "<path fill=\"none\" stroke=\"#000000\" d=\"M134.001,-366.9891C122.3964,-355.0101 109.9168,-342.128 98.3728,-330.2116\"/>\n",
       "<polygon fill=\"#000000\" stroke=\"#000000\" points=\"100.794,-327.6806 91.3221,-322.9335 95.7663,-332.5512 100.794,-327.6806\"/>\n",
       "</g>\n",
       "<!-- 4 -->\n",
       "<g id=\"node5\" class=\"node\">\n",
       "<title>4</title>\n",
       "<polygon fill=\"none\" stroke=\"#000000\" points=\"231.3044,-331.2 126.2312,-331.2 126.2312,-239.2 231.3044,-239.2 231.3044,-331.2\"/>\n",
       "<text text-anchor=\"middle\" x=\"178.7678\" y=\"-314.6\" font-family=\"Times,serif\" font-size=\"14.00\" fill=\"#000000\">age &lt;= 0.5</text>\n",
       "<text text-anchor=\"middle\" x=\"178.7678\" y=\"-297.8\" font-family=\"Times,serif\" font-size=\"14.00\" fill=\"#000000\">gini = 0.444</text>\n",
       "<text text-anchor=\"middle\" x=\"178.7678\" y=\"-281\" font-family=\"Times,serif\" font-size=\"14.00\" fill=\"#000000\">samples = 3</text>\n",
       "<text text-anchor=\"middle\" x=\"178.7678\" y=\"-264.2\" font-family=\"Times,serif\" font-size=\"14.00\" fill=\"#000000\">value = [0, 1, 2]</text>\n",
       "<text text-anchor=\"middle\" x=\"178.7678\" y=\"-247.4\" font-family=\"Times,serif\" font-size=\"14.00\" fill=\"#000000\">class = soft</text>\n",
       "</g>\n",
       "<!-- 2&#45;&gt;4 -->\n",
       "<g id=\"edge4\" class=\"edge\">\n",
       "<title>2&#45;&gt;4</title>\n",
       "<path fill=\"none\" stroke=\"#000000\" d=\"M178.7678,-366.9891C178.7678,-358.7417 178.7678,-350.0661 178.7678,-341.5724\"/>\n",
       "<polygon fill=\"#000000\" stroke=\"#000000\" points=\"182.2679,-341.3431 178.7678,-331.3431 175.2679,-341.3431 182.2679,-341.3431\"/>\n",
       "</g>\n",
       "<!-- 5 -->\n",
       "<g id=\"node6\" class=\"node\">\n",
       "<title>5</title>\n",
       "<polygon fill=\"none\" stroke=\"#000000\" points=\"105.3044,-194.9003 .2312,-194.9003 .2312,-119.4997 105.3044,-119.4997 105.3044,-194.9003\"/>\n",
       "<text text-anchor=\"middle\" x=\"52.7678\" y=\"-178.2\" font-family=\"Times,serif\" font-size=\"14.00\" fill=\"#000000\">gini = 0.0</text>\n",
       "<text text-anchor=\"middle\" x=\"52.7678\" y=\"-161.4\" font-family=\"Times,serif\" font-size=\"14.00\" fill=\"#000000\">samples = 1</text>\n",
       "<text text-anchor=\"middle\" x=\"52.7678\" y=\"-144.6\" font-family=\"Times,serif\" font-size=\"14.00\" fill=\"#000000\">value = [0, 0, 1]</text>\n",
       "<text text-anchor=\"middle\" x=\"52.7678\" y=\"-127.8\" font-family=\"Times,serif\" font-size=\"14.00\" fill=\"#000000\">class = soft</text>\n",
       "</g>\n",
       "<!-- 4&#45;&gt;5 -->\n",
       "<g id=\"edge5\" class=\"edge\">\n",
       "<title>4&#45;&gt;5</title>\n",
       "<path fill=\"none\" stroke=\"#000000\" d=\"M133.2789,-238.9891C121.4872,-227.0101 108.8063,-214.128 97.0761,-202.2116\"/>\n",
       "<polygon fill=\"#000000\" stroke=\"#000000\" points=\"99.4212,-199.6047 89.9117,-194.9335 94.4326,-204.5154 99.4212,-199.6047\"/>\n",
       "</g>\n",
       "<!-- 6 -->\n",
       "<g id=\"node7\" class=\"node\">\n",
       "<title>6</title>\n",
       "<polygon fill=\"none\" stroke=\"#000000\" points=\"233.5806,-203.2 123.955,-203.2 123.955,-111.2 233.5806,-111.2 233.5806,-203.2\"/>\n",
       "<text text-anchor=\"middle\" x=\"178.7678\" y=\"-186.6\" font-family=\"Times,serif\" font-size=\"14.00\" fill=\"#000000\">age &lt;= 1.5</text>\n",
       "<text text-anchor=\"middle\" x=\"178.7678\" y=\"-169.8\" font-family=\"Times,serif\" font-size=\"14.00\" fill=\"#000000\">gini = 0.5</text>\n",
       "<text text-anchor=\"middle\" x=\"178.7678\" y=\"-153\" font-family=\"Times,serif\" font-size=\"14.00\" fill=\"#000000\">samples = 2</text>\n",
       "<text text-anchor=\"middle\" x=\"178.7678\" y=\"-136.2\" font-family=\"Times,serif\" font-size=\"14.00\" fill=\"#000000\">value = [0, 1, 1]</text>\n",
       "<text text-anchor=\"middle\" x=\"178.7678\" y=\"-119.4\" font-family=\"Times,serif\" font-size=\"14.00\" fill=\"#000000\">class = no lenses</text>\n",
       "</g>\n",
       "<!-- 4&#45;&gt;6 -->\n",
       "<g id=\"edge6\" class=\"edge\">\n",
       "<title>4&#45;&gt;6</title>\n",
       "<path fill=\"none\" stroke=\"#000000\" d=\"M178.7678,-238.9891C178.7678,-230.7417 178.7678,-222.0661 178.7678,-213.5724\"/>\n",
       "<polygon fill=\"#000000\" stroke=\"#000000\" points=\"182.2679,-213.3431 178.7678,-203.3431 175.2679,-213.3431 182.2679,-213.3431\"/>\n",
       "</g>\n",
       "<!-- 7 -->\n",
       "<g id=\"node8\" class=\"node\">\n",
       "<title>7</title>\n",
       "<polygon fill=\"none\" stroke=\"#000000\" points=\"170.5806,-75.3003 60.955,-75.3003 60.955,.1003 170.5806,.1003 170.5806,-75.3003\"/>\n",
       "<text text-anchor=\"middle\" x=\"115.7678\" y=\"-58.6\" font-family=\"Times,serif\" font-size=\"14.00\" fill=\"#000000\">gini = 0.0</text>\n",
       "<text text-anchor=\"middle\" x=\"115.7678\" y=\"-41.8\" font-family=\"Times,serif\" font-size=\"14.00\" fill=\"#000000\">samples = 1</text>\n",
       "<text text-anchor=\"middle\" x=\"115.7678\" y=\"-25\" font-family=\"Times,serif\" font-size=\"14.00\" fill=\"#000000\">value = [0, 1, 0]</text>\n",
       "<text text-anchor=\"middle\" x=\"115.7678\" y=\"-8.2\" font-family=\"Times,serif\" font-size=\"14.00\" fill=\"#000000\">class = no lenses</text>\n",
       "</g>\n",
       "<!-- 6&#45;&gt;7 -->\n",
       "<g id=\"edge7\" class=\"edge\">\n",
       "<title>6&#45;&gt;7</title>\n",
       "<path fill=\"none\" stroke=\"#000000\" d=\"M154.4104,-110.9595C149.7846,-102.178 144.942,-92.9846 140.3105,-84.1922\"/>\n",
       "<polygon fill=\"#000000\" stroke=\"#000000\" points=\"143.3357,-82.4252 135.5785,-75.2088 137.1424,-85.6876 143.3357,-82.4252\"/>\n",
       "</g>\n",
       "<!-- 8 -->\n",
       "<g id=\"node9\" class=\"node\">\n",
       "<title>8</title>\n",
       "<polygon fill=\"none\" stroke=\"#000000\" points=\"294.3044,-75.3003 189.2312,-75.3003 189.2312,.1003 294.3044,.1003 294.3044,-75.3003\"/>\n",
       "<text text-anchor=\"middle\" x=\"241.7678\" y=\"-58.6\" font-family=\"Times,serif\" font-size=\"14.00\" fill=\"#000000\">gini = 0.0</text>\n",
       "<text text-anchor=\"middle\" x=\"241.7678\" y=\"-41.8\" font-family=\"Times,serif\" font-size=\"14.00\" fill=\"#000000\">samples = 1</text>\n",
       "<text text-anchor=\"middle\" x=\"241.7678\" y=\"-25\" font-family=\"Times,serif\" font-size=\"14.00\" fill=\"#000000\">value = [0, 0, 1]</text>\n",
       "<text text-anchor=\"middle\" x=\"241.7678\" y=\"-8.2\" font-family=\"Times,serif\" font-size=\"14.00\" fill=\"#000000\">class = soft</text>\n",
       "</g>\n",
       "<!-- 6&#45;&gt;8 -->\n",
       "<g id=\"edge8\" class=\"edge\">\n",
       "<title>6&#45;&gt;8</title>\n",
       "<path fill=\"none\" stroke=\"#000000\" d=\"M203.1252,-110.9595C207.751,-102.178 212.5936,-92.9846 217.2251,-84.1922\"/>\n",
       "<polygon fill=\"#000000\" stroke=\"#000000\" points=\"220.3932,-85.6876 221.9571,-75.2088 214.1999,-82.4252 220.3932,-85.6876\"/>\n",
       "</g>\n",
       "<!-- 10 -->\n",
       "<g id=\"node11\" class=\"node\">\n",
       "<title>10</title>\n",
       "<polygon fill=\"none\" stroke=\"#000000\" points=\"361.5806,-331.2 251.955,-331.2 251.955,-239.2 361.5806,-239.2 361.5806,-331.2\"/>\n",
       "<text text-anchor=\"middle\" x=\"306.7678\" y=\"-314.6\" font-family=\"Times,serif\" font-size=\"14.00\" fill=\"#000000\">age &lt;= 1.5</text>\n",
       "<text text-anchor=\"middle\" x=\"306.7678\" y=\"-297.8\" font-family=\"Times,serif\" font-size=\"14.00\" fill=\"#000000\">gini = 0.444</text>\n",
       "<text text-anchor=\"middle\" x=\"306.7678\" y=\"-281\" font-family=\"Times,serif\" font-size=\"14.00\" fill=\"#000000\">samples = 3</text>\n",
       "<text text-anchor=\"middle\" x=\"306.7678\" y=\"-264.2\" font-family=\"Times,serif\" font-size=\"14.00\" fill=\"#000000\">value = [1, 2, 0]</text>\n",
       "<text text-anchor=\"middle\" x=\"306.7678\" y=\"-247.4\" font-family=\"Times,serif\" font-size=\"14.00\" fill=\"#000000\">class = no lenses</text>\n",
       "</g>\n",
       "<!-- 9&#45;&gt;10 -->\n",
       "<g id=\"edge10\" class=\"edge\">\n",
       "<title>9&#45;&gt;10</title>\n",
       "<path fill=\"none\" stroke=\"#000000\" d=\"M306.7678,-366.9891C306.7678,-358.7417 306.7678,-350.0661 306.7678,-341.5724\"/>\n",
       "<polygon fill=\"#000000\" stroke=\"#000000\" points=\"310.2679,-341.3431 306.7678,-331.3431 303.2679,-341.3431 310.2679,-341.3431\"/>\n",
       "</g>\n",
       "<!-- 13 -->\n",
       "<g id=\"node14\" class=\"node\">\n",
       "<title>13</title>\n",
       "<polygon fill=\"none\" stroke=\"#000000\" points=\"485.3044,-322.9003 380.2312,-322.9003 380.2312,-247.4997 485.3044,-247.4997 485.3044,-322.9003\"/>\n",
       "<text text-anchor=\"middle\" x=\"432.7678\" y=\"-306.2\" font-family=\"Times,serif\" font-size=\"14.00\" fill=\"#000000\">gini = 0.0</text>\n",
       "<text text-anchor=\"middle\" x=\"432.7678\" y=\"-289.4\" font-family=\"Times,serif\" font-size=\"14.00\" fill=\"#000000\">samples = 3</text>\n",
       "<text text-anchor=\"middle\" x=\"432.7678\" y=\"-272.6\" font-family=\"Times,serif\" font-size=\"14.00\" fill=\"#000000\">value = [3, 0, 0]</text>\n",
       "<text text-anchor=\"middle\" x=\"432.7678\" y=\"-255.8\" font-family=\"Times,serif\" font-size=\"14.00\" fill=\"#000000\">class = hard</text>\n",
       "</g>\n",
       "<!-- 9&#45;&gt;13 -->\n",
       "<g id=\"edge13\" class=\"edge\">\n",
       "<title>9&#45;&gt;13</title>\n",
       "<path fill=\"none\" stroke=\"#000000\" d=\"M352.2567,-366.9891C364.0484,-355.0101 376.7293,-342.128 388.4595,-330.2116\"/>\n",
       "<polygon fill=\"#000000\" stroke=\"#000000\" points=\"391.103,-332.5154 395.6239,-322.9335 386.1144,-327.6047 391.103,-332.5154\"/>\n",
       "</g>\n",
       "<!-- 11 -->\n",
       "<g id=\"node12\" class=\"node\">\n",
       "<title>11</title>\n",
       "<polygon fill=\"none\" stroke=\"#000000\" points=\"361.5806,-194.9003 251.955,-194.9003 251.955,-119.4997 361.5806,-119.4997 361.5806,-194.9003\"/>\n",
       "<text text-anchor=\"middle\" x=\"306.7678\" y=\"-178.2\" font-family=\"Times,serif\" font-size=\"14.00\" fill=\"#000000\">gini = 0.0</text>\n",
       "<text text-anchor=\"middle\" x=\"306.7678\" y=\"-161.4\" font-family=\"Times,serif\" font-size=\"14.00\" fill=\"#000000\">samples = 2</text>\n",
       "<text text-anchor=\"middle\" x=\"306.7678\" y=\"-144.6\" font-family=\"Times,serif\" font-size=\"14.00\" fill=\"#000000\">value = [0, 2, 0]</text>\n",
       "<text text-anchor=\"middle\" x=\"306.7678\" y=\"-127.8\" font-family=\"Times,serif\" font-size=\"14.00\" fill=\"#000000\">class = no lenses</text>\n",
       "</g>\n",
       "<!-- 10&#45;&gt;11 -->\n",
       "<g id=\"edge11\" class=\"edge\">\n",
       "<title>10&#45;&gt;11</title>\n",
       "<path fill=\"none\" stroke=\"#000000\" d=\"M306.7678,-238.9891C306.7678,-228.0272 306.7678,-216.309 306.7678,-205.2667\"/>\n",
       "<polygon fill=\"#000000\" stroke=\"#000000\" points=\"310.2679,-204.9335 306.7678,-194.9335 303.2679,-204.9335 310.2679,-204.9335\"/>\n",
       "</g>\n",
       "<!-- 12 -->\n",
       "<g id=\"node13\" class=\"node\">\n",
       "<title>12</title>\n",
       "<polygon fill=\"none\" stroke=\"#000000\" points=\"485.3044,-194.9003 380.2312,-194.9003 380.2312,-119.4997 485.3044,-119.4997 485.3044,-194.9003\"/>\n",
       "<text text-anchor=\"middle\" x=\"432.7678\" y=\"-178.2\" font-family=\"Times,serif\" font-size=\"14.00\" fill=\"#000000\">gini = 0.0</text>\n",
       "<text text-anchor=\"middle\" x=\"432.7678\" y=\"-161.4\" font-family=\"Times,serif\" font-size=\"14.00\" fill=\"#000000\">samples = 1</text>\n",
       "<text text-anchor=\"middle\" x=\"432.7678\" y=\"-144.6\" font-family=\"Times,serif\" font-size=\"14.00\" fill=\"#000000\">value = [1, 0, 0]</text>\n",
       "<text text-anchor=\"middle\" x=\"432.7678\" y=\"-127.8\" font-family=\"Times,serif\" font-size=\"14.00\" fill=\"#000000\">class = hard</text>\n",
       "</g>\n",
       "<!-- 10&#45;&gt;12 -->\n",
       "<g id=\"edge12\" class=\"edge\">\n",
       "<title>10&#45;&gt;12</title>\n",
       "<path fill=\"none\" stroke=\"#000000\" d=\"M352.2567,-238.9891C364.0484,-227.0101 376.7293,-214.128 388.4595,-202.2116\"/>\n",
       "<polygon fill=\"#000000\" stroke=\"#000000\" points=\"391.103,-204.5154 395.6239,-194.9335 386.1144,-199.6047 391.103,-204.5154\"/>\n",
       "</g>\n",
       "</g>\n",
       "</svg>\n"
      ],
      "text/plain": [
       "<graphviz.files.Source at 0x1a16c9c208>"
      ]
     },
     "execution_count": 181,
     "metadata": {},
     "output_type": "execute_result"
    }
   ],
   "source": [
    "import graphviz\n",
    "\n",
    "graph = graphviz.Source(dot_graph)\n",
    "graph"
   ]
  },
  {
   "cell_type": "code",
   "execution_count": 182,
   "metadata": {},
   "outputs": [
    {
     "name": "stdout",
     "output_type": "stream",
     "text": [
      "(24, 4)\n",
      "(24,)\n",
      "(24, 1)\n"
     ]
    },
    {
     "data": {
      "text/plain": [
       "array([['2.0', '1.0', '0.0', '1.0', 'no lenses'],\n",
       "       ['2.0', '1.0', '0.0', '0.0', 'soft'],\n",
       "       ['2.0', '1.0', '1.0', '1.0', 'no lenses'],\n",
       "       ['2.0', '1.0', '1.0', '0.0', 'hard'],\n",
       "       ['2.0', '0.0', '0.0', '1.0', 'no lenses'],\n",
       "       ['2.0', '0.0', '0.0', '0.0', 'soft'],\n",
       "       ['2.0', '0.0', '1.0', '1.0', 'no lenses'],\n",
       "       ['2.0', '0.0', '1.0', '0.0', 'hard'],\n",
       "       ['0.0', '1.0', '0.0', '1.0', 'no lenses'],\n",
       "       ['0.0', '1.0', '0.0', '0.0', 'soft'],\n",
       "       ['0.0', '1.0', '1.0', '1.0', 'no lenses'],\n",
       "       ['0.0', '1.0', '1.0', '0.0', 'hard'],\n",
       "       ['0.0', '0.0', '0.0', '1.0', 'no lenses'],\n",
       "       ['0.0', '0.0', '0.0', '0.0', 'soft'],\n",
       "       ['0.0', '0.0', '1.0', '1.0', 'no lenses'],\n",
       "       ['0.0', '0.0', '1.0', '0.0', 'no lenses'],\n",
       "       ['1.0', '1.0', '0.0', '1.0', 'no lenses'],\n",
       "       ['1.0', '1.0', '0.0', '0.0', 'no lenses'],\n",
       "       ['1.0', '1.0', '1.0', '1.0', 'no lenses'],\n",
       "       ['1.0', '1.0', '1.0', '0.0', 'hard'],\n",
       "       ['1.0', '0.0', '0.0', '1.0', 'no lenses'],\n",
       "       ['1.0', '0.0', '0.0', '0.0', 'soft'],\n",
       "       ['1.0', '0.0', '1.0', '1.0', 'no lenses'],\n",
       "       ['1.0', '0.0', '1.0', '0.0', 'no lenses']], dtype='<U32')"
      ]
     },
     "execution_count": 182,
     "metadata": {},
     "output_type": "execute_result"
    }
   ],
   "source": [
    "print(X.shape)\n",
    "# y =y.reshape(24,1)\n",
    "# y_ = y[:, np.newaxis]\n",
    "y_label = le.inverse_transform(y)[:, np.newaxis]\n",
    "print(y.shape)\n",
    "# print(y_.shape)\n",
    "print(y_label.shape)\n",
    "np.concatenate((X, y_label), axis=1)"
   ]
  },
  {
   "cell_type": "markdown",
   "metadata": {
    "collapsed": true
   },
   "source": []
  },
  {
   "cell_type": "code",
   "execution_count": 183,
   "metadata": {},
   "outputs": [
    {
     "data": {
      "text/plain": [
       "1.0"
      ]
     },
     "execution_count": 183,
     "metadata": {},
     "output_type": "execute_result"
    }
   ],
   "source": [
    "clf.score(X, y)"
   ]
  },
  {
   "cell_type": "code",
   "execution_count": 184,
   "metadata": {},
   "outputs": [
    {
     "data": {
      "text/plain": [
       "0.9583333333333334"
      ]
     },
     "execution_count": 184,
     "metadata": {},
     "output_type": "execute_result"
    }
   ],
   "source": [
    "clf = DecisionTreeClassifier(criterion='gini', max_depth=4)\n",
    "clf.fit(X, y)\n",
    "clf.score(X, y)"
   ]
  },
  {
   "cell_type": "code",
   "execution_count": null,
   "metadata": {
    "collapsed": true
   },
   "outputs": [],
   "source": []
  }
 ],
 "metadata": {
  "kernelspec": {
   "display_name": "Python 3",
   "language": "python",
   "name": "python3"
  },
  "language_info": {
   "codemirror_mode": {
    "name": "ipython",
    "version": 3
   },
   "file_extension": ".py",
   "mimetype": "text/x-python",
   "name": "python",
   "nbconvert_exporter": "python",
   "pygments_lexer": "ipython3",
   "version": "3.6.3"
  }
 },
 "nbformat": 4,
 "nbformat_minor": 2
}
