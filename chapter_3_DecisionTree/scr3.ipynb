{
 "cells": [
  {
   "cell_type": "code",
   "execution_count": 1,
   "metadata": {
    "collapsed": true
   },
   "outputs": [],
   "source": [
    "from collections import defaultdict\n",
    "import numpy as np"
   ]
  },
  {
   "cell_type": "code",
   "execution_count": 2,
   "metadata": {
    "collapsed": true
   },
   "outputs": [],
   "source": [
    "def createDataSet():\n",
    "    dataSet = [[1, 1, 'yes'],\n",
    "               [1, 1, 'yes'],\n",
    "               [1, 0, 'no'],\n",
    "               [0, 1, 'no'],\n",
    "               [0, 1, 'no']]\n",
    "    labels = ['no surfacing', 'flippers'] \n",
    "    # this labels is the attribute name label,\n",
    "    # class label is the last element in each sample point\n",
    "    return dataSet, labels"
   ]
  },
  {
   "cell_type": "code",
   "execution_count": 3,
   "metadata": {
    "collapsed": true
   },
   "outputs": [],
   "source": [
    "def calcShannonEnt(dataSet):\n",
    "    total_sample = len(dataSet)\n",
    "    label_cnt = defaultdict(int)\n",
    "    H = 0 # shannonEnt\n",
    "    for sample in dataSet:\n",
    "        label_cnt[sample[-1]] += 1\n",
    "    for label, cnt in label_cnt.items():\n",
    "        prob = float(cnt) / total_sample\n",
    "        H -= prob * np.log2(prob)\n",
    "#         print(prob)\n",
    "#     print(total_sample)\n",
    "#     print(label_cnt)\n",
    "    return H\n"
   ]
  },
  {
   "cell_type": "code",
   "execution_count": 4,
   "metadata": {},
   "outputs": [
    {
     "data": {
      "text/plain": [
       "0.9709505944546686"
      ]
     },
     "execution_count": 4,
     "metadata": {},
     "output_type": "execute_result"
    }
   ],
   "source": [
    "dataSet, labels = createDataSet()\n",
    "calcShannonEnt(dataSet)\n",
    "# -(np.log2(0.6)*0.6+np.log2(0.4)*0.4)"
   ]
  },
  {
   "cell_type": "markdown",
   "metadata": {},
   "source": [
    "The higher the entropy, the more mixed up the data is."
   ]
  },
  {
   "cell_type": "code",
   "execution_count": 5,
   "metadata": {},
   "outputs": [
    {
     "data": {
      "text/plain": [
       "1.3709505944546687"
      ]
     },
     "execution_count": 5,
     "metadata": {},
     "output_type": "execute_result"
    }
   ],
   "source": [
    "dataSet[0][-1] = 'maybe'\n",
    "calcShannonEnt(dataSet)"
   ]
  },
  {
   "cell_type": "markdown",
   "metadata": {},
   "source": [
    "Splitting the datset"
   ]
  },
  {
   "cell_type": "code",
   "execution_count": 6,
   "metadata": {
    "collapsed": true
   },
   "outputs": [],
   "source": [
    "def splitDatsSet(dataSet, axis, value):\n",
    "    retDataSet = []\n",
    "    for featVec in dataSet:\n",
    "        if featVec[axis] == value:\n",
    "            retDataSet.append(featVec[:axis] + featVec[axis+1:])\n",
    "    return retDataSet"
   ]
  },
  {
   "cell_type": "code",
   "execution_count": 7,
   "metadata": {},
   "outputs": [
    {
     "data": {
      "text/plain": [
       "[[1, 'maybe'], [1, 'yes'], [0, 'no']]"
      ]
     },
     "execution_count": 7,
     "metadata": {},
     "output_type": "execute_result"
    }
   ],
   "source": [
    "splitDatsSet(dataSet, 0, 1)"
   ]
  },
  {
   "cell_type": "markdown",
   "metadata": {},
   "source": [
    "ps:test on set"
   ]
  },
  {
   "cell_type": "code",
   "execution_count": 8,
   "metadata": {},
   "outputs": [
    {
     "name": "stdout",
     "output_type": "stream",
     "text": [
      "{1, 2, 3}\n"
     ]
    },
    {
     "data": {
      "text/plain": [
       "True"
      ]
     },
     "execution_count": 8,
     "metadata": {},
     "output_type": "execute_result"
    }
   ],
   "source": [
    "s = set([1,2,3,2,1,1])\n",
    "print(s)\n",
    "2 in s"
   ]
  },
  {
   "cell_type": "markdown",
   "metadata": {},
   "source": [
    "choosing the best feature to split on"
   ]
  },
  {
   "cell_type": "markdown",
   "metadata": {},
   "source": [
    "$$ Info(D)=-\\sum_{i=1}^{m}p_{i}\\log_{2}(p_i) $$"
   ]
  },
  {
   "cell_type": "markdown",
   "metadata": {},
   "source": [
    "用属性A将D划分为v个子集后，信息度量\n",
    "$$ Info_{A}(D)=\\sum_{j=1}^{v}\\frac{\\left | D_{j} \\right |}{\\left | D \\right |}\\times Info(D_{j}) $$"
   ]
  },
  {
   "cell_type": "code",
   "execution_count": 9,
   "metadata": {
    "collapsed": true
   },
   "outputs": [],
   "source": [
    "def chooseBestFeatureToSplit(dataSet):\n",
    "    baseEntropy = calcShannonEnt(dataSet)\n",
    "#     print('base entropy ', baseEntropy)\n",
    "    featVecLen = len(dataSet[0]) - 1\n",
    "    info_gain = 0\n",
    "    best_feature_index = -1\n",
    "    for i in range(featVecLen):\n",
    "        featureColumn = [d[i] for d in dataSet]\n",
    "#         print(featureColumn)\n",
    "        unique_feature = set(featureColumn)\n",
    "#         print(unique_feature)\n",
    "        splitEntropy = 0\n",
    "        for feature in unique_feature:   # for a1,a2,...,av\n",
    "            subset = splitDatsSet(dataSet, i, feature)\n",
    "            splitEntropy += float(len(subset))/len(dataSet)*calcShannonEnt(subset)\n",
    "#         print('split entropy', splitEntropy)\n",
    "        split_info_gain = baseEntropy - splitEntropy\n",
    "#         print(split_info_gain)\n",
    "        if split_info_gain > info_gain:\n",
    "            info_gain = split_info_gain\n",
    "            best_feature_index = i\n",
    "    return best_feature_index, info_gain"
   ]
  },
  {
   "cell_type": "code",
   "execution_count": 10,
   "metadata": {},
   "outputs": [
    {
     "data": {
      "text/plain": [
       "(0, 0.41997309402197514)"
      ]
     },
     "execution_count": 10,
     "metadata": {},
     "output_type": "execute_result"
    }
   ],
   "source": [
    "chooseBestFeatureToSplit(dataSet)"
   ]
  },
  {
   "cell_type": "markdown",
   "metadata": {
    "collapsed": true
   },
   "source": [
    "### majority vote function"
   ]
  },
  {
   "cell_type": "code",
   "execution_count": 11,
   "metadata": {
    "collapsed": true
   },
   "outputs": [],
   "source": [
    "def majority_vote(class_list):\n",
    "    class_cnt = defaultdict(int)\n",
    "    for c in class_list:\n",
    "        class_cnt[c] += 1\n",
    "    vote = sorted(class_cnt.items(), key=lambda p:p[1], reverse=True)\n",
    "#     print(vote)\n",
    "    return vote[0][0]"
   ]
  },
  {
   "cell_type": "code",
   "execution_count": 12,
   "metadata": {},
   "outputs": [
    {
     "data": {
      "text/plain": [
       "1"
      ]
     },
     "execution_count": 12,
     "metadata": {},
     "output_type": "execute_result"
    }
   ],
   "source": [
    "d = [1,2,2,5,1,1]\n",
    "majority_vote(d)"
   ]
  },
  {
   "cell_type": "markdown",
   "metadata": {},
   "source": [
    "### recursively build the tree "
   ]
  },
  {
   "cell_type": "code",
   "execution_count": 13,
   "metadata": {},
   "outputs": [
    {
     "name": "stdout",
     "output_type": "stream",
     "text": [
      "0.0\n"
     ]
    },
    {
     "data": {
      "text/plain": [
       "True"
      ]
     },
     "execution_count": 13,
     "metadata": {},
     "output_type": "execute_result"
    }
   ],
   "source": [
    "# test\n",
    "dataset =[['tall','classA'],['tall','classB']]\n",
    "dataset =[['tall','classA'],['tall','classA']]\n",
    "print(calcShannonEnt(dataset))\n",
    "abs(calcShannonEnt(dataset) - 0) < 1e-6"
   ]
  },
  {
   "cell_type": "markdown",
   "metadata": {},
   "source": [
    "#### my version "
   ]
  },
  {
   "cell_type": "code",
   "execution_count": 14,
   "metadata": {
    "collapsed": true
   },
   "outputs": [],
   "source": [
    "class BaseNode:\n",
    "    def __init__(self, child):\n",
    "        self.child = child\n",
    "    def add_child(self, value, node):\n",
    "        self.child[value] = node\n",
    "    def __iter__(self):\n",
    "        return iter(self.child)\n",
    "    def depth_first(self):\n",
    "        yield 'decision node split axis: {}'.format(self.feature_axis)\n",
    "        for c_value, c_node in self.child.items():\n",
    "            yield from c_node.depth_first()\n",
    "        \n",
    "class LeafNode(BaseNode):\n",
    "    def __init__(self, class_label):\n",
    "        super().__init__(None) \n",
    "        self.class_label = class_label\n",
    "    def depth_first(self):\n",
    "        yield 'leaf node class: {}'.format(self.class_label)\n",
    "    \n",
    "class DecisionNode(BaseNode):\n",
    "    def __init__(self, feature_axis, child):\n",
    "        super().__init__(child)\n",
    "        print('node info', id(self), id(self.child))\n",
    "        self.feature_axis = feature_axis\n",
    "    "
   ]
  },
  {
   "cell_type": "code",
   "execution_count": 15,
   "metadata": {
    "collapsed": true
   },
   "outputs": [],
   "source": [
    "\n",
    "def build_decision_tree(dataset, d):\n",
    "#     if d >= 2: return None\n",
    "    print(dataset)\n",
    "    features_num = len(dataset[0]) - 1\n",
    "    # run out of features or all sample in node's dataset belong to the same class\n",
    " \n",
    "    if features_num == 0 or abs(calcShannonEnt(dataset) - 0) < 1e-6:  # add leaf node\n",
    "        voted_class = majority_vote([sample[-1] for sample in dataset])\n",
    "#         print(voted_class)\n",
    "        node = LeafNode(voted_class)\n",
    "        print(4*d*' ' + 'ln node id', id(node))\n",
    "#         print('ln node', id(node))\n",
    "        return node\n",
    "#         parent_node.add_child(LeafNode(voted_class))\n",
    "    else: # add decison node\n",
    "        split_feature_axis, _ = chooseBestFeatureToSplit(dataset)\n",
    "        unique_feature_set = set([sample[split_feature_axis] for sample in dataset])\n",
    "        cur_node = DecisionNode(split_feature_axis, child={})\n",
    "        print(4*d*' ' + 'dc node', id(cur_node))\n",
    "#         print(unique_feature_set)\n",
    "        for i, value in enumerate(unique_feature_set):\n",
    "            subset = splitDatsSet(dataset, split_feature_axis, value) \n",
    "            child_node = build_decision_tree(subset, d+1)\n",
    "            print(4*d*' ' + 'parent {}, {} {} child id {} {}'.format(id(cur_node), i,value, id(child_node), subset))\n",
    "#             cur_node.child[value] = child_node\n",
    "            cur_node.add_child(value, child_node)\n",
    "            print(4*d*' ' + '{}'.format(id(cur_node.child[value])))\n",
    "        return cur_node"
   ]
  },
  {
   "cell_type": "code",
   "execution_count": 16,
   "metadata": {},
   "outputs": [
    {
     "name": "stdout",
     "output_type": "stream",
     "text": [
      "[[1, 1, 'maybe'], [1, 1, 'yes'], [1, 0, 'no'], [0, 1, 'no'], [0, 1, 'no']]\n",
      "node info 4389704816 4389742200\n",
      "dc node 4389704816\n",
      "[[1, 'no'], [1, 'no']]\n",
      "    ln node id 4389705432\n",
      "parent 4389704816, 0 0 child id 4389705432 [[1, 'no'], [1, 'no']]\n",
      "4389705432\n",
      "[[1, 'maybe'], [1, 'yes'], [0, 'no']]\n",
      "node info 4389706104 4389742560\n",
      "    dc node 4389706104\n",
      "[['no']]\n",
      "        ln node id 4389706832\n",
      "    parent 4389706104, 0 0 child id 4389706832 [['no']]\n",
      "    4389706832\n",
      "[['maybe'], ['yes']]\n",
      "        ln node id 4389707392\n",
      "    parent 4389706104, 1 1 child id 4389707392 [['maybe'], ['yes']]\n",
      "    4389707392\n",
      "parent 4389704816, 1 1 child id 4389706104 [[1, 'maybe'], [1, 'yes'], [0, 'no']]\n",
      "4389706104\n"
     ]
    }
   ],
   "source": [
    "# print(dataSet)\n",
    "# root = DecisionNode(dataSet, None, None, None)\n",
    "\n",
    "root = build_decision_tree(dataSet, d=0)"
   ]
  },
  {
   "cell_type": "code",
   "execution_count": 17,
   "metadata": {},
   "outputs": [
    {
     "name": "stdout",
     "output_type": "stream",
     "text": [
      "4389704816\n",
      "{0: <__main__.LeafNode object at 0x105a596d8>, 1: <__main__.DecisionNode object at 0x105a59978>} 4389705432 4389706104\n",
      "4389706104\n"
     ]
    }
   ],
   "source": [
    "\n",
    "\n",
    "print(id(root))\n",
    "# print(id(root.child)\n",
    "print(root.child, id(root.child[0]), id(root.child[1]))\n",
    "print(id(root.child[1]))\n",
    "# print(id(root.child[1].child[0]))\n",
    "# print(root.child[1].child)\n",
    "\n"
   ]
  },
  {
   "cell_type": "code",
   "execution_count": 18,
   "metadata": {},
   "outputs": [
    {
     "name": "stdout",
     "output_type": "stream",
     "text": [
      "<__main__.DecisionNode object at 0x105a59470>\n",
      "{0: <__main__.LeafNode object at 0x105a596d8>, 1: <__main__.DecisionNode object at 0x105a59978>}\n",
      "{0: <__main__.LeafNode object at 0x105a59c50>, 1: <__main__.LeafNode object at 0x105a59e80>}\n"
     ]
    }
   ],
   "source": [
    "print(root)\n",
    "print(root.child)\n",
    "print(root.child[1].child)"
   ]
  },
  {
   "cell_type": "markdown",
   "metadata": {},
   "source": [
    "#### 发现一个很严重，很需要注意的问题，构造函数中的默认参数在实例之间共享 ；不建议用[], {} 等对象做默认实参，尤其是后续会修改的话"
   ]
  },
  {
   "cell_type": "code",
   "execution_count": 19,
   "metadata": {},
   "outputs": [
    {
     "name": "stdout",
     "output_type": "stream",
     "text": [
      "info:  4389783648 4389694272\n",
      "info:  4389782808 4389694272\n"
     ]
    }
   ],
   "source": [
    "class D:\n",
    "    def __init__(self, d = {}):\n",
    "        self.d = d\n",
    "        print('info: ', id(self), id(self.d))\n",
    "\n",
    "d1 = D()\n",
    "d2 = D()\n",
    "# 两个id 一样"
   ]
  },
  {
   "cell_type": "code",
   "execution_count": 20,
   "metadata": {},
   "outputs": [
    {
     "name": "stdout",
     "output_type": "stream",
     "text": [
      "info:  4389583504 4389528416\n",
      "info:  4389584064 4389722584\n"
     ]
    }
   ],
   "source": [
    "class D:\n",
    "    def __init__(self, d):\n",
    "        self.d = d\n",
    "        print('info: ', id(self), id(self.d))\n",
    "\n",
    "d1 = D({})\n",
    "d2 = D({})\n",
    "# 这样两个id就不一样"
   ]
  },
  {
   "cell_type": "markdown",
   "metadata": {},
   "source": [
    "### 遍历decision tree "
   ]
  },
  {
   "cell_type": "code",
   "execution_count": 21,
   "metadata": {},
   "outputs": [
    {
     "name": "stdout",
     "output_type": "stream",
     "text": [
      "decision node split axis: 0\n",
      "leaf node class: no\n",
      "decision node split axis: 0\n",
      "leaf node class: no\n",
      "leaf node class: maybe\n"
     ]
    }
   ],
   "source": [
    "for n in root.depth_first():\n",
    "    print(n)"
   ]
  },
  {
   "cell_type": "markdown",
   "metadata": {},
   "source": [
    "### code in book "
   ]
  },
  {
   "cell_type": "code",
   "execution_count": 22,
   "metadata": {
    "collapsed": true
   },
   "outputs": [],
   "source": [
    "def createTree(dataset, labels):\n",
    "    labels = labels[:]\n",
    "    class_list = [sample[-1] for sample in dataset]\n",
    "    if class_list.count(class_list[0]) == len(class_list):\n",
    "        return class_list[0]\n",
    "    if len(dataset[0]) == 1:\n",
    "        return majority_vote(class_list)\n",
    "    best_feat, _ = chooseBestFeatureToSplit(dataset)\n",
    "    best_feat_label = labels[best_feat]\n",
    "#     print(best_feat, best_feat_label)\n",
    "    myTree = {best_feat_label: {}}\n",
    "    del(labels[best_feat])\n",
    "    feat_values = [sample[best_feat] for sample in dataset]\n",
    "    unique_vals = set(feat_values)\n",
    "    for feat in unique_vals:\n",
    "        sub_dataset = splitDatsSet(dataset, best_feat, feat)\n",
    "        myTree[best_feat_label][feat] = createTree(sub_dataset, labels)\n",
    "    return myTree"
   ]
  },
  {
   "cell_type": "code",
   "execution_count": 23,
   "metadata": {},
   "outputs": [
    {
     "data": {
      "text/plain": [
       "{'no surfacing': {0: 'no', 1: {'flippers': {0: 'no', 1: 'yes'}}}}"
      ]
     },
     "execution_count": 23,
     "metadata": {},
     "output_type": "execute_result"
    }
   ],
   "source": [
    "dataset, labels = createDataSet()\n",
    "myTree = createTree(dataset, labels[:])\n",
    "myTree"
   ]
  },
  {
   "cell_type": "code",
   "execution_count": 24,
   "metadata": {},
   "outputs": [
    {
     "name": "stdout",
     "output_type": "stream",
     "text": [
      "['no surfacing', 'flippers']\n"
     ]
    }
   ],
   "source": [
    "print(labels)"
   ]
  },
  {
   "cell_type": "markdown",
   "metadata": {},
   "source": [
    "### plotting tree nodes "
   ]
  },
  {
   "cell_type": "code",
   "execution_count": 25,
   "metadata": {
    "collapsed": true
   },
   "outputs": [],
   "source": [
    "import matplotlib.pyplot as plt\n",
    "\n",
    "decisionNode = dict(boxstyle=\"sawtooth\", fc=\"0.8\")\n",
    "leafNode = dict(boxstyle=\"round4\", fc=\"0.8\")\n",
    "arrow_args = dict(arrowstyle=\"<-\")\n",
    "\n",
    "def plotNode(nodeTxt, centerPt, parentPt, nodeType):\n",
    "    createPlot.ax1.annotate(nodeTxt, xy=parentPt,xycoords='axes fraction',\n",
    "    xytext=centerPt, textcoords='axes fraction',\n",
    "    va=\"center\", ha=\"center\", bbox=nodeType, arrowprops=arrow_args)\n",
    "    \n",
    "def createPlot():\n",
    "    fig = plt.figure(1, facecolor='white')\n",
    "    fig.clf()\n",
    "    createPlot.ax1 = plt.subplot(111, frameon=False)\n",
    "    plotNode('a decision node', (0.5, 0.1), (0.1, 0.5), decisionNode)\n",
    "    plotNode('a leaf node', (0.8, 0.1), (0.3, 0.8), leafNode)\n",
    "    plt.show()"
   ]
  },
  {
   "cell_type": "code",
   "execution_count": 26,
   "metadata": {},
   "outputs": [
    {
     "data": {
      "image/png": "[encoded data removed]",
      "text/plain": [
       "<matplotlib.figure.Figure at 0x105a30ef0>"
      ]
     },
     "metadata": {},
     "output_type": "display_data"
    }
   ],
   "source": [
    "createPlot()"
   ]
  },
  {
   "cell_type": "code",
   "execution_count": 27,
   "metadata": {
    "collapsed": true
   },
   "outputs": [],
   "source": [
    "def getNumLeafs(myTree):\n",
    "    numLeafs = 0\n",
    "    firstStr = list(myTree.keys())[0]\n",
    "    secondDict = myTree[firstStr]\n",
    "#     _, secondDict = next(iter(myTree.items()))\n",
    "    for key in secondDict.keys():\n",
    "        if type(secondDict[key]).__name__=='dict':\n",
    "            numLeafs += getNumLeafs(secondDict[key])\n",
    "        else:   numLeafs +=1\n",
    "    return numLeafs\n",
    "\n",
    "def getTreeDepth(myTree):\n",
    "    maxDepth = 0\n",
    "    firstStr = list(myTree.keys())[0]\n",
    "    secondDict = myTree[firstStr]\n",
    "#     _, secondDict = next(iter(myTree.items()))\n",
    "    for key in secondDict.keys():\n",
    "        if type(secondDict[key]).__name__=='dict':\n",
    "            thisDepth = 1 + getTreeDepth(secondDict[key])\n",
    "        else:   thisDepth = 1\n",
    "        if thisDepth > maxDepth: maxDepth = thisDepth\n",
    "    return maxDepth"
   ]
  },
  {
   "cell_type": "code",
   "execution_count": 28,
   "metadata": {},
   "outputs": [
    {
     "name": "stdout",
     "output_type": "stream",
     "text": [
      "{'no surfacing': {0: 'no', 1: {'flippers': {0: 'no', 1: 'yes'}}}}\n"
     ]
    },
    {
     "data": {
      "text/plain": [
       "2"
      ]
     },
     "execution_count": 28,
     "metadata": {},
     "output_type": "execute_result"
    }
   ],
   "source": [
    "print(myTree)\n",
    "getTreeDepth(myTree)"
   ]
  },
  {
   "cell_type": "code",
   "execution_count": 29,
   "metadata": {},
   "outputs": [
    {
     "data": {
      "text/plain": [
       "3"
      ]
     },
     "execution_count": 29,
     "metadata": {},
     "output_type": "execute_result"
    }
   ],
   "source": [
    "getNumLeafs(myTree)"
   ]
  },
  {
   "cell_type": "code",
   "execution_count": 30,
   "metadata": {
    "collapsed": true
   },
   "outputs": [],
   "source": [
    "def retrieveTree(i):\n",
    "    listOfTrees =[{'no surfacing': {0: 'no', 1: {'flippers': \\\n",
    "                    {0: 'no', 1: 'yes'}}}},\n",
    "                  {'no surfacing': {0: 'no', 1: {'flippers': \\\n",
    "                    {0: {'head': {0: 'no', 1: 'yes'}}, 1: 'no'}}}}\n",
    "                  ]\n",
    "    return listOfTrees[i]"
   ]
  },
  {
   "cell_type": "code",
   "execution_count": 31,
   "metadata": {
    "collapsed": true
   },
   "outputs": [],
   "source": [
    "def plotMidText(cntrPt, parentPt, txtString):\n",
    "    xMid = (parentPt[0]-cntrPt[0])/2.0 + cntrPt[0]\n",
    "    yMid = (parentPt[1]-cntrPt[1])/2.0 + cntrPt[1]\n",
    "    createPlot.ax1.text(xMid, yMid, txtString)\n",
    "    \n",
    "def plotTree(myTree, parentPt, nodeTxt):\n",
    "    numLeafs = getNumLeafs(myTree)\n",
    "    getTreeDepth(myTree)\n",
    "    firstStr = list(myTree.keys())[0]\n",
    "    cntrPt = (plotTree.xOff + (1.0 + float(numLeafs))/2.0/plotTree.totalW, plotTree.yOff)\n",
    "    plotMidText(cntrPt, parentPt, nodeTxt)\n",
    "    plotNode(firstStr, cntrPt, parentPt, decisionNode)\n",
    "    secondDict = myTree[firstStr]\n",
    "    plotTree.yOff = plotTree.yOff - 1.0/plotTree.totalD\n",
    "    for key in secondDict.keys():\n",
    "        if type(secondDict[key]).__name__=='dict':\n",
    "            plotTree(secondDict[key],cntrPt,str(key))\n",
    "        else:\n",
    "            plotTree.xOff = plotTree.xOff + 1.0/plotTree.totalW\n",
    "            plotNode(secondDict[key], (plotTree.xOff, plotTree.yOff),\n",
    "                cntrPt, leafNode)\n",
    "            plotMidText((plotTree.xOff, plotTree.yOff), cntrPt, str(key))\n",
    "    plotTree.yOff = plotTree.yOff + 1.0/plotTree.totalD\n",
    "    \n",
    "def createPlot(inTree):\n",
    "    fig = plt.figure(1, facecolor='white')\n",
    "    fig.clf()\n",
    "    axprops = dict(xticks=[], yticks=[])\n",
    "    createPlot.ax1 = plt.subplot(111, frameon=False, **axprops)\n",
    "    plotTree.totalW = float(getNumLeafs(inTree))\n",
    "    plotTree.totalD = float(getTreeDepth(inTree))\n",
    "    plotTree.xOff = -0.5/plotTree.totalW; plotTree.yOff = 1.0; plotTree(inTree, (0.5,1.0), '')\n",
    "    plt.show()"
   ]
  },
  {
   "cell_type": "code",
   "execution_count": 32,
   "metadata": {},
   "outputs": [
    {
     "data": {
      "image/png": "[encoded data removed]",
      "text/plain": [
       "<matplotlib.figure.Figure at 0x106a065f8>"
      ]
     },
     "metadata": {},
     "output_type": "display_data"
    }
   ],
   "source": [
    "myTree=retrieveTree(0)\n",
    "createPlot(myTree)"
   ]
  },
  {
   "cell_type": "markdown",
   "metadata": {},
   "source": [
    "### Lenses decision tree "
   ]
  },
  {
   "cell_type": "code",
   "execution_count": 33,
   "metadata": {},
   "outputs": [
    {
     "name": "stdout",
     "output_type": "stream",
     "text": [
      "[['young', 'myope', 'no', 'reduced', 'no lenses'],\n",
      " ['young', 'myope', 'no', 'normal', 'soft'],\n",
      " ['young', 'myope', 'yes', 'reduced', 'no lenses'],\n",
      " ['young', 'myope', 'yes', 'normal', 'hard'],\n",
      " ['young', 'hyper', 'no', 'reduced', 'no lenses'],\n",
      " ['young', 'hyper', 'no', 'normal', 'soft'],\n",
      " ['young', 'hyper', 'yes', 'reduced', 'no lenses'],\n",
      " ['young', 'hyper', 'yes', 'normal', 'hard'],\n",
      " ['pre', 'myope', 'no', 'reduced', 'no lenses'],\n",
      " ['pre', 'myope', 'no', 'normal', 'soft'],\n",
      " ['pre', 'myope', 'yes', 'reduced', 'no lenses'],\n",
      " ['pre', 'myope', 'yes', 'normal', 'hard'],\n",
      " ['pre', 'hyper', 'no', 'reduced', 'no lenses'],\n",
      " ['pre', 'hyper', 'no', 'normal', 'soft'],\n",
      " ['pre', 'hyper', 'yes', 'reduced', 'no lenses'],\n",
      " ['pre', 'hyper', 'yes', 'normal', 'no lenses'],\n",
      " ['presbyopic', 'myope', 'no', 'reduced', 'no lenses'],\n",
      " ['presbyopic', 'myope', 'no', 'normal', 'no lenses'],\n",
      " ['presbyopic', 'myope', 'yes', 'reduced', 'no lenses'],\n",
      " ['presbyopic', 'myope', 'yes', 'normal', 'hard'],\n",
      " ['presbyopic', 'hyper', 'no', 'reduced', 'no lenses'],\n",
      " ['presbyopic', 'hyper', 'no', 'normal', 'soft'],\n",
      " ['presbyopic', 'hyper', 'yes', 'reduced', 'no lenses'],\n",
      " ['presbyopic', 'hyper', 'yes', 'normal', 'no lenses']]\n",
      "['age', 'prescript', 'astigmatic', 'tearRate']\n"
     ]
    }
   ],
   "source": [
    "from pprint import pprint\n",
    "with open('lenses.txt', 'r') as f:\n",
    "#     for line in f:\n",
    "#         print(line.strip().split('\\t'))\n",
    "    lenses_dataset = [line.strip().split('\\t') for line in f.readlines()]\n",
    "lenses_labels = ['age', 'prescript', 'astigmatic', 'tearRate']\n",
    "\n",
    "pprint(lenses_dataset)\n",
    "print(lenses_labels)"
   ]
  },
  {
   "cell_type": "code",
   "execution_count": 34,
   "metadata": {},
   "outputs": [
    {
     "name": "stdout",
     "output_type": "stream",
     "text": [
      "{'tearRate': {'normal': {'astigmatic': {'no': {'age': {'pre': 'soft',\n",
      "                                                       'presbyopic': {'prescript': {'hyper': 'soft',\n",
      "                                                                                    'myope': 'no '\n",
      "                                                                                             'lenses'}},\n",
      "                                                       'young': 'soft'}},\n",
      "                                        'yes': {'prescript': {'hyper': {'age': {'pre': 'no '\n",
      "                                                                                       'lenses',\n",
      "                                                                                'presbyopic': 'no '\n",
      "                                                                                              'lenses',\n",
      "                                                                                'young': 'hard'}},\n",
      "                                                              'myope': 'hard'}}}},\n",
      "              'reduced': 'no lenses'}}\n"
     ]
    }
   ],
   "source": [
    "lenses_tree = createTree(lenses_dataset, lenses_labels)\n",
    "pprint(lenses_tree)"
   ]
  },
  {
   "cell_type": "code",
   "execution_count": 35,
   "metadata": {},
   "outputs": [
    {
     "data": {
      "image/png": "[encoded data removed]",
      "text/plain": [
       "<matplotlib.figure.Figure at 0x106bed080>"
      ]
     },
     "metadata": {},
     "output_type": "display_data"
    }
   ],
   "source": [
    "createPlot(lenses_tree)"
   ]
  },
  {
   "cell_type": "markdown",
   "metadata": {
    "collapsed": true
   },
   "source": [
    "### using sklearn\n",
    "参考：https://blog.csdn.net/zhyh1435589631/article/details/53869803/\n",
    "https://blog.csdn.net/qq_36847641/article/details/78279309\n",
    "http://scikit-learn.org/stable/modules/generated/sklearn.feature_extraction.DictVectorizer.html"
   ]
  },
  {
   "cell_type": "code",
   "execution_count": 67,
   "metadata": {},
   "outputs": [
    {
     "name": "stdout",
     "output_type": "stream",
     "text": [
      "[{'age': 'young',\n",
      "  'astigmatic': 'no',\n",
      "  'prescript': 'myope',\n",
      "  'tearRate': 'reduced'},\n",
      " {'age': 'young',\n",
      "  'astigmatic': 'no',\n",
      "  'prescript': 'myope',\n",
      "  'tearRate': 'normal'},\n",
      " {'age': 'young',\n",
      "  'astigmatic': 'yes',\n",
      "  'prescript': 'myope',\n",
      "  'tearRate': 'reduced'},\n",
      " {'age': 'young',\n",
      "  'astigmatic': 'yes',\n",
      "  'prescript': 'myope',\n",
      "  'tearRate': 'normal'},\n",
      " {'age': 'young',\n",
      "  'astigmatic': 'no',\n",
      "  'prescript': 'hyper',\n",
      "  'tearRate': 'reduced'},\n",
      " {'age': 'young',\n",
      "  'astigmatic': 'no',\n",
      "  'prescript': 'hyper',\n",
      "  'tearRate': 'normal'},\n",
      " {'age': 'young',\n",
      "  'astigmatic': 'yes',\n",
      "  'prescript': 'hyper',\n",
      "  'tearRate': 'reduced'},\n",
      " {'age': 'young',\n",
      "  'astigmatic': 'yes',\n",
      "  'prescript': 'hyper',\n",
      "  'tearRate': 'normal'},\n",
      " {'age': 'pre',\n",
      "  'astigmatic': 'no',\n",
      "  'prescript': 'myope',\n",
      "  'tearRate': 'reduced'},\n",
      " {'age': 'pre', 'astigmatic': 'no', 'prescript': 'myope', 'tearRate': 'normal'},\n",
      " {'age': 'pre',\n",
      "  'astigmatic': 'yes',\n",
      "  'prescript': 'myope',\n",
      "  'tearRate': 'reduced'},\n",
      " {'age': 'pre',\n",
      "  'astigmatic': 'yes',\n",
      "  'prescript': 'myope',\n",
      "  'tearRate': 'normal'},\n",
      " {'age': 'pre',\n",
      "  'astigmatic': 'no',\n",
      "  'prescript': 'hyper',\n",
      "  'tearRate': 'reduced'},\n",
      " {'age': 'pre', 'astigmatic': 'no', 'prescript': 'hyper', 'tearRate': 'normal'},\n",
      " {'age': 'pre',\n",
      "  'astigmatic': 'yes',\n",
      "  'prescript': 'hyper',\n",
      "  'tearRate': 'reduced'},\n",
      " {'age': 'pre',\n",
      "  'astigmatic': 'yes',\n",
      "  'prescript': 'hyper',\n",
      "  'tearRate': 'normal'},\n",
      " {'age': 'presbyopic',\n",
      "  'astigmatic': 'no',\n",
      "  'prescript': 'myope',\n",
      "  'tearRate': 'reduced'},\n",
      " {'age': 'presbyopic',\n",
      "  'astigmatic': 'no',\n",
      "  'prescript': 'myope',\n",
      "  'tearRate': 'normal'},\n",
      " {'age': 'presbyopic',\n",
      "  'astigmatic': 'yes',\n",
      "  'prescript': 'myope',\n",
      "  'tearRate': 'reduced'},\n",
      " {'age': 'presbyopic',\n",
      "  'astigmatic': 'yes',\n",
      "  'prescript': 'myope',\n",
      "  'tearRate': 'normal'},\n",
      " {'age': 'presbyopic',\n",
      "  'astigmatic': 'no',\n",
      "  'prescript': 'hyper',\n",
      "  'tearRate': 'reduced'},\n",
      " {'age': 'presbyopic',\n",
      "  'astigmatic': 'no',\n",
      "  'prescript': 'hyper',\n",
      "  'tearRate': 'normal'},\n",
      " {'age': 'presbyopic',\n",
      "  'astigmatic': 'yes',\n",
      "  'prescript': 'hyper',\n",
      "  'tearRate': 'reduced'},\n",
      " {'age': 'presbyopic',\n",
      "  'astigmatic': 'yes',\n",
      "  'prescript': 'hyper',\n",
      "  'tearRate': 'normal'}]\n",
      "['no lenses',\n",
      " 'soft',\n",
      " 'no lenses',\n",
      " 'hard',\n",
      " 'no lenses',\n",
      " 'soft',\n",
      " 'no lenses',\n",
      " 'hard',\n",
      " 'no lenses',\n",
      " 'soft',\n",
      " 'no lenses',\n",
      " 'hard',\n",
      " 'no lenses',\n",
      " 'soft',\n",
      " 'no lenses',\n",
      " 'no lenses',\n",
      " 'no lenses',\n",
      " 'no lenses',\n",
      " 'no lenses',\n",
      " 'hard',\n",
      " 'no lenses',\n",
      " 'soft',\n",
      " 'no lenses',\n",
      " 'no lenses']\n"
     ]
    }
   ],
   "source": [
    "lenses_tag = ['age', 'prescript', 'astigmatic', 'tearRate']\n",
    "lenses_dataset = []\n",
    "lenses_labels = []\n",
    "with open('lenses.txt', 'r') as f:\n",
    "    for line in f:\n",
    "#         print(line.strip().split('\\t'))\n",
    "        row = line.strip().split('\\t')\n",
    "        row_dict = {}\n",
    "        for i, feat in enumerate(row[:-1]):\n",
    "            row_dict[lenses_tag[i]] = feat\n",
    "        lenses_dataset.append(row_dict)\n",
    "        lenses_labels.append(row[-1])\n",
    "#     lenses_dataset = [line.strip().split('\\t') for line in f.readlines()]\n",
    "\n",
    "pprint(lenses_dataset)\n",
    "pprint(lenses_labels)"
   ]
  },
  {
   "cell_type": "code",
   "execution_count": 49,
   "metadata": {},
   "outputs": [
    {
     "data": {
      "text/plain": [
       "24"
      ]
     },
     "execution_count": 49,
     "metadata": {},
     "output_type": "execute_result"
    }
   ],
   "source": [
    "len(lenses_dataset)"
   ]
  },
  {
   "cell_type": "code",
   "execution_count": 45,
   "metadata": {},
   "outputs": [
    {
     "data": {
      "text/plain": [
       "['no lenses',\n",
       " 'soft',\n",
       " 'no lenses',\n",
       " 'hard',\n",
       " 'no lenses',\n",
       " 'soft',\n",
       " 'no lenses',\n",
       " 'hard',\n",
       " 'no lenses',\n",
       " 'soft',\n",
       " 'no lenses',\n",
       " 'hard',\n",
       " 'no lenses',\n",
       " 'soft',\n",
       " 'no lenses',\n",
       " 'no lenses',\n",
       " 'no lenses',\n",
       " 'no lenses',\n",
       " 'no lenses',\n",
       " 'hard',\n",
       " 'no lenses',\n",
       " 'soft',\n",
       " 'no lenses',\n",
       " 'no lenses']"
      ]
     },
     "execution_count": 45,
     "metadata": {},
     "output_type": "execute_result"
    }
   ],
   "source": [
    "lenses_labels"
   ]
  },
  {
   "cell_type": "code",
   "execution_count": 46,
   "metadata": {
    "collapsed": true
   },
   "outputs": [],
   "source": [
    "from sklearn.feature_extraction import DictVectorizer"
   ]
  },
  {
   "cell_type": "code",
   "execution_count": 47,
   "metadata": {
    "collapsed": true
   },
   "outputs": [],
   "source": [
    "vec = DictVectorizer()\n",
    "dummyX = vec.fit_transform(lenses_dataset).toarray()"
   ]
  },
  {
   "cell_type": "code",
   "execution_count": 48,
   "metadata": {},
   "outputs": [
    {
     "data": {
      "text/plain": [
       "array([[0., 0., 1., 1., 0., 0., 1., 0., 1.],\n",
       "       [0., 0., 1., 1., 0., 0., 1., 1., 0.],\n",
       "       [0., 0., 1., 0., 1., 0., 1., 0., 1.],\n",
       "       [0., 0., 1., 0., 1., 0., 1., 1., 0.],\n",
       "       [0., 0., 1., 1., 0., 1., 0., 0., 1.],\n",
       "       [0., 0., 1., 1., 0., 1., 0., 1., 0.],\n",
       "       [0., 0., 1., 0., 1., 1., 0., 0., 1.],\n",
       "       [0., 0., 1., 0., 1., 1., 0., 1., 0.],\n",
       "       [1., 0., 0., 1., 0., 0., 1., 0., 1.],\n",
       "       [1., 0., 0., 1., 0., 0., 1., 1., 0.],\n",
       "       [1., 0., 0., 0., 1., 0., 1., 0., 1.],\n",
       "       [1., 0., 0., 0., 1., 0., 1., 1., 0.],\n",
       "       [1., 0., 0., 1., 0., 1., 0., 0., 1.],\n",
       "       [1., 0., 0., 1., 0., 1., 0., 1., 0.],\n",
       "       [1., 0., 0., 0., 1., 1., 0., 0., 1.],\n",
       "       [1., 0., 0., 0., 1., 1., 0., 1., 0.],\n",
       "       [0., 1., 0., 1., 0., 0., 1., 0., 1.],\n",
       "       [0., 1., 0., 1., 0., 0., 1., 1., 0.],\n",
       "       [0., 1., 0., 0., 1., 0., 1., 0., 1.],\n",
       "       [0., 1., 0., 0., 1., 0., 1., 1., 0.],\n",
       "       [0., 1., 0., 1., 0., 1., 0., 0., 1.],\n",
       "       [0., 1., 0., 1., 0., 1., 0., 1., 0.],\n",
       "       [0., 1., 0., 0., 1., 1., 0., 0., 1.],\n",
       "       [0., 1., 0., 0., 1., 1., 0., 1., 0.]])"
      ]
     },
     "execution_count": 48,
     "metadata": {},
     "output_type": "execute_result"
    }
   ],
   "source": [
    "dummyX"
   ]
  },
  {
   "cell_type": "code",
   "execution_count": 50,
   "metadata": {},
   "outputs": [
    {
     "data": {
      "text/plain": [
       "['age=pre',\n",
       " 'age=presbyopic',\n",
       " 'age=young',\n",
       " 'astigmatic=no',\n",
       " 'astigmatic=yes',\n",
       " 'prescript=hyper',\n",
       " 'prescript=myope',\n",
       " 'tearRate=normal',\n",
       " 'tearRate=reduced']"
      ]
     },
     "execution_count": 50,
     "metadata": {},
     "output_type": "execute_result"
    }
   ],
   "source": [
    "vec.get_feature_names()"
   ]
  },
  {
   "cell_type": "code",
   "execution_count": 51,
   "metadata": {
    "collapsed": true
   },
   "outputs": [],
   "source": [
    "from sklearn import preprocessing"
   ]
  },
  {
   "cell_type": "code",
   "execution_count": 54,
   "metadata": {},
   "outputs": [
    {
     "data": {
      "text/plain": [
       "array([[0, 1, 0],\n",
       "       [0, 0, 1],\n",
       "       [0, 1, 0],\n",
       "       [1, 0, 0],\n",
       "       [0, 1, 0],\n",
       "       [0, 0, 1],\n",
       "       [0, 1, 0],\n",
       "       [1, 0, 0],\n",
       "       [0, 1, 0],\n",
       "       [0, 0, 1],\n",
       "       [0, 1, 0],\n",
       "       [1, 0, 0],\n",
       "       [0, 1, 0],\n",
       "       [0, 0, 1],\n",
       "       [0, 1, 0],\n",
       "       [0, 1, 0],\n",
       "       [0, 1, 0],\n",
       "       [0, 1, 0],\n",
       "       [0, 1, 0],\n",
       "       [1, 0, 0],\n",
       "       [0, 1, 0],\n",
       "       [0, 0, 1],\n",
       "       [0, 1, 0],\n",
       "       [0, 1, 0]])"
      ]
     },
     "execution_count": 54,
     "metadata": {},
     "output_type": "execute_result"
    }
   ],
   "source": [
    "lb = preprocessing.LabelBinarizer()\n",
    "dummyY = lb.fit_transform(lenses_labels)\n",
    "# print(\"dummyY: \", dummyY)\n",
    "dummyY"
   ]
  },
  {
   "cell_type": "code",
   "execution_count": 64,
   "metadata": {},
   "outputs": [
    {
     "name": "stdout",
     "output_type": "stream",
     "text": [
      "clf:  DecisionTreeClassifier(class_weight=None, criterion='gini', max_depth=None,\n",
      "            max_features=None, max_leaf_nodes=None,\n",
      "            min_impurity_decrease=0.0, min_impurity_split=None,\n",
      "            min_samples_leaf=1, min_samples_split=2,\n",
      "            min_weight_fraction_leaf=0.0, presort=False, random_state=None,\n",
      "            splitter='best')\n"
     ]
    }
   ],
   "source": [
    "from sklearn.tree import DecisionTreeClassifier\n",
    "\n",
    "# clf = DecisionTreeClassifier(criterion='entropy')\n",
    "clf = DecisionTreeClassifier(criterion='gini')\n",
    "clf = clf.fit(dummyX, dummyY)\n",
    "print(\"clf: \", str(clf))\n"
   ]
  },
  {
   "cell_type": "code",
   "execution_count": 72,
   "metadata": {
    "collapsed": true
   },
   "outputs": [],
   "source": [
    "from sklearn.tree import export_graphviz\n",
    "export_graphviz(clf, out_file=\"tree.dot\", \n",
    "                class_names=['hard', 'no lenses', 'soft'], feature_names=vec.get_feature_names(),\n",
    "                impurity=False, filled=True)"
   ]
  },
  {
   "cell_type": "code",
   "execution_count": 73,
   "metadata": {},
   "outputs": [
    {
     "data": {
      "image/svg+xml": [
       "<?xml version=\"1.0\" encoding=\"UTF-8\" standalone=\"no\"?>\n",
       "<!DOCTYPE svg PUBLIC \"-//W3C//DTD SVG 1.1//EN\"\n",
       " \"http://www.w3.org/Graphics/SVG/1.1/DTD/svg11.dtd\">\n",
       "<!-- Generated by graphviz version 2.40.1 (20161225.0304)\n",
       " -->\n",
       "<!-- Title: Tree Pages: 1 -->\n",
       "<svg width=\"625pt\" height=\"595pt\"\n",
       " viewBox=\"0.00 0.00 625.20 595.20\" xmlns=\"http://www.w3.org/2000/svg\" xmlns:xlink=\"http://www.w3.org/1999/xlink\">\n",
       "<g id=\"graph0\" class=\"graph\" transform=\"scale(1 1) rotate(0) translate(4 591.2)\">\n",
       "<title>Tree</title>\n",
       "<polygon fill=\"#ffffff\" stroke=\"transparent\" points=\"-4,4 -4,-591.2 621.1962,-591.2 621.1962,4 -4,4\"/>\n",
       "<!-- 0 -->\n",
       "<g id=\"node1\" class=\"node\">\n",
       "<title>0</title>\n",
       "<polygon fill=\"#e58139\" fill-opacity=\"0.176471\" stroke=\"#000000\" points=\"445.7232,-587.2 290.473,-587.2 290.473,-495.2 445.7232,-495.2 445.7232,-587.2\"/>\n",
       "<text text-anchor=\"middle\" x=\"368.0981\" y=\"-570.6\" font-family=\"Times,serif\" font-size=\"14.00\" fill=\"#000000\">tearRate=reduced &lt;= 0.5</text>\n",
       "<text text-anchor=\"middle\" x=\"368.0981\" y=\"-553.8\" font-family=\"Times,serif\" font-size=\"14.00\" fill=\"#000000\">samples = 24</text>\n",
       "<text text-anchor=\"middle\" x=\"368.0981\" y=\"-537\" font-family=\"Times,serif\" font-size=\"14.00\" fill=\"#000000\">value = [[20, 4]</text>\n",
       "<text text-anchor=\"middle\" x=\"368.0981\" y=\"-520.2\" font-family=\"Times,serif\" font-size=\"14.00\" fill=\"#000000\">[9, 15]</text>\n",
       "<text text-anchor=\"middle\" x=\"368.0981\" y=\"-503.4\" font-family=\"Times,serif\" font-size=\"14.00\" fill=\"#000000\">[19, 5]]</text>\n",
       "</g>\n",
       "<!-- 1 -->\n",
       "<g id=\"node2\" class=\"node\">\n",
       "<title>1</title>\n",
       "<polygon fill=\"transparent\" stroke=\"#000000\" points=\"367.8236,-459.2 232.3726,-459.2 232.3726,-367.2 367.8236,-367.2 367.8236,-459.2\"/>\n",
       "<text text-anchor=\"middle\" x=\"300.0981\" y=\"-442.6\" font-family=\"Times,serif\" font-size=\"14.00\" fill=\"#000000\">astigmatic=no &lt;= 0.5</text>\n",
       "<text text-anchor=\"middle\" x=\"300.0981\" y=\"-425.8\" font-family=\"Times,serif\" font-size=\"14.00\" fill=\"#000000\">samples = 12</text>\n",
       "<text text-anchor=\"middle\" x=\"300.0981\" y=\"-409\" font-family=\"Times,serif\" font-size=\"14.00\" fill=\"#000000\">value = [[8, 4]</text>\n",
       "<text text-anchor=\"middle\" x=\"300.0981\" y=\"-392.2\" font-family=\"Times,serif\" font-size=\"14.00\" fill=\"#000000\">[9, 3]</text>\n",
       "<text text-anchor=\"middle\" x=\"300.0981\" y=\"-375.4\" font-family=\"Times,serif\" font-size=\"14.00\" fill=\"#000000\">[7, 5]]</text>\n",
       "</g>\n",
       "<!-- 0&#45;&gt;1 -->\n",
       "<g id=\"edge1\" class=\"edge\">\n",
       "<title>0&#45;&gt;1</title>\n",
       "<path fill=\"none\" stroke=\"#000000\" d=\"M343.5485,-494.9891C338.9745,-486.3791 334.1526,-477.3026 329.4515,-468.4535\"/>\n",
       "<polygon fill=\"#000000\" stroke=\"#000000\" points=\"332.3941,-466.5322 324.6116,-459.3431 326.2123,-469.8163 332.3941,-466.5322\"/>\n",
       "<text text-anchor=\"middle\" x=\"317.2938\" y=\"-479.0481\" font-family=\"Times,serif\" font-size=\"14.00\" fill=\"#000000\">True</text>\n",
       "</g>\n",
       "<!-- 12 -->\n",
       "<g id=\"node13\" class=\"node\">\n",
       "<title>12</title>\n",
       "<polygon fill=\"#e58139\" stroke=\"#000000\" points=\"488.7945,-450.9003 385.4017,-450.9003 385.4017,-375.4997 488.7945,-375.4997 488.7945,-450.9003\"/>\n",
       "<text text-anchor=\"middle\" x=\"437.0981\" y=\"-434.2\" font-family=\"Times,serif\" font-size=\"14.00\" fill=\"#000000\">samples = 12</text>\n",
       "<text text-anchor=\"middle\" x=\"437.0981\" y=\"-417.4\" font-family=\"Times,serif\" font-size=\"14.00\" fill=\"#000000\">value = [[12, 0]</text>\n",
       "<text text-anchor=\"middle\" x=\"437.0981\" y=\"-400.6\" font-family=\"Times,serif\" font-size=\"14.00\" fill=\"#000000\">[0, 12]</text>\n",
       "<text text-anchor=\"middle\" x=\"437.0981\" y=\"-383.8\" font-family=\"Times,serif\" font-size=\"14.00\" fill=\"#000000\">[12, 0]]</text>\n",
       "</g>\n",
       "<!-- 0&#45;&gt;12 -->\n",
       "<g id=\"edge12\" class=\"edge\">\n",
       "<title>0&#45;&gt;12</title>\n",
       "<path fill=\"none\" stroke=\"#000000\" d=\"M393.0087,-494.9891C399.1615,-483.5752 405.7563,-471.3413 411.9216,-459.9042\"/>\n",
       "<polygon fill=\"#000000\" stroke=\"#000000\" points=\"415.0931,-461.3968 416.7574,-450.9335 408.9314,-458.0752 415.0931,-461.3968\"/>\n",
       "<text text-anchor=\"middle\" x=\"423.9299\" y=\"-470.6825\" font-family=\"Times,serif\" font-size=\"14.00\" fill=\"#000000\">False</text>\n",
       "</g>\n",
       "<!-- 2 -->\n",
       "<g id=\"node3\" class=\"node\">\n",
       "<title>2</title>\n",
       "<polygon fill=\"#e58139\" fill-opacity=\"0.317647\" stroke=\"#000000\" points=\"292.8635,-331.2 141.3327,-331.2 141.3327,-239.2 292.8635,-239.2 292.8635,-331.2\"/>\n",
       "<text text-anchor=\"middle\" x=\"217.0981\" y=\"-314.6\" font-family=\"Times,serif\" font-size=\"14.00\" fill=\"#000000\">prescript=myope &lt;= 0.5</text>\n",
       "<text text-anchor=\"middle\" x=\"217.0981\" y=\"-297.8\" font-family=\"Times,serif\" font-size=\"14.00\" fill=\"#000000\">samples = 6</text>\n",
       "<text text-anchor=\"middle\" x=\"217.0981\" y=\"-281\" font-family=\"Times,serif\" font-size=\"14.00\" fill=\"#000000\">value = [[2, 4]</text>\n",
       "<text text-anchor=\"middle\" x=\"217.0981\" y=\"-264.2\" font-family=\"Times,serif\" font-size=\"14.00\" fill=\"#000000\">[4, 2]</text>\n",
       "<text text-anchor=\"middle\" x=\"217.0981\" y=\"-247.4\" font-family=\"Times,serif\" font-size=\"14.00\" fill=\"#000000\">[6, 0]]</text>\n",
       "</g>\n",
       "<!-- 1&#45;&gt;2 -->\n",
       "<g id=\"edge2\" class=\"edge\">\n",
       "<title>1&#45;&gt;2</title>\n",
       "<path fill=\"none\" stroke=\"#000000\" d=\"M270.1332,-366.9891C264.4327,-358.1979 258.4167,-348.9202 252.5643,-339.8949\"/>\n",
       "<polygon fill=\"#000000\" stroke=\"#000000\" points=\"255.3964,-337.8293 247.019,-331.3431 249.5231,-341.6378 255.3964,-337.8293\"/>\n",
       "</g>\n",
       "<!-- 7 -->\n",
       "<g id=\"node8\" class=\"node\">\n",
       "<title>7</title>\n",
       "<polygon fill=\"#e58139\" fill-opacity=\"0.572549\" stroke=\"#000000\" points=\"455.6361,-331.2 310.5601,-331.2 310.5601,-239.2 455.6361,-239.2 455.6361,-331.2\"/>\n",
       "<text text-anchor=\"middle\" x=\"383.0981\" y=\"-314.6\" font-family=\"Times,serif\" font-size=\"14.00\" fill=\"#000000\">age=presbyopic &lt;= 0.5</text>\n",
       "<text text-anchor=\"middle\" x=\"383.0981\" y=\"-297.8\" font-family=\"Times,serif\" font-size=\"14.00\" fill=\"#000000\">samples = 6</text>\n",
       "<text text-anchor=\"middle\" x=\"383.0981\" y=\"-281\" font-family=\"Times,serif\" font-size=\"14.00\" fill=\"#000000\">value = [[6, 0]</text>\n",
       "<text text-anchor=\"middle\" x=\"383.0981\" y=\"-264.2\" font-family=\"Times,serif\" font-size=\"14.00\" fill=\"#000000\">[5, 1]</text>\n",
       "<text text-anchor=\"middle\" x=\"383.0981\" y=\"-247.4\" font-family=\"Times,serif\" font-size=\"14.00\" fill=\"#000000\">[1, 5]]</text>\n",
       "</g>\n",
       "<!-- 1&#45;&gt;7 -->\n",
       "<g id=\"edge7\" class=\"edge\">\n",
       "<title>1&#45;&gt;7</title>\n",
       "<path fill=\"none\" stroke=\"#000000\" d=\"M330.063,-366.9891C335.7635,-358.1979 341.7795,-348.9202 347.6319,-339.8949\"/>\n",
       "<polygon fill=\"#000000\" stroke=\"#000000\" points=\"350.6731,-341.6378 353.1772,-331.3431 344.7998,-337.8293 350.6731,-341.6378\"/>\n",
       "</g>\n",
       "<!-- 3 -->\n",
       "<g id=\"node4\" class=\"node\">\n",
       "<title>3</title>\n",
       "<polygon fill=\"#e58139\" fill-opacity=\"0.317647\" stroke=\"#000000\" points=\"164.2117,-203.2 45.9845,-203.2 45.9845,-111.2 164.2117,-111.2 164.2117,-203.2\"/>\n",
       "<text text-anchor=\"middle\" x=\"105.0981\" y=\"-186.6\" font-family=\"Times,serif\" font-size=\"14.00\" fill=\"#000000\">age=young &lt;= 0.5</text>\n",
       "<text text-anchor=\"middle\" x=\"105.0981\" y=\"-169.8\" font-family=\"Times,serif\" font-size=\"14.00\" fill=\"#000000\">samples = 3</text>\n",
       "<text text-anchor=\"middle\" x=\"105.0981\" y=\"-153\" font-family=\"Times,serif\" font-size=\"14.00\" fill=\"#000000\">value = [[2, 1]</text>\n",
       "<text text-anchor=\"middle\" x=\"105.0981\" y=\"-136.2\" font-family=\"Times,serif\" font-size=\"14.00\" fill=\"#000000\">[1, 2]</text>\n",
       "<text text-anchor=\"middle\" x=\"105.0981\" y=\"-119.4\" font-family=\"Times,serif\" font-size=\"14.00\" fill=\"#000000\">[3, 0]]</text>\n",
       "</g>\n",
       "<!-- 2&#45;&gt;3 -->\n",
       "<g id=\"edge3\" class=\"edge\">\n",
       "<title>2&#45;&gt;3</title>\n",
       "<path fill=\"none\" stroke=\"#000000\" d=\"M176.6635,-238.9891C168.7333,-229.926 160.3508,-220.3459 152.224,-211.0582\"/>\n",
       "<polygon fill=\"#000000\" stroke=\"#000000\" points=\"154.6924,-208.5641 145.4733,-203.3431 149.4244,-213.1737 154.6924,-208.5641\"/>\n",
       "</g>\n",
       "<!-- 6 -->\n",
       "<g id=\"node7\" class=\"node\">\n",
       "<title>6</title>\n",
       "<polygon fill=\"#e58139\" stroke=\"#000000\" points=\"278.2945,-194.9003 181.9017,-194.9003 181.9017,-119.4997 278.2945,-119.4997 278.2945,-194.9003\"/>\n",
       "<text text-anchor=\"middle\" x=\"230.0981\" y=\"-178.2\" font-family=\"Times,serif\" font-size=\"14.00\" fill=\"#000000\">samples = 3</text>\n",
       "<text text-anchor=\"middle\" x=\"230.0981\" y=\"-161.4\" font-family=\"Times,serif\" font-size=\"14.00\" fill=\"#000000\">value = [[0, 3]</text>\n",
       "<text text-anchor=\"middle\" x=\"230.0981\" y=\"-144.6\" font-family=\"Times,serif\" font-size=\"14.00\" fill=\"#000000\">[3, 0]</text>\n",
       "<text text-anchor=\"middle\" x=\"230.0981\" y=\"-127.8\" font-family=\"Times,serif\" font-size=\"14.00\" fill=\"#000000\">[3, 0]]</text>\n",
       "</g>\n",
       "<!-- 2&#45;&gt;6 -->\n",
       "<g id=\"edge6\" class=\"edge\">\n",
       "<title>2&#45;&gt;6</title>\n",
       "<path fill=\"none\" stroke=\"#000000\" d=\"M221.7914,-238.9891C222.9162,-227.9142 224.1194,-216.0674 225.251,-204.9254\"/>\n",
       "<polygon fill=\"#000000\" stroke=\"#000000\" points=\"228.7374,-205.236 226.2658,-194.9335 221.7732,-204.5286 228.7374,-205.236\"/>\n",
       "</g>\n",
       "<!-- 4 -->\n",
       "<g id=\"node5\" class=\"node\">\n",
       "<title>4</title>\n",
       "<polygon fill=\"#e58139\" stroke=\"#000000\" points=\"96.2945,-75.3003 -.0983,-75.3003 -.0983,.1003 96.2945,.1003 96.2945,-75.3003\"/>\n",
       "<text text-anchor=\"middle\" x=\"48.0981\" y=\"-58.6\" font-family=\"Times,serif\" font-size=\"14.00\" fill=\"#000000\">samples = 2</text>\n",
       "<text text-anchor=\"middle\" x=\"48.0981\" y=\"-41.8\" font-family=\"Times,serif\" font-size=\"14.00\" fill=\"#000000\">value = [[2, 0]</text>\n",
       "<text text-anchor=\"middle\" x=\"48.0981\" y=\"-25\" font-family=\"Times,serif\" font-size=\"14.00\" fill=\"#000000\">[0, 2]</text>\n",
       "<text text-anchor=\"middle\" x=\"48.0981\" y=\"-8.2\" font-family=\"Times,serif\" font-size=\"14.00\" fill=\"#000000\">[2, 0]]</text>\n",
       "</g>\n",
       "<!-- 3&#45;&gt;4 -->\n",
       "<g id=\"edge4\" class=\"edge\">\n",
       "<title>3&#45;&gt;4</title>\n",
       "<path fill=\"none\" stroke=\"#000000\" d=\"M83.0604,-110.9595C78.9193,-102.2704 74.586,-93.1781 70.4358,-84.47\"/>\n",
       "<polygon fill=\"#000000\" stroke=\"#000000\" points=\"73.4839,-82.7302 66.022,-75.2088 67.1648,-85.7419 73.4839,-82.7302\"/>\n",
       "</g>\n",
       "<!-- 5 -->\n",
       "<g id=\"node6\" class=\"node\">\n",
       "<title>5</title>\n",
       "<polygon fill=\"#e58139\" stroke=\"#000000\" points=\"210.2945,-75.3003 113.9017,-75.3003 113.9017,.1003 210.2945,.1003 210.2945,-75.3003\"/>\n",
       "<text text-anchor=\"middle\" x=\"162.0981\" y=\"-58.6\" font-family=\"Times,serif\" font-size=\"14.00\" fill=\"#000000\">samples = 1</text>\n",
       "<text text-anchor=\"middle\" x=\"162.0981\" y=\"-41.8\" font-family=\"Times,serif\" font-size=\"14.00\" fill=\"#000000\">value = [[0, 1]</text>\n",
       "<text text-anchor=\"middle\" x=\"162.0981\" y=\"-25\" font-family=\"Times,serif\" font-size=\"14.00\" fill=\"#000000\">[1, 0]</text>\n",
       "<text text-anchor=\"middle\" x=\"162.0981\" y=\"-8.2\" font-family=\"Times,serif\" font-size=\"14.00\" fill=\"#000000\">[1, 0]]</text>\n",
       "</g>\n",
       "<!-- 3&#45;&gt;5 -->\n",
       "<g id=\"edge5\" class=\"edge\">\n",
       "<title>3&#45;&gt;5</title>\n",
       "<path fill=\"none\" stroke=\"#000000\" d=\"M127.1358,-110.9595C131.2769,-102.2704 135.6102,-93.1781 139.7604,-84.47\"/>\n",
       "<polygon fill=\"#000000\" stroke=\"#000000\" points=\"143.0314,-85.7419 144.1742,-75.2088 136.7123,-82.7302 143.0314,-85.7419\"/>\n",
       "</g>\n",
       "<!-- 8 -->\n",
       "<g id=\"node9\" class=\"node\">\n",
       "<title>8</title>\n",
       "<polygon fill=\"#e58139\" stroke=\"#000000\" points=\"418.2945,-194.9003 321.9017,-194.9003 321.9017,-119.4997 418.2945,-119.4997 418.2945,-194.9003\"/>\n",
       "<text text-anchor=\"middle\" x=\"370.0981\" y=\"-178.2\" font-family=\"Times,serif\" font-size=\"14.00\" fill=\"#000000\">samples = 4</text>\n",
       "<text text-anchor=\"middle\" x=\"370.0981\" y=\"-161.4\" font-family=\"Times,serif\" font-size=\"14.00\" fill=\"#000000\">value = [[4, 0]</text>\n",
       "<text text-anchor=\"middle\" x=\"370.0981\" y=\"-144.6\" font-family=\"Times,serif\" font-size=\"14.00\" fill=\"#000000\">[4, 0]</text>\n",
       "<text text-anchor=\"middle\" x=\"370.0981\" y=\"-127.8\" font-family=\"Times,serif\" font-size=\"14.00\" fill=\"#000000\">[0, 4]]</text>\n",
       "</g>\n",
       "<!-- 7&#45;&gt;8 -->\n",
       "<g id=\"edge8\" class=\"edge\">\n",
       "<title>7&#45;&gt;8</title>\n",
       "<path fill=\"none\" stroke=\"#000000\" d=\"M378.4048,-238.9891C377.28,-227.9142 376.0768,-216.0674 374.9452,-204.9254\"/>\n",
       "<polygon fill=\"#000000\" stroke=\"#000000\" points=\"378.423,-204.5286 373.9304,-194.9335 371.4588,-205.236 378.423,-204.5286\"/>\n",
       "</g>\n",
       "<!-- 9 -->\n",
       "<g id=\"node10\" class=\"node\">\n",
       "<title>9</title>\n",
       "<polygon fill=\"#e58139\" fill-opacity=\"0.235294\" stroke=\"#000000\" points=\"587.8635,-203.2 436.3327,-203.2 436.3327,-111.2 587.8635,-111.2 587.8635,-203.2\"/>\n",
       "<text text-anchor=\"middle\" x=\"512.0981\" y=\"-186.6\" font-family=\"Times,serif\" font-size=\"14.00\" fill=\"#000000\">prescript=myope &lt;= 0.5</text>\n",
       "<text text-anchor=\"middle\" x=\"512.0981\" y=\"-169.8\" font-family=\"Times,serif\" font-size=\"14.00\" fill=\"#000000\">samples = 2</text>\n",
       "<text text-anchor=\"middle\" x=\"512.0981\" y=\"-153\" font-family=\"Times,serif\" font-size=\"14.00\" fill=\"#000000\">value = [[2, 0]</text>\n",
       "<text text-anchor=\"middle\" x=\"512.0981\" y=\"-136.2\" font-family=\"Times,serif\" font-size=\"14.00\" fill=\"#000000\">[1, 1]</text>\n",
       "<text text-anchor=\"middle\" x=\"512.0981\" y=\"-119.4\" font-family=\"Times,serif\" font-size=\"14.00\" fill=\"#000000\">[1, 1]]</text>\n",
       "</g>\n",
       "<!-- 7&#45;&gt;9 -->\n",
       "<g id=\"edge9\" class=\"edge\">\n",
       "<title>7&#45;&gt;9</title>\n",
       "<path fill=\"none\" stroke=\"#000000\" d=\"M429.6701,-238.9891C438.9866,-229.7447 448.8453,-219.9625 458.3804,-210.5013\"/>\n",
       "<polygon fill=\"#000000\" stroke=\"#000000\" points=\"460.9612,-212.8711 465.5945,-203.3431 456.0307,-207.9021 460.9612,-212.8711\"/>\n",
       "</g>\n",
       "<!-- 10 -->\n",
       "<g id=\"node11\" class=\"node\">\n",
       "<title>10</title>\n",
       "<polygon fill=\"#e58139\" stroke=\"#000000\" points=\"503.2945,-75.3003 406.9017,-75.3003 406.9017,.1003 503.2945,.1003 503.2945,-75.3003\"/>\n",
       "<text text-anchor=\"middle\" x=\"455.0981\" y=\"-58.6\" font-family=\"Times,serif\" font-size=\"14.00\" fill=\"#000000\">samples = 1</text>\n",
       "<text text-anchor=\"middle\" x=\"455.0981\" y=\"-41.8\" font-family=\"Times,serif\" font-size=\"14.00\" fill=\"#000000\">value = [[1, 0]</text>\n",
       "<text text-anchor=\"middle\" x=\"455.0981\" y=\"-25\" font-family=\"Times,serif\" font-size=\"14.00\" fill=\"#000000\">[1, 0]</text>\n",
       "<text text-anchor=\"middle\" x=\"455.0981\" y=\"-8.2\" font-family=\"Times,serif\" font-size=\"14.00\" fill=\"#000000\">[0, 1]]</text>\n",
       "</g>\n",
       "<!-- 9&#45;&gt;10 -->\n",
       "<g id=\"edge10\" class=\"edge\">\n",
       "<title>9&#45;&gt;10</title>\n",
       "<path fill=\"none\" stroke=\"#000000\" d=\"M490.0604,-110.9595C485.9193,-102.2704 481.586,-93.1781 477.4358,-84.47\"/>\n",
       "<polygon fill=\"#000000\" stroke=\"#000000\" points=\"480.4839,-82.7302 473.022,-75.2088 474.1648,-85.7419 480.4839,-82.7302\"/>\n",
       "</g>\n",
       "<!-- 11 -->\n",
       "<g id=\"node12\" class=\"node\">\n",
       "<title>11</title>\n",
       "<polygon fill=\"#e58139\" stroke=\"#000000\" points=\"617.2945,-75.3003 520.9017,-75.3003 520.9017,.1003 617.2945,.1003 617.2945,-75.3003\"/>\n",
       "<text text-anchor=\"middle\" x=\"569.0981\" y=\"-58.6\" font-family=\"Times,serif\" font-size=\"14.00\" fill=\"#000000\">samples = 1</text>\n",
       "<text text-anchor=\"middle\" x=\"569.0981\" y=\"-41.8\" font-family=\"Times,serif\" font-size=\"14.00\" fill=\"#000000\">value = [[1, 0]</text>\n",
       "<text text-anchor=\"middle\" x=\"569.0981\" y=\"-25\" font-family=\"Times,serif\" font-size=\"14.00\" fill=\"#000000\">[0, 1]</text>\n",
       "<text text-anchor=\"middle\" x=\"569.0981\" y=\"-8.2\" font-family=\"Times,serif\" font-size=\"14.00\" fill=\"#000000\">[1, 0]]</text>\n",
       "</g>\n",
       "<!-- 9&#45;&gt;11 -->\n",
       "<g id=\"edge11\" class=\"edge\">\n",
       "<title>9&#45;&gt;11</title>\n",
       "<path fill=\"none\" stroke=\"#000000\" d=\"M534.1358,-110.9595C538.2769,-102.2704 542.6102,-93.1781 546.7604,-84.47\"/>\n",
       "<polygon fill=\"#000000\" stroke=\"#000000\" points=\"550.0314,-85.7419 551.1742,-75.2088 543.7123,-82.7302 550.0314,-85.7419\"/>\n",
       "</g>\n",
       "</g>\n",
       "</svg>\n"
      ],
      "text/plain": [
       "<graphviz.files.Source at 0x108fdd6a0>"
      ]
     },
     "metadata": {},
     "output_type": "display_data"
    }
   ],
   "source": [
    "import graphviz\n",
    "\n",
    "with open(\"tree.dot\") as f:\n",
    "    dot_graph = f.read()\n",
    "display(graphviz.Source(dot_graph))"
   ]
  },
  {
   "cell_type": "code",
   "execution_count": null,
   "metadata": {
    "collapsed": true
   },
   "outputs": [],
   "source": []
  },
  {
   "cell_type": "markdown",
   "metadata": {
    "collapsed": true
   },
   "source": []
  },
  {
   "cell_type": "code",
   "execution_count": null,
   "metadata": {
    "collapsed": true
   },
   "outputs": [],
   "source": []
  }
 ],
 "metadata": {
  "kernelspec": {
   "display_name": "Python 3",
   "language": "python",
   "name": "python3"
  },
  "language_info": {
   "codemirror_mode": {
    "name": "ipython",
    "version": 3
   },
   "file_extension": ".py",
   "mimetype": "text/x-python",
   "name": "python",
   "nbconvert_exporter": "python",
   "pygments_lexer": "ipython3",
   "version": "3.6.3"
  }
 },
 "nbformat": 4,
 "nbformat_minor": 2
}
