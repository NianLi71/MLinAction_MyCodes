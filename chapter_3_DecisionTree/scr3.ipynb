{
 "cells": [
  {
   "cell_type": "code",
   "execution_count": 264,
   "metadata": {
    "collapsed": true
   },
   "outputs": [],
   "source": [
    "from collections import defaultdict\n",
    "import numpy as np"
   ]
  },
  {
   "cell_type": "code",
   "execution_count": 265,
   "metadata": {
    "collapsed": true
   },
   "outputs": [],
   "source": [
    "def createDataSet():\n",
    "    dataSet = [[1, 1, 'yes'],\n",
    "               [1, 1, 'yes'],\n",
    "               [1, 0, 'no'],\n",
    "               [0, 1, 'no'],\n",
    "               [0, 1, 'no']]\n",
    "    labels = ['no surfacing', 'flippers'] \n",
    "    # this labels is the attribute name label,\n",
    "    # class label is the last element in each sample point\n",
    "    return dataSet, labels"
   ]
  },
  {
   "cell_type": "code",
   "execution_count": 266,
   "metadata": {
    "collapsed": true
   },
   "outputs": [],
   "source": [
    "def calcShannonEnt(dataSet):\n",
    "    total_sample = len(dataSet)\n",
    "    label_cnt = defaultdict(int)\n",
    "    H = 0 # shannonEnt\n",
    "    for sample in dataSet:\n",
    "        label_cnt[sample[-1]] += 1\n",
    "    for label, cnt in label_cnt.items():\n",
    "        prob = float(cnt) / total_sample\n",
    "        H -= prob * np.log2(prob)\n",
    "#         print(prob)\n",
    "#     print(total_sample)\n",
    "#     print(label_cnt)\n",
    "    return H\n"
   ]
  },
  {
   "cell_type": "code",
   "execution_count": 267,
   "metadata": {},
   "outputs": [
    {
     "data": {
      "text/plain": [
       "0.9709505944546686"
      ]
     },
     "execution_count": 267,
     "metadata": {},
     "output_type": "execute_result"
    }
   ],
   "source": [
    "dataSet, labels = createDataSet()\n",
    "calcShannonEnt(dataSet)\n",
    "# -(np.log2(0.6)*0.6+np.log2(0.4)*0.4)"
   ]
  },
  {
   "cell_type": "markdown",
   "metadata": {},
   "source": [
    "The higher the entropy, the more mixed up the data is."
   ]
  },
  {
   "cell_type": "code",
   "execution_count": 6,
   "metadata": {},
   "outputs": [
    {
     "data": {
      "text/plain": [
       "1.3709505944546687"
      ]
     },
     "execution_count": 6,
     "metadata": {},
     "output_type": "execute_result"
    }
   ],
   "source": [
    "dataSet[0][-1] = 'maybe'\n",
    "calcShannonEnt(dataSet)"
   ]
  },
  {
   "cell_type": "markdown",
   "metadata": {},
   "source": [
    "Splitting the datset"
   ]
  },
  {
   "cell_type": "code",
   "execution_count": 268,
   "metadata": {
    "collapsed": true
   },
   "outputs": [],
   "source": [
    "def splitDatsSet(dataSet, axis, value):\n",
    "    retDataSet = []\n",
    "    for featVec in dataSet:\n",
    "        if featVec[axis] == value:\n",
    "            retDataSet.append(featVec[:axis] + featVec[axis+1:])\n",
    "    return retDataSet"
   ]
  },
  {
   "cell_type": "code",
   "execution_count": 269,
   "metadata": {},
   "outputs": [
    {
     "data": {
      "text/plain": [
       "[[1, 'yes'], [1, 'yes'], [0, 'no']]"
      ]
     },
     "execution_count": 269,
     "metadata": {},
     "output_type": "execute_result"
    }
   ],
   "source": [
    "splitDatsSet(dataSet, 0, 1)"
   ]
  },
  {
   "cell_type": "markdown",
   "metadata": {},
   "source": [
    "ps:test on set"
   ]
  },
  {
   "cell_type": "code",
   "execution_count": 270,
   "metadata": {},
   "outputs": [
    {
     "name": "stdout",
     "output_type": "stream",
     "text": [
      "{1, 2, 3}\n"
     ]
    },
    {
     "data": {
      "text/plain": [
       "True"
      ]
     },
     "execution_count": 270,
     "metadata": {},
     "output_type": "execute_result"
    }
   ],
   "source": [
    "s = set([1,2,3,2,1,1])\n",
    "print(s)\n",
    "2 in s"
   ]
  },
  {
   "cell_type": "markdown",
   "metadata": {},
   "source": [
    "choosing the best feature to split on"
   ]
  },
  {
   "cell_type": "markdown",
   "metadata": {},
   "source": [
    "$$ Info(D)=-\\sum_{i=1}^{m}p_{i}\\log_{2}(p_i) $$"
   ]
  },
  {
   "cell_type": "markdown",
   "metadata": {},
   "source": [
    "用属性A将D划分为v个子集后，信息度量\n",
    "$$ Info_{A}(D)=\\sum_{j=1}^{v}\\frac{\\left | D_{j} \\right |}{\\left | D \\right |}\\times Info(D_{j}) $$"
   ]
  },
  {
   "cell_type": "code",
   "execution_count": 271,
   "metadata": {
    "collapsed": true
   },
   "outputs": [],
   "source": [
    "def chooseBestFeatureToSplit(dataSet):\n",
    "    baseEntropy = calcShannonEnt(dataSet)\n",
    "#     print('base entropy ', baseEntropy)\n",
    "    featVecLen = len(dataSet[0]) - 1\n",
    "    info_gain = 0\n",
    "    best_feature_index = -1\n",
    "    for i in range(featVecLen):\n",
    "        featureColumn = [d[i] for d in dataSet]\n",
    "#         print(featureColumn)\n",
    "        unique_feature = set(featureColumn)\n",
    "#         print(unique_feature)\n",
    "        splitEntropy = 0\n",
    "        for feature in unique_feature:   # for a1,a2,...,av\n",
    "            subset = splitDatsSet(dataSet, i, feature)\n",
    "            splitEntropy += float(len(subset))/len(dataSet)*calcShannonEnt(subset)\n",
    "#         print('split entropy', splitEntropy)\n",
    "        split_info_gain = baseEntropy - splitEntropy\n",
    "#         print(split_info_gain)\n",
    "        if split_info_gain > info_gain:\n",
    "            info_gain = split_info_gain\n",
    "            best_feature_index = i\n",
    "    return best_feature_index, info_gain"
   ]
  },
  {
   "cell_type": "code",
   "execution_count": 272,
   "metadata": {},
   "outputs": [
    {
     "data": {
      "text/plain": [
       "(0, 0.4199730940219749)"
      ]
     },
     "execution_count": 272,
     "metadata": {},
     "output_type": "execute_result"
    }
   ],
   "source": [
    "chooseBestFeatureToSplit(dataSet)"
   ]
  },
  {
   "cell_type": "markdown",
   "metadata": {
    "collapsed": true
   },
   "source": [
    "### majority vote function"
   ]
  },
  {
   "cell_type": "code",
   "execution_count": 273,
   "metadata": {
    "collapsed": true
   },
   "outputs": [],
   "source": [
    "def majority_vote(class_list):\n",
    "    class_cnt = defaultdict(int)\n",
    "    for c in class_list:\n",
    "        class_cnt[c] += 1\n",
    "    vote = sorted(class_cnt.items(), key=lambda p:p[1], reverse=True)\n",
    "#     print(vote)\n",
    "    return vote[0][0]"
   ]
  },
  {
   "cell_type": "code",
   "execution_count": 274,
   "metadata": {},
   "outputs": [
    {
     "data": {
      "text/plain": [
       "1"
      ]
     },
     "execution_count": 274,
     "metadata": {},
     "output_type": "execute_result"
    }
   ],
   "source": [
    "d = [1,2,2,5,1,1]\n",
    "majority_vote(d)"
   ]
  },
  {
   "cell_type": "markdown",
   "metadata": {},
   "source": [
    "### recursively build the tree "
   ]
  },
  {
   "cell_type": "code",
   "execution_count": 275,
   "metadata": {},
   "outputs": [
    {
     "name": "stdout",
     "output_type": "stream",
     "text": [
      "0.0\n"
     ]
    },
    {
     "data": {
      "text/plain": [
       "True"
      ]
     },
     "execution_count": 275,
     "metadata": {},
     "output_type": "execute_result"
    }
   ],
   "source": [
    "# test\n",
    "dataset =[['tall','classA'],['tall','classB']]\n",
    "dataset =[['tall','classA'],['tall','classA']]\n",
    "print(calcShannonEnt(dataset))\n",
    "abs(calcShannonEnt(dataset) - 0) < 1e-6"
   ]
  },
  {
   "cell_type": "markdown",
   "metadata": {},
   "source": [
    "#### my version "
   ]
  },
  {
   "cell_type": "code",
   "execution_count": 364,
   "metadata": {
    "collapsed": true
   },
   "outputs": [],
   "source": [
    "class BaseNode:\n",
    "    def __init__(self, child):\n",
    "        self.child = child\n",
    "    def add_child(self, value, node):\n",
    "        self.child[value] = node\n",
    "    def __iter__(self):\n",
    "        return iter(self.child)\n",
    "    def depth_first(self):\n",
    "        yield 'decision node split axis: {}'.format(self.feature_axis)\n",
    "        for c_value, c_node in self.child.items():\n",
    "            yield from c_node.depth_first()\n",
    "        \n",
    "class LeafNode(BaseNode):\n",
    "    def __init__(self, class_label):\n",
    "        super().__init__(None) \n",
    "        self.class_label = class_label\n",
    "    def depth_first(self):\n",
    "        yield 'leaf node class: {}'.format(self.class_label)\n",
    "    \n",
    "class DecisionNode(BaseNode):\n",
    "    def __init__(self, feature_axis, child):\n",
    "        super().__init__(child)\n",
    "        print('node info', id(self), id(self.child))\n",
    "        self.feature_axis = feature_axis\n",
    "    "
   ]
  },
  {
   "cell_type": "code",
   "execution_count": 365,
   "metadata": {
    "collapsed": true
   },
   "outputs": [],
   "source": [
    "\n",
    "def build_decision_tree(dataset, d):\n",
    "#     if d >= 2: return None\n",
    "    print(dataset)\n",
    "    features_num = len(dataset[0]) - 1\n",
    "    # run out of features or all sample in node's dataset belong to the same class\n",
    " \n",
    "    if features_num == 0 or abs(calcShannonEnt(dataset) - 0) < 1e-6:  # add leaf node\n",
    "        voted_class = majority_vote([sample[-1] for sample in dataset])\n",
    "#         print(voted_class)\n",
    "        node = LeafNode(voted_class)\n",
    "        print(4*d*' ' + 'ln node id', id(node))\n",
    "#         print('ln node', id(node))\n",
    "        return node\n",
    "#         parent_node.add_child(LeafNode(voted_class))\n",
    "    else: # add decison node\n",
    "        split_feature_axis, _ = chooseBestFeatureToSplit(dataset)\n",
    "        unique_feature_set = set([sample[split_feature_axis] for sample in dataset])\n",
    "        cur_node = DecisionNode(split_feature_axis, child={})\n",
    "        print(4*d*' ' + 'dc node', id(cur_node))\n",
    "#         print(unique_feature_set)\n",
    "        for i, value in enumerate(unique_feature_set):\n",
    "            subset = splitDatsSet(dataset, split_feature_axis, value) \n",
    "            child_node = build_decision_tree(subset, d+1)\n",
    "            print(4*d*' ' + 'parent {}, {} {} child id {} {}'.format(id(cur_node), i,value, id(child_node), subset))\n",
    "#             cur_node.child[value] = child_node\n",
    "            cur_node.add_child(value, child_node)\n",
    "            print(4*d*' ' + '{}'.format(id(cur_node.child[value])))\n",
    "        return cur_node"
   ]
  },
  {
   "cell_type": "code",
   "execution_count": 366,
   "metadata": {},
   "outputs": [
    {
     "name": "stdout",
     "output_type": "stream",
     "text": [
      "[[1, 1, 'yes'], [1, 1, 'yes'], [1, 0, 'no'], [0, 1, 'no'], [0, 1, 'no']]\n",
      "node info 4405652448 4405504472\n",
      "dc node 4405652448\n",
      "[[1, 'no'], [1, 'no']]\n",
      "    ln node id 4405671136\n",
      "parent 4405652448, 0 0 child id 4405671136 [[1, 'no'], [1, 'no']]\n",
      "4405671136\n",
      "[[1, 'yes'], [1, 'yes'], [0, 'no']]\n",
      "node info 4405671472 4405511296\n",
      "    dc node 4405671472\n",
      "[['no']]\n",
      "        ln node id 4405670408\n",
      "    parent 4405671472, 0 0 child id 4405670408 [['no']]\n",
      "    4405670408\n",
      "[['yes'], ['yes']]\n",
      "        ln node id 4405651552\n",
      "    parent 4405671472, 1 1 child id 4405651552 [['yes'], ['yes']]\n",
      "    4405651552\n",
      "parent 4405652448, 1 1 child id 4405671472 [[1, 'yes'], [1, 'yes'], [0, 'no']]\n",
      "4405671472\n"
     ]
    }
   ],
   "source": [
    "# print(dataSet)\n",
    "# root = DecisionNode(dataSet, None, None, None)\n",
    "\n",
    "root = build_decision_tree(dataSet, d=0)"
   ]
  },
  {
   "cell_type": "code",
   "execution_count": 367,
   "metadata": {},
   "outputs": [
    {
     "name": "stdout",
     "output_type": "stream",
     "text": [
      "4405652448\n",
      "{0: <__main__.LeafNode object at 0x1069934e0>, 1: <__main__.DecisionNode object at 0x106993630>} 4405671136 4405671472\n",
      "4405671472\n"
     ]
    }
   ],
   "source": [
    "\n",
    "\n",
    "print(id(root))\n",
    "# print(id(root.child)\n",
    "print(root.child, id(root.child[0]), id(root.child[1]))\n",
    "print(id(root.child[1]))\n",
    "# print(id(root.child[1].child[0]))\n",
    "# print(root.child[1].child)\n",
    "\n"
   ]
  },
  {
   "cell_type": "code",
   "execution_count": 368,
   "metadata": {},
   "outputs": [
    {
     "name": "stdout",
     "output_type": "stream",
     "text": [
      "<__main__.DecisionNode object at 0x10698ebe0>\n",
      "{0: <__main__.LeafNode object at 0x1069934e0>, 1: <__main__.DecisionNode object at 0x106993630>}\n",
      "{0: <__main__.LeafNode object at 0x106993208>, 1: <__main__.LeafNode object at 0x10698e860>}\n"
     ]
    }
   ],
   "source": [
    "print(root)\n",
    "print(root.child)\n",
    "print(root.child[1].child)"
   ]
  },
  {
   "cell_type": "markdown",
   "metadata": {},
   "source": [
    "#### 发现一个很严重，很需要注意的问题，构造函数中的默认参数在实例之间共享 ；不建议用[], {} 等对象做默认实参，尤其是后续会修改的话"
   ]
  },
  {
   "cell_type": "code",
   "execution_count": 369,
   "metadata": {},
   "outputs": [
    {
     "name": "stdout",
     "output_type": "stream",
     "text": [
      "info:  4405650544 4406203160\n",
      "info:  4405650432 4406203160\n"
     ]
    }
   ],
   "source": [
    "class D:\n",
    "    def __init__(self, d = {}):\n",
    "        self.d = d\n",
    "        print('info: ', id(self), id(self.d))\n",
    "\n",
    "d1 = D()\n",
    "d2 = D()\n",
    "# 两个id 一样"
   ]
  },
  {
   "cell_type": "code",
   "execution_count": 370,
   "metadata": {},
   "outputs": [
    {
     "name": "stdout",
     "output_type": "stream",
     "text": [
      "info:  4405693632 4405607520\n",
      "info:  4405690552 4406261944\n"
     ]
    }
   ],
   "source": [
    "class D:\n",
    "    def __init__(self, d):\n",
    "        self.d = d\n",
    "        print('info: ', id(self), id(self.d))\n",
    "\n",
    "d1 = D({})\n",
    "d2 = D({})\n",
    "# 这样两个id就不一样"
   ]
  },
  {
   "cell_type": "markdown",
   "metadata": {},
   "source": [
    "### 遍历decision tree "
   ]
  },
  {
   "cell_type": "code",
   "execution_count": 371,
   "metadata": {},
   "outputs": [
    {
     "name": "stdout",
     "output_type": "stream",
     "text": [
      "decision node split axis: 0\n",
      "leaf node class: no\n",
      "decision node split axis: 0\n",
      "leaf node class: no\n",
      "leaf node class: yes\n"
     ]
    }
   ],
   "source": [
    "for n in root.depth_first():\n",
    "    print(n)"
   ]
  },
  {
   "cell_type": "markdown",
   "metadata": {},
   "source": [
    "### code in book "
   ]
  },
  {
   "cell_type": "code",
   "execution_count": 396,
   "metadata": {},
   "outputs": [],
   "source": [
    "def createTree(dataset, labels):\n",
    "    labels = labels[:]\n",
    "    class_list = [sample[-1] for sample in dataset]\n",
    "    if class_list.count(class_list[0]) == len(class_list):\n",
    "        return class_list[0]\n",
    "    if len(dataset[0]) == 1:\n",
    "        return majority_vote(class_list)\n",
    "    best_feat, _ = chooseBestFeatureToSplit(dataset)\n",
    "    best_feat_label = labels[best_feat]\n",
    "#     print(best_feat, best_feat_label)\n",
    "    myTree = {best_feat_label: {}}\n",
    "    del(labels[best_feat])\n",
    "    feat_values = [sample[best_feat] for sample in dataset]\n",
    "    unique_vals = set(feat_values)\n",
    "    for feat in unique_vals:\n",
    "        sub_dataset = splitDatsSet(dataset, best_feat, feat)\n",
    "        myTree[best_feat_label][feat] = createTree(sub_dataset, labels)\n",
    "    return myTree"
   ]
  },
  {
   "cell_type": "code",
   "execution_count": 397,
   "metadata": {},
   "outputs": [
    {
     "data": {
      "text/plain": [
       "{'no surfacing': {0: 'no', 1: {'flippers': {0: 'no', 1: 'yes'}}}}"
      ]
     },
     "execution_count": 397,
     "metadata": {},
     "output_type": "execute_result"
    }
   ],
   "source": [
    "dataset, labels = createDataSet()\n",
    "myTree = createTree(dataset, labels[:])\n",
    "myTree"
   ]
  },
  {
   "cell_type": "code",
   "execution_count": 398,
   "metadata": {},
   "outputs": [
    {
     "name": "stdout",
     "output_type": "stream",
     "text": [
      "['no surfacing', 'flippers']\n"
     ]
    }
   ],
   "source": [
    "print(labels)"
   ]
  },
  {
   "cell_type": "markdown",
   "metadata": {},
   "source": [
    "### plotting tree nodes "
   ]
  },
  {
   "cell_type": "code",
   "execution_count": 402,
   "metadata": {},
   "outputs": [],
   "source": [
    "import matplotlib.pyplot as plt\n",
    "\n",
    "decisionNode = dict(boxstyle=\"sawtooth\", fc=\"0.8\")\n",
    "leafNode = dict(boxstyle=\"round4\", fc=\"0.8\")\n",
    "arrow_args = dict(arrowstyle=\"<-\")\n",
    "\n",
    "def plotNode(nodeTxt, centerPt, parentPt, nodeType):\n",
    "    createPlot.ax1.annotate(nodeTxt, xy=parentPt,xycoords='axes fraction',\n",
    "    xytext=centerPt, textcoords='axes fraction',\n",
    "    va=\"center\", ha=\"center\", bbox=nodeType, arrowprops=arrow_args)\n",
    "    \n",
    "def createPlot():\n",
    "    fig = plt.figure(1, facecolor='white')\n",
    "    fig.clf()\n",
    "    createPlot.ax1 = plt.subplot(111, frameon=False)\n",
    "    plotNode('a decision node', (0.5, 0.1), (0.1, 0.5), decisionNode)\n",
    "    plotNode('a leaf node', (0.8, 0.1), (0.3, 0.8), leafNode)\n",
    "    plt.show()"
   ]
  },
  {
   "cell_type": "code",
   "execution_count": 403,
   "metadata": {},
   "outputs": [
    {
     "data": {
      "image/png": "[encoded data removed]",
      "text/plain": [
       "<matplotlib.figure.Figure at 0x106a3d048>"
      ]
     },
     "metadata": {},
     "output_type": "display_data"
    }
   ],
   "source": [
    "createPlot()"
   ]
  },
  {
   "cell_type": "code",
   "execution_count": 439,
   "metadata": {},
   "outputs": [],
   "source": [
    "def getNumLeafs(myTree):\n",
    "    numLeafs = 0\n",
    "    firstStr = list(myTree.keys())[0]\n",
    "    secondDict = myTree[firstStr]\n",
    "#     _, secondDict = next(iter(myTree.items()))\n",
    "    for key in secondDict.keys():\n",
    "        if type(secondDict[key]).__name__=='dict':\n",
    "            numLeafs += getNumLeafs(secondDict[key])\n",
    "        else:   numLeafs +=1\n",
    "    return numLeafs\n",
    "\n",
    "def getTreeDepth(myTree):\n",
    "    maxDepth = 0\n",
    "    firstStr = list(myTree.keys())[0]\n",
    "    secondDict = myTree[firstStr]\n",
    "#     _, secondDict = next(iter(myTree.items()))\n",
    "    for key in secondDict.keys():\n",
    "        if type(secondDict[key]).__name__=='dict':\n",
    "            thisDepth = 1 + getTreeDepth(secondDict[key])\n",
    "        else:   thisDepth = 1\n",
    "        if thisDepth > maxDepth: maxDepth = thisDepth\n",
    "    return maxDepth"
   ]
  },
  {
   "cell_type": "code",
   "execution_count": 440,
   "metadata": {},
   "outputs": [
    {
     "name": "stdout",
     "output_type": "stream",
     "text": [
      "{'no surfacing': {0: 'no', 1: {'flippers': {0: 'no', 1: 'yes'}}}}\n"
     ]
    },
    {
     "data": {
      "text/plain": [
       "2"
      ]
     },
     "execution_count": 440,
     "metadata": {},
     "output_type": "execute_result"
    }
   ],
   "source": [
    "print(myTree)\n",
    "getTreeDepth(myTree)"
   ]
  },
  {
   "cell_type": "code",
   "execution_count": 441,
   "metadata": {},
   "outputs": [
    {
     "data": {
      "text/plain": [
       "3"
      ]
     },
     "execution_count": 441,
     "metadata": {},
     "output_type": "execute_result"
    }
   ],
   "source": [
    "getNumLeafs(myTree)"
   ]
  },
  {
   "cell_type": "code",
   "execution_count": 442,
   "metadata": {},
   "outputs": [],
   "source": [
    "def retrieveTree(i):\n",
    "    listOfTrees =[{'no surfacing': {0: 'no', 1: {'flippers': \\\n",
    "                    {0: 'no', 1: 'yes'}}}},\n",
    "                  {'no surfacing': {0: 'no', 1: {'flippers': \\\n",
    "                    {0: {'head': {0: 'no', 1: 'yes'}}, 1: 'no'}}}}\n",
    "                  ]\n",
    "    return listOfTrees[i]"
   ]
  },
  {
   "cell_type": "code",
   "execution_count": 444,
   "metadata": {},
   "outputs": [],
   "source": [
    "def plotMidText(cntrPt, parentPt, txtString):\n",
    "    xMid = (parentPt[0]-cntrPt[0])/2.0 + cntrPt[0]\n",
    "    yMid = (parentPt[1]-cntrPt[1])/2.0 + cntrPt[1]\n",
    "    createPlot.ax1.text(xMid, yMid, txtString)\n",
    "    \n",
    "def plotTree(myTree, parentPt, nodeTxt):\n",
    "    numLeafs = getNumLeafs(myTree)\n",
    "    getTreeDepth(myTree)\n",
    "    firstStr = list(myTree.keys())[0]\n",
    "    cntrPt = (plotTree.xOff + (1.0 + float(numLeafs))/2.0/plotTree.totalW, plotTree.yOff)\n",
    "    plotMidText(cntrPt, parentPt, nodeTxt)\n",
    "    plotNode(firstStr, cntrPt, parentPt, decisionNode)\n",
    "    secondDict = myTree[firstStr]\n",
    "    plotTree.yOff = plotTree.yOff - 1.0/plotTree.totalD\n",
    "    for key in secondDict.keys():\n",
    "        if type(secondDict[key]).__name__=='dict':\n",
    "            plotTree(secondDict[key],cntrPt,str(key))\n",
    "        else:\n",
    "            plotTree.xOff = plotTree.xOff + 1.0/plotTree.totalW\n",
    "            plotNode(secondDict[key], (plotTree.xOff, plotTree.yOff),\n",
    "                cntrPt, leafNode)\n",
    "            plotMidText((plotTree.xOff, plotTree.yOff), cntrPt, str(key))\n",
    "    plotTree.yOff = plotTree.yOff + 1.0/plotTree.totalD\n",
    "    \n",
    "def createPlot(inTree):\n",
    "    fig = plt.figure(1, facecolor='white')\n",
    "    fig.clf()\n",
    "    axprops = dict(xticks=[], yticks=[])\n",
    "    createPlot.ax1 = plt.subplot(111, frameon=False, **axprops)\n",
    "    plotTree.totalW = float(getNumLeafs(inTree))\n",
    "    plotTree.totalD = float(getTreeDepth(inTree))\n",
    "    plotTree.xOff = -0.5/plotTree.totalW; plotTree.yOff = 1.0; plotTree(inTree, (0.5,1.0), '')\n",
    "    plt.show()"
   ]
  },
  {
   "cell_type": "code",
   "execution_count": 445,
   "metadata": {},
   "outputs": [
    {
     "data": {
      "image/png": "[encoded data removed]",
      "text/plain": [
       "<matplotlib.figure.Figure at 0x107a1f0b8>"
      ]
     },
     "metadata": {},
     "output_type": "display_data"
    }
   ],
   "source": [
    "myTree=retrieveTree(0)\n",
    "createPlot(myTree)"
   ]
  },
  {
   "cell_type": "markdown",
   "metadata": {},
   "source": [
    "### Lenses decision tree "
   ]
  },
  {
   "cell_type": "code",
   "execution_count": 452,
   "metadata": {},
   "outputs": [
    {
     "name": "stdout",
     "output_type": "stream",
     "text": [
      "[['young', 'myope', 'no', 'reduced', 'no lenses'],\n",
      " ['young', 'myope', 'no', 'normal', 'soft'],\n",
      " ['young', 'myope', 'yes', 'reduced', 'no lenses'],\n",
      " ['young', 'myope', 'yes', 'normal', 'hard'],\n",
      " ['young', 'hyper', 'no', 'reduced', 'no lenses'],\n",
      " ['young', 'hyper', 'no', 'normal', 'soft'],\n",
      " ['young', 'hyper', 'yes', 'reduced', 'no lenses'],\n",
      " ['young', 'hyper', 'yes', 'normal', 'hard'],\n",
      " ['pre', 'myope', 'no', 'reduced', 'no lenses'],\n",
      " ['pre', 'myope', 'no', 'normal', 'soft'],\n",
      " ['pre', 'myope', 'yes', 'reduced', 'no lenses'],\n",
      " ['pre', 'myope', 'yes', 'normal', 'hard'],\n",
      " ['pre', 'hyper', 'no', 'reduced', 'no lenses'],\n",
      " ['pre', 'hyper', 'no', 'normal', 'soft'],\n",
      " ['pre', 'hyper', 'yes', 'reduced', 'no lenses'],\n",
      " ['pre', 'hyper', 'yes', 'normal', 'no lenses'],\n",
      " ['presbyopic', 'myope', 'no', 'reduced', 'no lenses'],\n",
      " ['presbyopic', 'myope', 'no', 'normal', 'no lenses'],\n",
      " ['presbyopic', 'myope', 'yes', 'reduced', 'no lenses'],\n",
      " ['presbyopic', 'myope', 'yes', 'normal', 'hard'],\n",
      " ['presbyopic', 'hyper', 'no', 'reduced', 'no lenses'],\n",
      " ['presbyopic', 'hyper', 'no', 'normal', 'soft'],\n",
      " ['presbyopic', 'hyper', 'yes', 'reduced', 'no lenses'],\n",
      " ['presbyopic', 'hyper', 'yes', 'normal', 'no lenses']]\n",
      "['age', 'prescript', 'astigmatic', 'tearRate']\n"
     ]
    }
   ],
   "source": [
    "from pprint import pprint\n",
    "with open('lenses.txt', 'r') as f:\n",
    "#     for line in f:\n",
    "#         print(line.strip().split('\\t'))\n",
    "    lenses_dataset = [line.strip().split('\\t') for line in f.readlines()]\n",
    "lenses_labels = ['age', 'prescript', 'astigmatic', 'tearRate']\n",
    "\n",
    "pprint(lenses_dataset)\n",
    "print(lenses_labels)"
   ]
  },
  {
   "cell_type": "code",
   "execution_count": 455,
   "metadata": {},
   "outputs": [
    {
     "name": "stdout",
     "output_type": "stream",
     "text": [
      "{'tearRate': {'normal': {'astigmatic': {'no': {'age': {'pre': 'soft',\n",
      "                                                       'presbyopic': {'prescript': {'hyper': 'soft',\n",
      "                                                                                    'myope': 'no '\n",
      "                                                                                             'lenses'}},\n",
      "                                                       'young': 'soft'}},\n",
      "                                        'yes': {'prescript': {'hyper': {'age': {'pre': 'no '\n",
      "                                                                                       'lenses',\n",
      "                                                                                'presbyopic': 'no '\n",
      "                                                                                              'lenses',\n",
      "                                                                                'young': 'hard'}},\n",
      "                                                              'myope': 'hard'}}}},\n",
      "              'reduced': 'no lenses'}}\n"
     ]
    }
   ],
   "source": [
    "lenses_tree = createTree(lenses_dataset, lenses_labels)\n",
    "pprint(lenses_tree)"
   ]
  },
  {
   "cell_type": "code",
   "execution_count": 456,
   "metadata": {},
   "outputs": [
    {
     "data": {
      "image/png": "[encoded data removed]",
      "text/plain": [
       "<matplotlib.figure.Figure at 0x107a3c2b0>"
      ]
     },
     "metadata": {},
     "output_type": "display_data"
    }
   ],
   "source": [
    "createPlot(lenses_tree)"
   ]
  },
  {
   "cell_type": "code",
   "execution_count": null,
   "metadata": {
    "collapsed": true
   },
   "outputs": [],
   "source": []
  }
 ],
 "metadata": {
  "kernelspec": {
   "display_name": "Python 3",
   "language": "python",
   "name": "python3"
  }
 },
 "nbformat": 4,
 "nbformat_minor": 2
}
